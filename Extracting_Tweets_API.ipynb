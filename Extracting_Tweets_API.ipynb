{
 "cells": [
  {
   "cell_type": "code",
   "execution_count": 2,
   "metadata": {},
   "outputs": [
    {
     "name": "stdout",
     "output_type": "stream",
     "text": [
      "Collecting requests_oauthlib\n",
      "  Downloading https://files.pythonhosted.org/packages/c2/e2/9fd03d55ffb70fe51f587f20bcf407a6927eb121de86928b34d162f0b1ac/requests_oauthlib-1.2.0-py2.py3-none-any.whl\n",
      "Requirement already satisfied: requests>=2.0.0 in /home/mma/\u001b/lib/python3.7/site-packages (from requests_oauthlib) (2.21.0)\n",
      "Collecting oauthlib>=3.0.0 (from requests_oauthlib)\n",
      "\u001b[?25l  Downloading https://files.pythonhosted.org/packages/16/95/699466b05b72b94a41f662dc9edf87fda4289e3602ecd42d27fcaddf7b56/oauthlib-3.0.1-py2.py3-none-any.whl (142kB)\n",
      "\u001b[K    100% |████████████████████████████████| 143kB 4.8MB/s ta 0:00:01\n",
      "\u001b[?25hRequirement already satisfied: urllib3<1.25,>=1.21.1 in /home/mma/\u001b/lib/python3.7/site-packages (from requests>=2.0.0->requests_oauthlib) (1.24.1)\n",
      "Requirement already satisfied: certifi>=2017.4.17 in /home/mma/\u001b/lib/python3.7/site-packages (from requests>=2.0.0->requests_oauthlib) (2019.3.9)\n",
      "Requirement already satisfied: chardet<3.1.0,>=3.0.2 in /home/mma/\u001b/lib/python3.7/site-packages (from requests>=2.0.0->requests_oauthlib) (3.0.4)\n",
      "Requirement already satisfied: idna<2.9,>=2.5 in /home/mma/\u001b/lib/python3.7/site-packages (from requests>=2.0.0->requests_oauthlib) (2.8)\n",
      "Installing collected packages: oauthlib, requests-oauthlib\n",
      "Successfully installed oauthlib-3.0.1 requests-oauthlib-1.2.0\n"
     ]
    }
   ],
   "source": [
    "import sys #installing required packages\n",
    "!{sys.executable} -m pip install requests_oauthlib"
   ]
  },
  {
   "cell_type": "code",
   "execution_count": 1,
   "metadata": {},
   "outputs": [],
   "source": [
    "#Impporting packages\n",
    "import requests\n",
    "import bs4\n",
    "from bs4 import BeautifulSoup\n",
    "from requests_oauthlib import OAuth1"
   ]
  },
  {
   "cell_type": "code",
   "execution_count": 2,
   "metadata": {},
   "outputs": [],
   "source": [
    "#Twitter API keys\n",
    "auth_params = {\n",
    "    'app_key':'58TRDODzrnQMF8HemqnDboUpa',\n",
    "    'app_secret':'3MI9i5AWxq614SQhFOBnRwsWpcLZck1UPInncqDN1w1E3YV7KY',\n",
    "    'oauth_token':'585791758-6SQLckPdLoeDNNc80wGVR0XruSvqYtIZ7RRX3ncs',\n",
    "    'oauth_token_secret':'Mzg5Gxj3NQnaoFwlPpLmXyuqAGNUWWyOGVZKypZIvuZTN'\n",
    "}\n",
    "\n",
    "# Creating an OAuth Client connection\n",
    "auth = OAuth1 (\n",
    "    auth_params['app_key'],\n",
    "    auth_params['app_secret'],\n",
    "    auth_params['oauth_token'],\n",
    "    auth_params['oauth_token_secret']\n",
    ")"
   ]
  },
  {
   "cell_type": "code",
   "execution_count": 5,
   "metadata": {},
   "outputs": [],
   "source": [
    "url = \"https://api.twitter.com/1.1/search/tweets.json\" # API url from twitter\n",
    "q = '# UBER' # key word that we have to extract (hashtag or cashtag)\n",
    "params = {'q': q, 'count': 100, 'lang': 'en',  'result_type': 'recent'}\n",
    "results = requests.get(url,params=params,auth=auth)"
   ]
  },
  {
   "cell_type": "code",
   "execution_count": 6,
   "metadata": {},
   "outputs": [
    {
     "name": "stdout",
     "output_type": "stream",
     "text": [
      "['21 Amazing Sharing Economy Statistics Including #Airbnb, #Lyft and #Uber (.Gig Economy Stats) – Itinerarias… https://t.co/bmusqFNWn9', '21 Amazing Sharing Economy Statistics Including #Airbnb, #Lyft and #Uber (.Gig Economy Stats) – Itinerarias… https://t.co/PKtEybppjh', 'RT @TheGigLounge: Can Uber Ever Be Profitable? via @forbes https://t.co/hBMV7QaWKH. Dumb question. Yes they will be profitable. Just not fr…', '🚖Find Drivers & Taxi In India🚖\\n.\\n.\\n👉👉more detail..👉https://t.co/UrtWbqYxAa…/drivers-and-taxi\\n.\\n.\\n#taxi #travel… https://t.co/vmerO7NaDW', 'RT @TheGigLounge: Can Uber Ever Be Profitable? via @forbes https://t.co/hBMV7QaWKH. Dumb question. Yes they will be profitable. Just not fr…', 'Generate income perhaps from trading and innovate the next big thing.\\nThink out of the box.\\n.\\n.\\n.\\n.\\n.\\n#askForex100… https://t.co/HODODSRIeF', 'Can Uber Ever Be Profitable? via @forbes https://t.co/hBMV7QaWKH. Dumb question. Yes they will be profitable. Just… https://t.co/L9Ff3D4mry', 'At the end, it is about making money. Thats how a company survive. #uber\\nhttps://t.co/rkij9vQc15 https://t.co/hII5JdUXRZ', 'RT @kclivinghappy: And so what is ZERO dollar #minimumwage for #uber or #lyft drivers, #mturk or any other form of contract workers?  Neede…', \"#Uber lost $1 BILLION and Wall Street is very happy. Here's why. \\n\\nVia @DigitalTrends https://t.co/3sB2As1Gve\", \"After ruling the roads around the world, #Uber is now set to take a dive underwater. Yes, ScUber let's you share a… https://t.co/WPIYKR66lO\", 'Hungry? Get $5 off your first order on #Uber Eats with my code: eats-daniell56107ui. https://t.co/A2wm5SL7cv', 'RT @thebarkingtweet: #MondayMorning \\n\\nHonest #Uber Advertising \\n\\n#SafetyNeverStops\\n\\n#TrumpUKVisit \\n#StateVisit https://t.co/Jm5bZUByT7', 'What an amazing 1986 Mercedes SL300 #atsocialmedia #quote #NBAFinals #TrumpVisitUK #WeTheNorth #WorldBicycleDay… https://t.co/PGP7jmeMor', 'RT @thebarkingtweet: #MondayMorning \\n\\nHonest #Uber Advertising \\n\\n#SafetyNeverStops\\n\\n#TrumpUKVisit \\n#StateVisit https://t.co/Jm5bZUByT7', 'Our commercial for the week goes to @ubernigeria\\nfor promoting safety on our motor ways.\\n\\nQuote: Your safety is imp… https://t.co/FWEqsSaqWi', 'That’s how #uber keeps it cool for here in #India @ Haryana https://t.co/beLztUDSDN', 'Does Uber have any customer service?  How does one contact them. I agreed to a $51 XUber ride yesterday and my card… https://t.co/3OZSlQD4X1', 'Audi Electric Audi E-Tron SUV joins London taxi fleet has just been updated on June 3, 2019.\\n\\nA #Cab4Now Syndicatio… https://t.co/AkJYKAf2hI', 'RT @OnEdgeOfWonder: #YouTube, #Gmail were down, #Google says they are updating their algorithm, but why would that affect #Uber, #Snapchat,…', 'At just 21, #Iddris #Sandu is the tech genius behind #Uber, #Instagram and #Snapchat\\nhttps://t.co/k1CiC9XeXM https://t.co/PWoc5V06AG', 'Rival app Kapten aims to drive Uber off the road as cab price war begins\\nhttps://t.co/w3Zv1Q4vja\\n#ridesharing… https://t.co/5uff1tIRCM', 'Profit may remain elusive for #Uber, #Lyft even from using Autonomous Vehicles. :- #MIT\\n\\n#UnicornHasNoWings \\n\\nhttps://t.co/854wOOhMLL', 'RT @OnEdgeOfWonder: #YouTube, #Gmail were down, #Google says they are updating their algorithm, but why would that affect #Uber, #Snapchat,…', 'Toronto Raptors and Pride Month for Uber 🇨🇦👍🏻 #TorontoRaptors #PrideMonth #Uber https://t.co/QArdXSjR59', 'I got the #uber driver blowing lights and eating #edibles.', \"Headin' to Amon G. Carter Stadium ? Go for free w/ Lyft! $50 Lyft ride credit, Use Code PIX #stadium #sports #uber #Lyft\", 'the success of the exiting #impactinvesting #IPO of #BYND @BeyondMeat explained: #ethical #responsible #sustainable… https://t.co/M8tLBsSEkW', 'Here’s my #Fav4 #tech & #innovation news bites edition 52. #Uber will start de-activating problem drivers w/ below-… https://t.co/xGY0S06GCL', '@UberINSupport @Uber_India @uber #uber can someone from uber support please explain why there is a charge of 376 Ru… https://t.co/slQyjw53lB', 'RT @OnEdgeOfWonder: #YouTube, #Gmail were down, #Google says they are updating their algorithm, but why would that affect #Uber, #Snapchat,…', 'My uber driver is so quiet. #Uber #SaySomething', '@UberINSupport @Uber_India @uber #uber Raised a complaint 10 days back. Still waiting for your reply. \\n\\nIssue was U… https://t.co/GTntQ4NZ9D', 'If you want to take a #FREE ride or food with #Uber 🚘 or #Lyft 🎈\\nI HAVE #PROMO #CODES FOR YOU\\n#UberEATS 🍽 : UE-SARA… https://t.co/EV1FXrjY04', 'RT @thebarkingtweet: #MondayMorning \\n\\nHonest #Uber Advertising \\n\\n#SafetyNeverStops\\n\\n#TrumpUKVisit \\n#StateVisit https://t.co/Jm5bZUByT7', 'Visiting Dallas ? Get around free w/ Lyft - 10 free rides w/ Lyft Promo Code:  OATH #travel #uber #Lyft #free', 'Want a free ride to RossinAde Stadium ? Go free w/ Lyft - $50 Lyft credit for new users w/ Promo CODE DUSK #freeLyft #Lyft #stadium #uber', 'Uber said new stricter licensing tests for Glasgow taxi and private hire drivers could force passengers into unlice… https://t.co/fzCC2i87um', \"'“Our story is simple. We’re the global player,” Khosrowshahi told analysts on his first earnings call after the co… https://t.co/vrZjfBXgoj\", 'New #podcast for #Uber #Lyft #DoorDash drivers AND riders!\\n\\n#rideshare #gigeconomy #sidehustle #ubereats… https://t.co/xA7bgYVlRV', 'RT @ETPrime_com: #Uber reported a whopping USD1 billion loss yesterday. Will it ever achieve profitability? Check out this #freeread, where…', 'RT @LondonTrafficW1: 🆘 DANGER 🆘 Sent to us by one of our #Cylist followers 🚲. A @TfLTPH licensed #Uber style #MiniCab was travelling the wr…', '#Uber Rebound Unlikely As Growth Slows, Losses Widen - https://t.co/OuFp5nGxDQ', 'From tiny acorns do giants oaks make #uber https://t.co/jjHZaxQ8bZ', 'RT @RollsBoyce: So @UberUK think it’s fine to charge £368 last night in Liverpool for a 4 mile journey because of the #ChampionsLeagueFinal…', 'In Phoenix, Arizona ? $50 Free Lyft ride credit w/ Lyft Promo Code PLEX #freeLyft #uber #Lyft', 'I deliver with @Uber to make money on my own schedule & you can too. Use my link and you could qualify for $155 gua… https://t.co/4ABxIF05fx', 'RT @FluperOfficial: Uber’s first earnings report as a public company shows that while its revenue is higher than last year’s\\n\\nRead Must For…', '@olamoney_in @ola_supports @Ola_Mumbai your team does a #whitecollarcrime #fraud #strategic #theft #rbi #uber #mumbai #india', 'right ! but How many #dharna protest /letters to the editor ~ woman work force ? in olden days A  #sardar ( sikh )… https://t.co/Ec4yA5q9oA', 'Going to Britt Bash in Jacksonville, Oregon? Go totally free with $50 Lyft credit Get Lyft & Use Code NUMB #uber #Lyft #music #Bash', 'Can Uber Ever Be Profitable?\\nhttps://t.co/IzeEMARgmd\\n#ridesharing #ridehailing #transport #technews #technology… https://t.co/MA6uqq4nL1', 'Every airport should have ditrvtionas clear and large as those found at Atlanta International Airport #phdlife spea… https://t.co/8Avri1vo7d', 'RT @Ayeshamxnz: In today’s #Uber diaries, the driver said “Allah apko khush rakhay” while I was getting off and it made my mood so much bet…', 'RT @DanitaBlackwood: Uber to Launch an Updated Panic Button for Some California Riders https://t.co/u7mXC12RU6 @govtechnews #Uber #safety #…', 'RT @pymnts: #Uber’s growth slows sharply: https://t.co/ss9Sg9eFxk', \"Get your free lyft ride enter promo code MIGUELT it's the most affordable ride in town lyftpromo not #uber\", '@Uber funny that #Glasgow #Uber drivers phone you to check your destination then cancel the job. Absolutely shocking service.', '#Uber’s growth slows sharply: https://t.co/ss9Sg9eFxk', 'The gig is up: America’s booming economy is built on hollow promises. #RobertReich #GigWork #Economy #Uber #Google… https://t.co/b5b43lcLBX', 'The gig is up: America’s booming economy is built on hollow promises. #RobertReich #GigWork #Economy #Uber #Google… https://t.co/Nc9Io3C1qX', 'ICC Worldcup Prize Distribution | Phase 2\\n#ICC #Worldcup #2K19 #Uber #Pakistan #Hashmism — at Uber Greenlight Hub I… https://t.co/snGhZrsqFL', \"What Uber's disappointing IPO means for other tech IPOs this year https://t.co/wW31yOVTQK  #hyphen #hyphenpro #uber\", \"#Uber has the worst customer service I've seen in a while. Support is full of loops and road blocks. Hard to reach.… https://t.co/g9HSOGk8Kh\", 'RT @CMARIXTechLabs: Key takeaways for startups thinking to develop a ride-sharing app! https://t.co/AIC26DVJj7 #ridesharingapp #ridesharing…', \"#Uber drivers that won't put their seats down for parcels.\\n\\nAbsolute cancer\"]\n"
     ]
    }
   ],
   "source": [
    "tweets = results.json() #results as JSON file\n",
    "# JSON file parsing using BeautifulSoup\n",
    "messages = [BeautifulSoup(tweet['text'], 'html5lib').get_text() for tweet in tweets['statuses']]\n",
    "print(messages) # tweets for above mentioneed hashtag"
   ]
  },
  {
   "cell_type": "code",
   "execution_count": null,
   "metadata": {},
   "outputs": [],
   "source": []
  }
 ],
 "metadata": {
  "kernelspec": {
   "display_name": "Python 3",
   "language": "python",
   "name": "python3"
  },
  "language_info": {
   "codemirror_mode": {
    "name": "ipython",
    "version": 3
   },
   "file_extension": ".py",
   "mimetype": "text/x-python",
   "name": "python",
   "nbconvert_exporter": "python",
   "pygments_lexer": "ipython3",
   "version": "3.7.3"
  }
 },
 "nbformat": 4,
 "nbformat_minor": 2
}
