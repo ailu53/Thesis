{
 "cells": [
  {
   "cell_type": "code",
   "execution_count": 1,
   "metadata": {},
   "outputs": [],
   "source": [
    "# This document/.ipynb file was originaly created by Sacha Dubrulle in Python 2 \n",
    "# and further worked upon and converted to Python 3 by Thomas Valcke.\n",
    "# This notebook has been converted to Python 3 because the syntax changed with Python 3.\n",
    "# In this notebook a lot of files are required to make everything work but this file Runs 100% localy.\n",
    "# When run on the server there was 1 Cell that did not work \n",
    "# ==> filtered_df.select(\"tweet_id_str\").repartition(14*14).write.parquet(\"D:/School/STAGE_BP/ipo/final_filter_batch.parquet\", mode = \"overwrite\")\n",
    "# The reason for this cell not working is still unkown."
   ]
  },
  {
   "cell_type": "code",
   "execution_count": 2,
   "metadata": {},
   "outputs": [],
   "source": [
    "# from py4j.java_gateway import JavaGateway, GatewayParameters\n",
    "# gateway = JavaGateway(gateway_parameters=GatewayParameters(port=25333))\n",
    "\n",
    "# The code above was used to fix an error but sometimes the errors can be misleading and the gateway error was a triggerd by the Out of memmory error..."
   ]
  },
  {
   "cell_type": "markdown",
   "metadata": {},
   "source": [
    "# <span style = 'color:darkred'> Notebook structure </span style>"
   ]
  },
  {
   "cell_type": "markdown",
   "metadata": {},
   "source": [
    "- ### <a href=#imports> Imports & settings </a>\n",
    "- ### <a href=#read_in> Reading in all tweets </a>\n",
    "- ### <a href=#time_distr> Distribution over time </a>\n",
    "- ### <a href=#filter> Filter for relevant tweets </a>"
   ]
  },
  {
   "cell_type": "markdown",
   "metadata": {},
   "source": [
    "# <span style = 'color:darkred'> Imports & notebook settings </span style> <a name='imports' />"
   ]
  },
  {
   "cell_type": "code",
   "execution_count": 3,
   "metadata": {},
   "outputs": [
    {
     "data": {
      "text/html": [
       "<style>.container { width:100% !important; }</style>"
      ],
      "text/plain": [
       "<IPython.core.display.HTML object>"
      ]
     },
     "metadata": {},
     "output_type": "display_data"
    }
   ],
   "source": [
    "\n",
    "from IPython.core.display import display, HTML\n",
    "display(HTML(\"<style>.container { width:100% !important; }</style>\"))"
   ]
  },
  {
   "cell_type": "code",
   "execution_count": 4,
   "metadata": {
    "scrolled": true
   },
   "outputs": [
    {
     "name": "stdout",
     "output_type": "stream",
     "text": [
      "SparkSession initialized\n"
     ]
    }
   ],
   "source": [
    "# Python imports\n",
    "get_ipython().run_line_magic('matplotlib', 'inline')\n",
    "import matplotlib.pyplot as plt\n",
    "from matplotlib.dates import YearLocator, DateFormatter, MonthLocator\n",
    "import glob\n",
    "import numpy as np\n",
    "\n",
    "import pandas as pd\n",
    "\n",
    "# Spark imports\n",
    "from pyspark.sql.functions import udf, year, month, dayofmonth, explode, lower, regexp_extract, split, upper\n",
    "from pyspark.sql.types import *\n",
    "import time\n",
    "import datetime\n",
    "import pyspark\n",
    "\n",
    "from pyspark.sql import SQLContext, SparkSession\n",
    "\n",
    "try:\n",
    "    sc = pyspark.SparkContext(appName = 'App')\n",
    "    spark = SparkSession(sparkContext=sc)\n",
    "    print(\"SparkSession initialized\")\n",
    "except ValueError:\n",
    "    print(\"SparkSession already initialized\")"
   ]
  },
  {
   "cell_type": "code",
   "execution_count": 5,
   "metadata": {},
   "outputs": [],
   "source": [
    "\n",
    "colors = {\"orange\": np.array([255,128,14], dtype = np.float16),\n",
    "          \"blue\": np.array([0,107,164], dtype = np.float16),\n",
    "          \"green\": np.array([44, 160, 44], dtype = np.float16)\n",
    "         }\n",
    "\n",
    "for k in list(colors.keys()):\n",
    "    colors[k] = np.divide(colors[k], 255)"
   ]
  },
  {
   "cell_type": "markdown",
   "metadata": {},
   "source": [
    "# <span style = 'color:darkred'> Reading in tweets </span style> <a name='read_in'/>"
   ]
  },
  {
   "cell_type": "code",
   "execution_count": 6,
   "metadata": {},
   "outputs": [
    {
     "name": "stdout",
     "output_type": "stream",
     "text": [
      "The original columns were: ['contributors', 'coordinates', 'created_at', 'entities', 'extended_entities', 'favorite_count', 'favorited', 'filter_level', 'geo', 'id', 'id_str', 'in_reply_to_screen_name', 'in_reply_to_status_id', 'in_reply_to_status_id_str', 'in_reply_to_user_id', 'in_reply_to_user_id_str', 'is_quote_status', 'lang', 'place', 'possibly_sensitive', 'quoted_status', 'quoted_status_id', 'quoted_status_id_str', 'retweet_count', 'retweeted', 'retweeted_status', 'scopes', 'source', 'text', 'timestamp_ms', 'truncated', 'user', 'withheld_in_countries']\n"
     ]
    }
   ],
   "source": [
    "#(spark.read.json(\"/mnt/bdata1/twitter/archief/ipo/tweets/*.json\")) Or the bdata4 location\n",
    "df = (spark.read.json(\"D:/School/STAGE_BP/testSCP/tweets/201603*.json\"))# .StorageLevel(True, True, False, False, 1) ## just trying to change storage level.\n",
    " \n",
    "original_columns = df.columns\n",
    "df = (df.withColumnRenamed(\"id_str\", \"tweet_id_str\") #rename to avoid confusion with user_id, retweet_id, ...\n",
    "        .withColumn(\"user_id_str\", df.user.id_str) \n",
    "    )\n",
    "\n",
    "print(\"The original columns were: {}\".format(original_columns))\n"
   ]
  },
  {
   "cell_type": "code",
   "execution_count": 7,
   "metadata": {},
   "outputs": [
    {
     "data": {
      "text/plain": [
       "116400"
      ]
     },
     "execution_count": 7,
     "metadata": {},
     "output_type": "execute_result"
    }
   ],
   "source": [
    "df.count()\n"
   ]
  },
  {
   "cell_type": "markdown",
   "metadata": {},
   "source": [
    "# <span style = 'color:darkred'> Distribution over time </span style> <a name='time_distr'/>"
   ]
  },
  {
   "cell_type": "code",
   "execution_count": 8,
   "metadata": {},
   "outputs": [
    {
     "name": "stdout",
     "output_type": "stream",
     "text": [
      "The data ranges from 2016-03-30 until 2016-03-31\n",
      "There are 0 missing dates\n"
     ]
    }
   ],
   "source": [
    "# user defined function to strip date from created_at field, which originally is a string representation of datetime\n",
    "udf_strip_pattern = udf(lambda string: (datetime.datetime.strptime(string, \"%a %b %d %H:%M:%S +0000 %Y\")).date(), DateType())\n",
    "\n",
    "# create dataframe containing only a data per tweet\n",
    "tweetcount_per_date = df.select(udf_strip_pattern(\"created_at\").alias(\"date\")).groupBy(\"date\").count()\n",
    "\n",
    "# cast dataframe to pandas for plotting\n",
    "counts_pandas = tweetcount_per_date.toPandas()\n",
    "\n",
    "# insert missing dates with a count equal to 0 to have them appearing in the plot as well\n",
    "first_date = min(counts_pandas[\"date\"])\n",
    "last_date = max(counts_pandas[\"date\"])\n",
    "print(\"The data ranges from {} until {}\".format(first_date, last_date))\n",
    "dates_list = counts_pandas[\"date\"].tolist()\n",
    "missing_dates_and_counts = []\n",
    "for i in dates_list:\n",
    "    if i < last_date and i + datetime.timedelta(days = 1) not in dates_list:\n",
    "        #print \"Missing date: {}\".format(i + datetime.timedelta(days = 1 ))\n",
    "        dates_list.append(i + datetime.timedelta(days = 1))\n",
    "        missing_dates_and_counts.append([i + datetime.timedelta(days = 1 ), 0])\n",
    "print(\"There are {} missing dates\".format(len(missing_dates_and_counts)))\n",
    "missing_pandas = pd.DataFrame(missing_dates_and_counts, columns = [\"date\", \"count\"])\n",
    "\n",
    "# concatenate available and missing data to one pandas dataframe for plotting\n",
    "full_counts_per_date = pd.concat([counts_pandas, missing_pandas], axis = 0).reset_index(drop = True).sort_values(\"date\", ascending = True)\n"
   ]
  },
  {
   "cell_type": "code",
   "execution_count": 9,
   "metadata": {
    "scrolled": true
   },
   "outputs": [
    {
     "data": {
      "text/plain": [
       "[<matplotlib.lines.Line2D at 0x2785571bbe0>]"
      ]
     },
     "execution_count": 9,
     "metadata": {},
     "output_type": "execute_result"
    },
    {
     "data": {
      "image/png": "[encoded data removed]",
      "text/plain": [
       "<matplotlib.figure.Figure at 0x278556bdb38>"
      ]
     },
     "metadata": {},
     "output_type": "display_data"
    }
   ],
   "source": [
    "# plot tweet_count per date\n",
    "fig = plt.figure(figsize = (30,7))\n",
    "ax = fig.add_subplot(111)\n",
    "ax.xaxis.set_minor_locator(MonthLocator())\n",
    "\n",
    "plt.hlines(y = 200000, xmin = first_date, xmax = last_date, linestyles = \"dashed\", color = colors[\"orange\"])\n",
    "plt.title(\"Tweets per day\")\n",
    "plt.plot(full_counts_per_date[\"date\"], full_counts_per_date[\"count\"], \".\", color = colors[\"blue\"])\n",
    "\n"
   ]
  },
  {
   "cell_type": "markdown",
   "metadata": {},
   "source": [
    "# <span style = 'color:darkred'> Filter for relevant tweets, i.e. related to IPOs </span style> <a name='filter'/>"
   ]
  },
  {
   "cell_type": "code",
   "execution_count": 10,
   "metadata": {},
   "outputs": [],
   "source": [
    "with open(\"company_names.txt\", \"r\") as f:\n",
    "    companies_list = f.readlines()\n",
    "    companies_list = [x.replace(\"\\n\", \"\").lower() for x in companies_list]"
   ]
  },
  {
   "cell_type": "code",
   "execution_count": 11,
   "metadata": {},
   "outputs": [],
   "source": [
    "def contains_company_name(text_column):\n",
    "    company_mentions = 0\n",
    "    for i in companies_list:\n",
    "        # strip spaces out of tweets\n",
    "        if i in text_column.replace(\" \", \"\"):\n",
    "            company_mentions += 1\n",
    "    return company_mentions\n",
    "\n",
    "udf_contains_company_name = udf(contains_company_name, \n",
    "                                IntegerType())"
   ]
  },
  {
   "cell_type": "code",
   "execution_count": 12,
   "metadata": {},
   "outputs": [],
   "source": [
    "# returns 0 if column is empty (no regexp match found), 1 otherwise (at least one regexp match found)\n",
    "def non_empty_column(ipo_cashtag_column):\n",
    "    if len(ipo_cashtag_column) > 0:\n",
    "        return 1\n",
    "    else:\n",
    "        return 0\n",
    "\n",
    "non_empty_column_udf = udf(non_empty_column)\n",
    "\n",
    "# REGEX to extract tickers or presence of IPO\n",
    "cashtag_expression = '\\$[a-z]{1,6}'\n",
    "ipo_expression = ' #ipo | ipo '\n",
    "\n",
    "augmented_df = (df.select(\"tweet_id_str\", \"text\", lower(df.text).alias(\"text_lower\"))\n",
    "                  .select(\"*\", \n",
    "                           non_empty_column_udf(regexp_extract('text_lower', ipo_expression, 0)).alias(\"contains_ipo\"),\n",
    "                           non_empty_column_udf(regexp_extract('text_lower', cashtag_expression, 0)).alias(\"contains_cashtag\"),\n",
    "                           udf_contains_company_name(\"text_lower\").alias(\"contains_company_name\")\n",
    "                          )\n",
    "               )\n",
    "\n",
    "filtered_df = augmented_df.filter((augmented_df.contains_ipo == 1) | \n",
    "                                  (augmented_df.contains_cashtag == 1) | \n",
    "                                  (augmented_df.contains_company_name == 1)\n",
    "                                 )"
   ]
  },
  {
   "cell_type": "code",
   "execution_count": null,
   "metadata": {},
   "outputs": [],
   "source": []
  },
  {
   "cell_type": "code",
   "execution_count": 13,
   "metadata": {},
   "outputs": [
    {
     "data": {
      "text/plain": [
       "[Row(tweet_id_str='715590263599706112', text='Helpful tips for setting up your finance &amp; accounting\\nfor success as a public company: https://t.co/YUu1mTRaAM #IPO https://t.co/ZssswxCPsg', contains_ipo='1', contains_cashtag='0', contains_company_name=0),\n",
       " Row(tweet_id_str='715590277298319360', text='#TexasValues in 2 Soldiers in their after-service book, Lessons Learned. Go Bold or Go Home  Listen: https://t.co/KAIZAv0yHP', contains_ipo='0', contains_cashtag='0', contains_company_name=1),\n",
       " Row(tweet_id_str='715647680878350336', text=\"RT @CraziestSex: idc if we haven't spoken in a while if you text me bc you need advice or simply a friend to talk to, I'll be here. I'm jus…\", contains_ipo='0', contains_cashtag='0', contains_company_name=1),\n",
       " Row(tweet_id_str='715647697156329472', text='RT @VIZIO: Introducing the 2016 VIZIO SmartCast™ P-Series with @GoogleCast built-in &amp; 6” Tablet Remote. https://t.co/FhOeRu3DYD https://t.c…', contains_ipo='0', contains_cashtag='0', contains_company_name=1),\n",
       " Row(tweet_id_str='715647718203338752', text='RT @VIZIO: The 2016 VIZIO SmartCast™ P-Series Home Theater Display is designed to redefine. See more: https://t.co/FhOeRu3DYD https://t.co/…', contains_ipo='0', contains_cashtag='0', contains_company_name=1),\n",
       " Row(tweet_id_str='715647755301990400', text=\"RT @CraziestSex: idc if we haven't spoken in a while if you text me bc you need advice or simply a friend to talk to, I'll be here. I'm jus…\", contains_ipo='0', contains_cashtag='0', contains_company_name=1),\n",
       " Row(tweet_id_str='715647791821787137', text='Join the HSN team! See our latest #CustomerService #job opening here: https://t.co/4UNxIcapJD #BowlingGreen, OH #Hiring #CareerArc', contains_ipo='0', contains_cashtag='0', contains_company_name=1),\n",
       " Row(tweet_id_str='715554487319072768', text='RT @BeyazToroscular: Diyarbakır otogarı karşısında ki polis kontrol noktasına araçla canlı bomba saldırısı oldu.\\n\\n#Jitem https://t.co/siMoC…', contains_ipo='0', contains_cashtag='0', contains_company_name=1),\n",
       " Row(tweet_id_str='715554515286626305', text='RT @andrealionne: ⏩ RT si tu veux venir TIRER ta Lionne et voir si elle revient avec ou sans sa @petite_culotte Hum … ⏪ https://t.co/FnIlkh…', contains_ipo='0', contains_cashtag='0', contains_company_name=1),\n",
       " Row(tweet_id_str='715554515488006145', text='Helpful tips for setting up your finance &amp; accounting\\nfor success as a public company: https://t.co/QXeoCUF5z7 #IPO https://t.co/mbE8C2lDQx', contains_ipo='1', contains_cashtag='0', contains_company_name=0),\n",
       " Row(tweet_id_str='715554522601549824', text='RT @codedungeon: Hey there Windows users, what are you using to edit markdown?  Looking for a tool that can access @dropbox so I can share…', contains_ipo='0', contains_cashtag='0', contains_company_name=1),\n",
       " Row(tweet_id_str='715554531640213504', text='RT @Lasexyblonde: @mapicastello mi mapi bella con todo mi amor para ti❤️👇😍😍 FELICIDADES 🎂🎉🍷🎈🎁💃💃💃 https://t.co/YxBIB0aHfQ', contains_ipo='0', contains_cashtag='0', contains_company_name=1),\n",
       " Row(tweet_id_str='715550807115100160', text='RT @TurkmenCephesi_: Diyarbakır otogarı karşısındaki polis kontrol noktasına araçla canlı bomba saldırısı oldu. https://t.co/TgSaG3lRCi', contains_ipo='0', contains_cashtag='0', contains_company_name=1),\n",
       " Row(tweet_id_str='715550835112075264', text='New Preferred Stock IPOs, March 2016 #IPO https://t.co/XplfTCPgCx', contains_ipo='1', contains_cashtag='0', contains_company_name=0),\n",
       " Row(tweet_id_str='715578409565421569', text=\"A l'@artssantamonica té lloc ara mateix un homenatge a l'escriptora Antònia Vicens, #PremiNacionaldeCultura\", contains_ipo='0', contains_cashtag='0', contains_company_name=1),\n",
       " Row(tweet_id_str='715578445728587776', text=\"RT @accvracy: idc if we haven't spoken in a while if you text me bc you need advice or simply a friend to talk to, I'll be here. I'm just t…\", contains_ipo='0', contains_cashtag='0', contains_company_name=1),\n",
       " Row(tweet_id_str='715594042373980160', text=\"RT @YungStrapHoe: Don't Hmu When You Have Nobody El$e To Talk To Bc Ima Curve Tf Outta You 💯\", contains_ipo='0', contains_cashtag='1', contains_company_name=0),\n",
       " Row(tweet_id_str='715594062061932544', text='Sundry fructuous tip and advice during an pump relating to the enjoyer: izfQnYDv', contains_ipo='0', contains_cashtag='0', contains_company_name=1),\n",
       " Row(tweet_id_str='715618965645631488', text=\"if I ever spent bread on you at all, helped you when you needed it, gave advice, any of that .. you can't tell me shit. idc, stfu\", contains_ipo='0', contains_cashtag='0', contains_company_name=1),\n",
       " Row(tweet_id_str='715618967193264128', text='RT @3DFilaPrint: This modified ABS can be used in #food-packaging and #medical devices: https://t.co/ITQy78NOLY #3DPrinting #design https:/…', contains_ipo='0', contains_cashtag='0', contains_company_name=1),\n",
       " Row(tweet_id_str='715618970691186688', text=\"That's my face, tf is this lol https://t.co/5stqtGKLOX\", contains_ipo='0', contains_cashtag='0', contains_company_name=1),\n",
       " Row(tweet_id_str='715619013523537920', text='#WaaS, world as a service, planeettojen Uber.', contains_ipo='0', contains_cashtag='0', contains_company_name=1),\n",
       " Row(tweet_id_str='715619042573287424', text='@BaatYeHaK wow. I mean agar hum hraengy tu hum kitny khush hongy. Like woahhhh. *Goosebumps*', contains_ipo='0', contains_cashtag='0', contains_company_name=1),\n",
       " Row(tweet_id_str='715619051146387456', text='RT @mumbaiheritage: Today in 1964, Mumbai saw its last Tram journey. BEST Co. started Tram service in Bombay in 1874. \\nPic-TimesContent htt…', contains_ipo='0', contains_cashtag='0', contains_company_name=1),\n",
       " Row(tweet_id_str='715619053230903296', text='RT @mumbaiheritage: Today in 1964, Mumbai saw its last Tram journey. BEST Co. started Tram service in Bombay in 1874. \\nPic-TimesContent htt…', contains_ipo='0', contains_cashtag='0', contains_company_name=1),\n",
       " Row(tweet_id_str='715619055009312769', text='RT @mumbaiheritage: Today in 1964, Mumbai saw its last Tram journey. BEST Co. started Tram service in Bombay in 1874. \\nPic-TimesContent htt…', contains_ipo='0', contains_cashtag='0', contains_company_name=1),\n",
       " Row(tweet_id_str='715619056397582337', text='RT @mumbaiheritage: Today in 1964, Mumbai saw its last Tram journey. BEST Co. started Tram service in Bombay in 1874. \\nPic-TimesContent htt…', contains_ipo='0', contains_cashtag='0', contains_company_name=1),\n",
       " Row(tweet_id_str='715619056385064960', text='RT @mumbaiheritage: Today in 1964, Mumbai saw its last Tram journey. BEST Co. started Tram service in Bombay in 1874. \\nPic-TimesContent htt…', contains_ipo='0', contains_cashtag='0', contains_company_name=1),\n",
       " Row(tweet_id_str='715619056405983232', text='RT @mumbaiheritage: Today in 1964, Mumbai saw its last Tram journey. BEST Co. started Tram service in Bombay in 1874. \\nPic-TimesContent htt…', contains_ipo='0', contains_cashtag='0', contains_company_name=1),\n",
       " Row(tweet_id_str='715619056397594625', text='RT @mumbaiheritage: Today in 1964, Mumbai saw its last Tram journey. BEST Co. started Tram service in Bombay in 1874. \\nPic-TimesContent htt…', contains_ipo='0', contains_cashtag='0', contains_company_name=1),\n",
       " Row(tweet_id_str='715619056393388032', text='RT @mumbaiheritage: Today in 1964, Mumbai saw its last Tram journey. BEST Co. started Tram service in Bombay in 1874. \\nPic-TimesContent htt…', contains_ipo='0', contains_cashtag='0', contains_company_name=1),\n",
       " Row(tweet_id_str='715619056368267264', text='RT @mumbaiheritage: Today in 1964, Mumbai saw its last Tram journey. BEST Co. started Tram service in Bombay in 1874. \\nPic-TimesContent htt…', contains_ipo='0', contains_cashtag='0', contains_company_name=1),\n",
       " Row(tweet_id_str='715619056389230592', text='RT @mumbaiheritage: Today in 1964, Mumbai saw its last Tram journey. BEST Co. started Tram service in Bombay in 1874. \\nPic-TimesContent htt…', contains_ipo='0', contains_cashtag='0', contains_company_name=1),\n",
       " Row(tweet_id_str='715619056414384128', text='RT @mumbaiheritage: Today in 1964, Mumbai saw its last Tram journey. BEST Co. started Tram service in Bombay in 1874. \\nPic-TimesContent htt…', contains_ipo='0', contains_cashtag='0', contains_company_name=1),\n",
       " Row(tweet_id_str='715619056376614912', text='RT @mumbaiheritage: Today in 1964, Mumbai saw its last Tram journey. BEST Co. started Tram service in Bombay in 1874. \\nPic-TimesContent htt…', contains_ipo='0', contains_cashtag='0', contains_company_name=1),\n",
       " Row(tweet_id_str='715619056405970944', text='RT @mumbaiheritage: Today in 1964, Mumbai saw its last Tram journey. BEST Co. started Tram service in Bombay in 1874. \\nPic-TimesContent htt…', contains_ipo='0', contains_cashtag='0', contains_company_name=1),\n",
       " Row(tweet_id_str='715619056426946560', text='RT @mumbaiheritage: Today in 1964, Mumbai saw its last Tram journey. BEST Co. started Tram service in Bombay in 1874. \\nPic-TimesContent htt…', contains_ipo='0', contains_cashtag='0', contains_company_name=1),\n",
       " Row(tweet_id_str='715619056372424705', text='RT @mumbaiheritage: Today in 1964, Mumbai saw its last Tram journey. BEST Co. started Tram service in Bombay in 1874. \\nPic-TimesContent htt…', contains_ipo='0', contains_cashtag='0', contains_company_name=1),\n",
       " Row(tweet_id_str='715619056410169344', text='RT @mumbaiheritage: Today in 1964, Mumbai saw its last Tram journey. BEST Co. started Tram service in Bombay in 1874. \\nPic-TimesContent htt…', contains_ipo='0', contains_cashtag='0', contains_company_name=1),\n",
       " Row(tweet_id_str='715619056485683200', text='RT @mumbaiheritage: Today in 1964, Mumbai saw its last Tram journey. BEST Co. started Tram service in Bombay in 1874. \\nPic-TimesContent htt…', contains_ipo='0', contains_cashtag='0', contains_company_name=1),\n",
       " Row(tweet_id_str='715619056422748160', text='RT @mumbaiheritage: Today in 1964, Mumbai saw its last Tram journey. BEST Co. started Tram service in Bombay in 1874. \\nPic-TimesContent htt…', contains_ipo='0', contains_cashtag='0', contains_company_name=1),\n",
       " Row(tweet_id_str='715619056414359552', text='RT @mumbaiheritage: Today in 1964, Mumbai saw its last Tram journey. BEST Co. started Tram service in Bombay in 1874. \\nPic-TimesContent htt…', contains_ipo='0', contains_cashtag='0', contains_company_name=1),\n",
       " Row(tweet_id_str='715619056422772736', text='RT @mumbaiheritage: Today in 1964, Mumbai saw its last Tram journey. BEST Co. started Tram service in Bombay in 1874. \\nPic-TimesContent htt…', contains_ipo='0', contains_cashtag='0', contains_company_name=1),\n",
       " Row(tweet_id_str='715619056397582338', text='RT @mumbaiheritage: Today in 1964, Mumbai saw its last Tram journey. BEST Co. started Tram service in Bombay in 1874. \\nPic-TimesContent htt…', contains_ipo='0', contains_cashtag='0', contains_company_name=1),\n",
       " Row(tweet_id_str='715619056452153344', text='RT @mumbaiheritage: Today in 1964, Mumbai saw its last Tram journey. BEST Co. started Tram service in Bombay in 1874. \\nPic-TimesContent htt…', contains_ipo='0', contains_cashtag='0', contains_company_name=1),\n",
       " Row(tweet_id_str='715619056372441088', text='RT @mumbaiheritage: Today in 1964, Mumbai saw its last Tram journey. BEST Co. started Tram service in Bombay in 1874. \\nPic-TimesContent htt…', contains_ipo='0', contains_cashtag='0', contains_company_name=1),\n",
       " Row(tweet_id_str='715619056376623104', text='RT @mumbaiheritage: Today in 1964, Mumbai saw its last Tram journey. BEST Co. started Tram service in Bombay in 1874. \\nPic-TimesContent htt…', contains_ipo='0', contains_cashtag='0', contains_company_name=1),\n",
       " Row(tweet_id_str='715619056393461760', text='RT @mumbaiheritage: Today in 1964, Mumbai saw its last Tram journey. BEST Co. started Tram service in Bombay in 1874. \\nPic-TimesContent htt…', contains_ipo='0', contains_cashtag='0', contains_company_name=1),\n",
       " Row(tweet_id_str='715619056393400320', text='RT @mumbaiheritage: Today in 1964, Mumbai saw its last Tram journey. BEST Co. started Tram service in Bombay in 1874. \\nPic-TimesContent htt…', contains_ipo='0', contains_cashtag='0', contains_company_name=1),\n",
       " Row(tweet_id_str='715619057345503232', text='RT @mumbaiheritage: Today in 1964, Mumbai saw its last Tram journey. BEST Co. started Tram service in Bombay in 1874. \\nPic-TimesContent htt…', contains_ipo='0', contains_cashtag='0', contains_company_name=1)]"
      ]
     },
     "execution_count": 13,
     "metadata": {},
     "output_type": "execute_result"
    }
   ],
   "source": [
    "#filtered_augmented_df.drop(\"text_lower\").take(50)\n",
    "filtered_df.drop(\"text_lower\").take(50)"
   ]
  },
  {
   "cell_type": "code",
   "execution_count": 14,
   "metadata": {
    "scrolled": true
   },
   "outputs": [],
   "source": [
    "#filtered_augmented_df.select(\"tweet_id_str\").repartition(14*14).write.parquet(\"final_filter_batch.parquet\", mode = \"overwrite\")\n",
    "filtered_df.select(\"tweet_id_str\").repartition(14*14).write.parquet(\"D:/School/STAGE_BP/ipo/final_filter_batch.parquet\", mode = \"overwrite\")"
   ]
  },
  {
   "cell_type": "code",
   "execution_count": null,
   "metadata": {},
   "outputs": [],
   "source": []
  },
  {
   "cell_type": "code",
   "execution_count": null,
   "metadata": {},
   "outputs": [],
   "source": []
  },
  {
   "cell_type": "code",
   "execution_count": null,
   "metadata": {},
   "outputs": [],
   "source": []
  },
  {
   "cell_type": "code",
   "execution_count": null,
   "metadata": {},
   "outputs": [],
   "source": []
  },
  {
   "cell_type": "code",
   "execution_count": null,
   "metadata": {},
   "outputs": [],
   "source": []
  }
 ],
 "metadata": {
  "kernelspec": {
   "display_name": "Python 3",
   "language": "python",
   "name": "python3"
  },
  "language_info": {
   "codemirror_mode": {
    "name": "ipython",
    "version": 3
   },
   "file_extension": ".py",
   "mimetype": "text/x-python",
   "name": "python",
   "nbconvert_exporter": "python",
   "pygments_lexer": "ipython3",
   "version": "3.6.4"
  }
 },
 "nbformat": 4,
 "nbformat_minor": 2
}
