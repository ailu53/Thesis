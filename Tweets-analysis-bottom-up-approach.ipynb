{
 "cells": [
  {
   "cell_type": "code",
   "execution_count": 0,
   "metadata": {
    "colab": {},
    "colab_type": "code",
    "id": "YCz13WDZR2Mz"
   },
   "outputs": [],
   "source": [
    "# This document/.ipynb file was originaly created by Sacha Dubrulle in Python 2 \n",
    "# and further worked upon and converted to Python 3 by Thomas Valcke.\n",
    "# This notebook has been converted to Python 3 because the syntax changed with Python 3.\n",
    "# In this notebook a lot of files are required to make everything work but this file Runs 100% localy.\n",
    "# When run on the server there was 1 Cell that did not work \n",
    "# ==> df.filter(df.text.contains(\"Viking Therapeutics\")).collect()\n",
    "# The reason for this cell not working is still unkown."
   ]
  },
  {
   "cell_type": "markdown",
   "metadata": {
    "colab_type": "text",
    "id": "ovkAkdCZR2M4"
   },
   "source": [
    "# <span style = 'color:darkred'> Set notebook to full width </span style>"
   ]
  },
  {
   "cell_type": "code",
   "execution_count": 0,
   "metadata": {
    "colab": {},
    "colab_type": "code",
    "id": "ZK9FnyS-R2M5",
    "outputId": "fee1ad66-a3e4-4da8-a234-b6e9b6d52240"
   },
   "outputs": [
    {
     "data": {
      "text/html": [
       "<style>.container { width:100% !important; }</style>"
      ],
      "text/plain": [
       "<IPython.core.display.HTML object>"
      ]
     },
     "metadata": {
      "tags": []
     },
     "output_type": "display_data"
    }
   ],
   "source": [
    "from IPython.core.display import display, HTML\n",
    "display(HTML(\"<style>.container { width:100% !important; }</style>\"))"
   ]
  },
  {
   "cell_type": "markdown",
   "metadata": {
    "colab_type": "text",
    "id": "An8ZYvtWR2ND"
   },
   "source": [
    "# <span style = 'color:darkred'> Notebook structure </span style>"
   ]
  },
  {
   "cell_type": "markdown",
   "metadata": {
    "colab_type": "text",
    "id": "l2OdcpY5R2NE"
   },
   "source": [
    "- ### <a href=#imports> Imports  </a>\n",
    "- ### <a href=#read_in> Reading in (sub)set </a>\n",
    "- ### <a href=#tickers_ipo_extraction> Extracting ticker formatted strings and tweets containing IPO </a>\n",
    "- ### <a href=#redun_columns> Drop standard redundant columns after checking</a>\n",
    "- ### <a href=#expand_subcols> Expand the subcolumns that do not contain WrapperArrays </a>\n",
    "- ### <a href=#check_and_drop_redundant_cols> Check for non-standard redundant columns and drop them </a>\n",
    "- ### <a href=#none> ... </a>\n",
    "\n"
   ]
  },
  {
   "cell_type": "markdown",
   "metadata": {
    "colab_type": "text",
    "id": "umsNsezVR2NF"
   },
   "source": [
    "# <span style = 'color:darkred'> Imports </span style>"
   ]
  },
  {
   "cell_type": "code",
   "execution_count": 0,
   "metadata": {
    "colab": {},
    "colab_type": "code",
    "id": "I5ZUd6dfR2NG",
    "outputId": "8f3d587f-df4a-4a5e-9561-9fff6304fe05"
   },
   "outputs": [
    {
     "name": "stdout",
     "output_type": "stream",
     "text": [
      "SparkSession initialized\n"
     ]
    }
   ],
   "source": [
    "import pandas as pd\n",
    "import os\n",
    "import sys\n",
    "import csv\n",
    "os.environ['SPARK_HOME'] = 'D:/School/STAGE_BP/spark' # your spark enviremnt \n",
    "import pyspark\n",
    "\n",
    "from pyspark.sql import SQLContext, SparkSession\n",
    "\n",
    "try:\n",
    "    sc = pyspark.SparkContext(appName = 'App')\n",
    "    spark = SparkSession(sparkContext=sc)\n",
    "    print(\"SparkSession initialized\")\n",
    "except ValueError:\n",
    "    print(\"SparkSession already initialized\")"
   ]
  },
  {
   "cell_type": "markdown",
   "metadata": {
    "colab_type": "text",
    "id": "ANNEbWO9R2NO"
   },
   "source": [
    "# <span style = 'color:darkred'> To do </span style>"
   ]
  },
  {
   "cell_type": "markdown",
   "metadata": {
    "colab_type": "text",
    "id": "80QW-23jR2NP"
   },
   "source": [
    "- Add remaining 7000 tweets that are not yet included for 2016\n",
    "- Based on tweets with a known ticker -> find tweets based on language analysis that talk about IPO without necessarilty containing a tickerm"
   ]
  },
  {
   "cell_type": "markdown",
   "metadata": {
    "colab_type": "text",
    "id": "WOIURdvbR2NQ"
   },
   "source": [
    "# <span style = 'color:darkred'> Imports </span style> <a name='imports' />"
   ]
  },
  {
   "cell_type": "code",
   "execution_count": 0,
   "metadata": {
    "colab": {},
    "colab_type": "code",
    "id": "A8DGHosHR2NR"
   },
   "outputs": [],
   "source": [
    "# Python imports\n",
    "get_ipython().run_line_magic('matplotlib', 'inline')\n",
    "import matplotlib.pyplot as plt\n",
    "import glob\n",
    "\n",
    "# Spark imports\n",
    "from pyspark.sql.functions import udf, year, month, dayofmonth, explode, lower, regexp_extract, split, upper\n",
    "from pyspark.sql.types import *\n",
    "import time\n",
    "from datetime import datetime"
   ]
  },
  {
   "cell_type": "markdown",
   "metadata": {
    "colab_type": "text",
    "id": "evgFl1X4R2NV"
   },
   "source": [
    "# <span style = 'color:darkred'> ETL </span style> <a name='read_in' />"
   ]
  },
  {
   "cell_type": "markdown",
   "metadata": {
    "colab_type": "text",
    "id": "ipo_02qAR2NW"
   },
   "source": [
    "## <span style = 'color:green'> Reading in tweets </span style> <a name='read_in' />"
   ]
  },
  {
   "cell_type": "code",
   "execution_count": 0,
   "metadata": {
    "colab": {},
    "colab_type": "code",
    "id": "RFwtjwp8R2NX",
    "outputId": "3cd593fc-31fd-4e99-ea85-79ac558b436a"
   },
   "outputs": [
    {
     "name": "stdout",
     "output_type": "stream",
     "text": [
      "The original columns were: ['contributors', 'coordinates', 'created_at', 'entities', 'extended_entities', 'favorite_count', 'favorited', 'filter_level', 'geo', 'id', 'id_str', 'in_reply_to_screen_name', 'in_reply_to_status_id', 'in_reply_to_status_id_str', 'in_reply_to_user_id', 'in_reply_to_user_id_str', 'is_quote_status', 'lang', 'place', 'possibly_sensitive', 'quoted_status', 'quoted_status_id', 'quoted_status_id_str', 'retweet_count', 'retweeted', 'retweeted_status', 'scopes', 'source', 'text', 'timestamp_ms', 'truncated', 'user', 'withheld_in_countries']\n"
     ]
    }
   ],
   "source": [
    "from IPython.display import display  \n",
    "from ipywidgets import FloatProgress  \n",
    "import time\n",
    "\n",
    "# Files containg path\n",
    "path = \"D:/School/STAGE_BP/testSCP/tweetsold/*.json\"\n",
    "\n",
    "df = (spark.read.json(path))\n",
    "\n",
    "original_columns = df.columns\n",
    "\n",
    "df = (df.withColumnRenamed(\"id_str\", \"tweet_id_str\") #rename to avoid confusion with user_id, retweet_id, ...\n",
    "        .withColumn(\"user_id_str\", df.user.id_str) \n",
    "        .select(\"tweet_id_str\",\"created_at\",  \"text\", \"user_id_str\", \"entities\", \"lang\", \"in_reply_to_status_id_str\", \"in_reply_to_user_id_str\", \"is_quote_status\")\n",
    "     )\n",
    "\n",
    "print(\"The original columns were: {}\".format(original_columns))\n"
   ]
  },
  {
   "cell_type": "code",
   "execution_count": 0,
   "metadata": {
    "colab": {},
    "colab_type": "code",
    "id": "9hLzbpusR2Nc",
    "outputId": "90e0f812-9818-41eb-eab8-f765ae894345"
   },
   "outputs": [
    {
     "name": "stdout",
     "output_type": "stream",
     "text": [
      "+------------------+--------------------+--------------------+------------------+--------------------+----+-------------------------+-----------------------+---------------+\n",
      "|      tweet_id_str|          created_at|                text|       user_id_str|            entities|lang|in_reply_to_status_id_str|in_reply_to_user_id_str|is_quote_status|\n",
      "+------------------+--------------------+--------------------+------------------+--------------------+----+-------------------------+-----------------------+---------------+\n",
      "|721800321610027008|Sun Apr 17 20:39:...|RT @ConnorFranta:...|        4882352700|[[], [[pic.twitte...|  en|                     null|                   null|          false|\n",
      "|721800321719263232|Sun Apr 17 20:39:...|RT @NFL: The LOB ...|        2179414082|[[], [[pic.twitte...|  en|                     null|                   null|          false|\n",
      "|721800321610088448|Sun Apr 17 20:39:...|Brunch y todo per...|          24324332|   [[],, [], [], []]|  es|                     null|                   null|          false|\n",
      "|721800322662932480|Sun Apr 17 20:39:...|RT @pakalupapito:...|        2736561179|[[],, [], [], [[1...|  en|                     null|                   null|          false|\n",
      "|721800323195604992|Sun Apr 17 20:39:...|se é difícil pro ...|        1607205402|   [[],, [], [], []]|  pt|                     null|                   null|          false|\n",
      "|721800323480870912|Sun Apr 17 20:39:...|You're the best ?...|         576794643|[[],, [], [[twitt...|  en|                     null|                   null|           true|\n",
      "|721800323979943936|Sun Apr 17 20:39:...|Been in the gym f...|        4092601178|   [[],, [], [], []]|  en|                     null|                   null|          false|\n",
      "|721800324009353216|Sun Apr 17 20:39:...|+...Biz o ara yoğ...|        4850607243|   [[],, [], [], []]|  tr|                     null|                   null|          false|\n",
      "|721800324403617793|Sun Apr 17 20:39:...|RT @diosflorentin...|         831538033|[[], [[pic.twitte...|  es|                     null|                   null|          false|\n",
      "|721800323996762112|Sun Apr 17 20:39:...|RT @AmourDai: My ...|        3743791335|[[],, [], [], [[3...|  en|                     null|                   null|          false|\n",
      "|721800325301047296|Sun Apr 17 20:39:...|RT @NFL: Bam Bam....|        2298106350|[[[[62, 66], LOB]...|  en|                     null|                   null|          false|\n",
      "|721800326043549696|Sun Apr 17 20:39:...|RT @LolitaDrugs: ...|716983275374252033|[[], [[pic.twitte...|  en|                     null|                   null|          false|\n",
      "|721800326005833730|Sun Apr 17 20:39:...|RT @LolitaDrugs: ...|         174020306|[[], [[pic.twitte...|  en|                     null|                   null|          false|\n",
      "|721800326064566273|Sun Apr 17 20:39:...|RT @LolitaDrugs: ...|        1571972904|[[], [[pic.twitte...|  en|                     null|                   null|          false|\n",
      "|721800326072938496|Sun Apr 17 20:39:...|RT @LolitaDrugs: ...|        2795340752|[[], [[pic.twitte...|  en|                     null|                   null|          false|\n",
      "|721800326093914112|Sun Apr 17 20:39:...|RT @LolitaDrugs: ...|         868160948|[[], [[pic.twitte...|  en|                     null|                   null|          false|\n",
      "|721800326005833729|Sun Apr 17 20:39:...|RT @LolitaDrugs: ...|        1368848250|[[], [[pic.twitte...|  en|                     null|                   null|          false|\n",
      "|721800326001618944|Sun Apr 17 20:39:...|RT @LolitaDrugs: ...|711169998748839938|[[], [[pic.twitte...|  en|                     null|                   null|          false|\n",
      "|721800326135881728|Sun Apr 17 20:39:...|RT @LolitaDrugs: ...|        3492887357|[[], [[pic.twitte...|  en|                     null|                   null|          false|\n",
      "|721800325968039936|Sun Apr 17 20:39:...|RT @LolitaDrugs: ...|        2746124765|[[], [[pic.twitte...|  en|                     null|                   null|          false|\n",
      "+------------------+--------------------+--------------------+------------------+--------------------+----+-------------------------+-----------------------+---------------+\n",
      "only showing top 20 rows\n",
      "\n"
     ]
    }
   ],
   "source": [
    "#df.show()"
   ]
  },
  {
   "cell_type": "code",
   "execution_count": 0,
   "metadata": {
    "colab": {},
    "colab_type": "code",
    "id": "oqplxdSBR2Nh",
    "outputId": "bed72316-3450-4216-975e-bf2e52296ee0"
   },
   "outputs": [
    {
     "name": "stdout",
     "output_type": "stream",
     "text": [
      "+--------------------------------------------------------------------------------------------------------------------------------------------------------------------------------------------------------------------------------------------------------------------------------------------------------------------------------------------------------------------------------------------------------------------------------------------------------------------------------------------------------------------------------------------------------------------------------------------------------------------+\n",
      "|entities                                                                                                                                                                                                                                                                                                                                                                                                                                                                                                                                                                                                            |\n",
      "+--------------------------------------------------------------------------------------------------------------------------------------------------------------------------------------------------------------------------------------------------------------------------------------------------------------------------------------------------------------------------------------------------------------------------------------------------------------------------------------------------------------------------------------------------------------------------------------------------------------------+\n",
      "|[[], [[pic.twitter.com/rAT4Sehx6T, http://twitter.com/ConnorFranta/status/721787057903800320/photo/1, 721787039947984896, 721787039947984896, [99, 122], http://pbs.twimg.com/media/CgRNfReUkAAy30a.jpg, https://pbs.twimg.com/media/CgRNfReUkAAy30a.jpg, [[1314, fit, 1024], [770, fit, 600], [436, fit, 340], [150, crop, 150]], 721787057903800320, 721787057903800320, 180949358, 180949358, photo, https://t.co/rAT4Sehx6T]], [], [], [[180949358, 180949358, [3, 16], Connor Franta, ConnorFranta]]]                                                                                                          |\n",
      "|[[], [[pic.twitter.com/pDrC0ZjYF4, http://twitter.com/NFL/status/721771482901295104/photo/1, 721771481735307264, 721771481735307264, [102, 125], http://pbs.twimg.com/media/CgQ_VqnXIAAhvPQ.jpg, https://pbs.twimg.com/media/CgQ_VqnXIAAhvPQ.jpg, [[512, fit, 1024], [300, fit, 600], [170, fit, 340], [150, crop, 150]], 721771482901295104, 721771482901295104, 19426551, 19426551, photo, https://t.co/pDrC0ZjYF4]], [], [[on.nfl.com/2698bw4, http://on.nfl.com/2698bw4, [62, 85], https://t.co/GWzm4FVpGO]], [[19426551, 19426551, [3, 7], NFL, NFL], [16403943, 16403943, [91, 100], Ian Rapoport, RapSheet]]]|\n",
      "|[[],, [], [], []]                                                                                                                                                                                                                                                                                                                                                                                                                                                                                                                                                                                                   |\n",
      "|[[],, [], [], [[1582341876, 1582341876, [3, 16], pakalu papito, pakalupapito]]]                                                                                                                                                                                                                                                                                                                                                                                                                                                                                                                                     |\n",
      "|[[],, [], [], []]                                                                                                                                                                                                                                                                                                                                                                                                                                                                                                                                                                                                   |\n",
      "|[[],, [], [[twitter.com/logannpwilliam…, https://twitter.com/logannpwilliams/status/721757258842038272, [18, 41], https://t.co/ZezBfsa3ka]], []]                                                                                                                                                                                                                                                                                                                                                                                                                                                                    |\n",
      "|[[],, [], [], []]                                                                                                                                                                                                                                                                                                                                                                                                                                                                                                                                                                                                   |\n",
      "|[[],, [], [], []]                                                                                                                                                                                                                                                                                                                                                                                                                                                                                                                                                                                                   |\n",
      "|[[], [[pic.twitter.com/FILV0jHkuz, http://twitter.com/diosflorentino/status/721798018077454336/photo/1, 721798016047431680, 721798016047431680, [72, 95], http://pbs.twimg.com/media/CgRXeKoWwAAu7MD.jpg, https://pbs.twimg.com/media/CgRXeKoWwAAu7MD.jpg, [[405, fit, 720], [338, fit, 600], [191, fit, 340], [150, crop, 150]], 721798018077454336, 721798018077454336, 1352860728, 1352860728, photo, https://t.co/FILV0jHkuz]], [], [], [[1352860728, 1352860728, [3, 18], Madridista de Sangre, diosflorentino], [224223563, 224223563, [55, 68], Gerard Piqué, 3gerardpique]]]                                |\n",
      "|[[],, [], [], [[3014504059, 3014504059, [3, 12], Baby KozArt ⛽, AmourDai]]]                                                                                                                                                                                                                                                                                                                                                                                                                                                                                                                                         |\n",
      "+--------------------------------------------------------------------------------------------------------------------------------------------------------------------------------------------------------------------------------------------------------------------------------------------------------------------------------------------------------------------------------------------------------------------------------------------------------------------------------------------------------------------------------------------------------------------------------------------------------------------+\n",
      "only showing top 10 rows\n",
      "\n"
     ]
    }
   ],
   "source": [
    "#df.select(\"entities\").show(10, truncate = False)"
   ]
  },
  {
   "cell_type": "code",
   "execution_count": 0,
   "metadata": {
    "colab": {},
    "colab_type": "code",
    "id": "BzcJULszR2Nm"
   },
   "outputs": [],
   "source": [
    "#df.printSchema()\n",
    "#df.select(\"retweeted_status\").rdd.take(1)"
   ]
  },
  {
   "cell_type": "markdown",
   "metadata": {
    "colab_type": "text",
    "id": "vKem3bIaR2Nr"
   },
   "source": [
    "## <span style = 'color:darkgreen'> Extracting tickers & presence of IPO out of text </span style> <a name='tickers_ipo_extraction' />\n",
    "\n",
    " - containing $-sign in the text or containing ipo"
   ]
  },
  {
   "cell_type": "code",
   "execution_count": 0,
   "metadata": {
    "colab": {},
    "colab_type": "code",
    "id": "nnTPkjToR2Nt"
   },
   "outputs": [],
   "source": [
    "# REGEX to extract tickers or presence of IPO\n",
    "ticker_expression_no_numbers = '(\\s\\$[A-Za-z]{1,6})+'\n",
    "ticker_expression_including_numbers = '\\$[A-Za-z0-9]{1,6}'\n",
    "ipo_expression = '#ipo|ipo|#IPO|IPO'\n",
    "\n",
    "df_tickers = (df.withColumn(\"tickers\", regexp_extract('text', ticker_expression_no_numbers, 0))\n",
    "                .withColumn(\"contains_ipo\", regexp_extract('text', ipo_expression, 0))\n",
    "            )"
   ]
  },
  {
   "cell_type": "code",
   "execution_count": 0,
   "metadata": {
    "colab": {},
    "colab_type": "code",
    "id": "ntz_o1VAR2Ny",
    "outputId": "c737bd7e-4198-4384-82f1-cfecfaea625f"
   },
   "outputs": [
    {
     "name": "stdout",
     "output_type": "stream",
     "text": [
      "There are 59100 tweets in the total set that containt the word ipo or a pattern that matches a ticker, including the dollar sign\n"
     ]
    }
   ],
   "source": [
    "# Filter full dataset for tweets that contain either a ticker-pattern or the IPO pattern\n",
    "df_tickers_and_ipo = df_tickers.filter((df_tickers[\"tickers\"] != \"\") | (df_tickers[\"contains_ipo\"] != \"\"))\n",
    "\n",
    "print(\"There are {} tweets in the total set that containt the word ipo or a pattern that matches a ticker, including the dollar sign\".format(df_tickers.count()))\n",
    "\n",
    "#df_tickers_and_ipo.select(\"tweet_id_str\", \"contains_ipo\", \"tickers\").show(5)\n",
    "#df.createOrReplaceTempView(\"dfSQL\")"
   ]
  },
  {
   "cell_type": "code",
   "execution_count": 0,
   "metadata": {
    "colab": {},
    "colab_type": "code",
    "id": "ekV_haGVR2N6"
   },
   "outputs": [],
   "source": [
    "# Filter out the tweets that contain one or multiple tickers\n",
    "df_tickers = (df_tickers_and_ipo.filter(df_tickers[\"tickers\"] != \"\"))\n",
    "\n",
    "\"\"\n",
    "df_tickers = (df_tickers.select(\"tweet_id_str\", \"user_id_str\", \"text\", \"created_at\",\"lang\", split(df_tickers.tickers, '\\s\\$').alias('tickers')))\n",
    "\n",
    "df_tickers = df_tickers.withColumn(\"ticker\", explode(df_tickers.tickers)).select(\"tweet_id_str\", \"user_id_str\",\"text\", \"ticker\", \"created_at\", \"lang\")\n",
    "df_tickers = df_tickers.filter(df_tickers.ticker != \"\")\n",
    "\n",
    "aggregated_tickers = (df_tickers.withColumn(\"ticker\", upper(df_tickers.ticker))\n",
    "                                .groupBy(\"ticker\").count()\n",
    "                                .withColumnRenamed('count', \"ticker_occurence\")\n",
    "                     )\n",
    "aggregated_tickers = aggregated_tickers.sort(aggregated_tickers.ticker_occurence.desc())\n",
    "\n",
    "#aggregated_tickers.coalesce(1).write.csv(\"ticker_occurence_2016\", mode = \"overwrite\")\n"
   ]
  },
  {
   "cell_type": "code",
   "execution_count": 0,
   "metadata": {
    "colab": {},
    "colab_type": "code",
    "id": "WdNv_g4SR2N9",
    "outputId": "277018a0-672a-417e-a9e9-5480679d275d"
   },
   "outputs": [
    {
     "data": {
      "text/plain": [
       "[Row(ticker='IPO', ticker_occurence=3),\n",
       " Row(ticker='UHLN', ticker_occurence=3),\n",
       " Row(ticker='SELB', ticker_occurence=2),\n",
       " Row(ticker='CRVS', ticker_occurence=2),\n",
       " Row(ticker='ONOV', ticker_occurence=2),\n",
       " Row(ticker='SNSS', ticker_occurence=1),\n",
       " Row(ticker='ESES', ticker_occurence=1),\n",
       " Row(ticker='ARA', ticker_occurence=1),\n",
       " Row(ticker='HPP', ticker_occurence=1),\n",
       " Row(ticker='FSM', ticker_occurence=1)]"
      ]
     },
     "execution_count": 12,
     "metadata": {
      "tags": []
     },
     "output_type": "execute_result"
    }
   ],
   "source": [
    "#aggregated_tickers.rdd.take(10)"
   ]
  },
  {
   "cell_type": "code",
   "execution_count": 0,
   "metadata": {
    "colab": {},
    "colab_type": "code",
    "id": "krjTy7OnR2OG"
   },
   "outputs": [],
   "source": []
  },
  {
   "cell_type": "code",
   "execution_count": 0,
   "metadata": {
    "colab": {},
    "colab_type": "code",
    "id": "JaJCPovLR2OL",
    "outputId": "37aa9648-dc0a-4a93-a33d-a53d154dbfba"
   },
   "outputs": [
    {
     "name": "stdout",
     "output_type": "stream",
     "text": [
      "Ticker: ARA\n",
      "1\n",
      "+------------------+------------------+--------------------+------+--------------------+----+\n",
      "|      tweet_id_str|       user_id_str|                text|ticker|          created_at|lang|\n",
      "+------------------+------------------+--------------------+------+--------------------+----+\n",
      "|722477177468547075|722183184155160576|Which #IPO will b...|   ARA|Tue Apr 19 17:29:...|  en|\n",
      "+------------------+------------------+--------------------+------+--------------------+----+\n",
      "\n",
      "Ticker: VKTX\n",
      "0\n",
      "+------------+-----------+----+------+----------+----+\n",
      "|tweet_id_str|user_id_str|text|ticker|created_at|lang|\n",
      "+------------+-----------+----+------+----------+----+\n",
      "+------------+-----------+----+------+----------+----+\n",
      "\n",
      "Ticker: RRR\n",
      "0\n",
      "+------------+-----------+----+------+----------+----+\n",
      "|tweet_id_str|user_id_str|text|ticker|created_at|lang|\n",
      "+------------+-----------+----+------+----------+----+\n",
      "+------------+-----------+----+------+----------+----+\n",
      "\n",
      "Ticker: RETA\n",
      "0\n",
      "+------------+-----------+----+------+----------+----+\n",
      "|tweet_id_str|user_id_str|text|ticker|created_at|lang|\n",
      "+------------+-----------+----+------+----------+----+\n",
      "+------------+-----------+----+------+----------+----+\n",
      "\n",
      "Ticker: HTGM\n",
      "0\n",
      "+------------+-----------+----+------+----------+----+\n",
      "|tweet_id_str|user_id_str|text|ticker|created_at|lang|\n",
      "+------------+-----------+----+------+----------+----+\n",
      "+------------+-----------+----+------+----------+----+\n",
      "\n",
      "Ticker: OMF\n",
      "0\n",
      "+------------+-----------+----+------+----------+----+\n",
      "|tweet_id_str|user_id_str|text|ticker|created_at|lang|\n",
      "+------------+-----------+----+------+----------+----+\n",
      "+------------+-----------+----+------+----------+----+\n",
      "\n",
      "Ticker: BOLD\n",
      "0\n",
      "+------------+-----------+----+------+----------+----+\n",
      "|tweet_id_str|user_id_str|text|ticker|created_at|lang|\n",
      "+------------+-----------+----+------+----------+----+\n",
      "+------------+-----------+----+------+----------+----+\n",
      "\n",
      "Ticker: ESES\n",
      "0\n",
      "+------------+-----------+----+------+----------+----+\n",
      "|tweet_id_str|user_id_str|text|ticker|created_at|lang|\n",
      "+------------+-----------+----+------+----------+----+\n",
      "+------------+-----------+----+------+----------+----+\n",
      "\n",
      "Ticker: SBPH\n",
      "0\n",
      "+------------+-----------+----+------+----------+----+\n",
      "|tweet_id_str|user_id_str|text|ticker|created_at|lang|\n",
      "+------------+-----------+----+------+----------+----+\n",
      "+------------+-----------+----+------+----------+----+\n",
      "\n"
     ]
    }
   ],
   "source": [
    "# Assigning the text with respect to teh ticker\n",
    "\n",
    "for t in (\"ARA\", \"VKTX\", \"RRR\", \"RETA\", \"HTGM\", \"OMF\", \"BOLD\", \"ESES\", \"SBPH\"):\n",
    "    one_ticker_df = df_tickers.filter(df_tickers.ticker == t)\n",
    "    print(\"Ticker: {}\".format(t))\n",
    "    print(one_ticker_df.count())\n",
    "    one_ticker_df.show(10)\n",
    "    #one_ticker_df.write.json(\"{}_tweets.json\".format(t), mode = \"overwrite\")\n",
    "    \n",
    "    "
   ]
  },
  {
   "cell_type": "code",
   "execution_count": 0,
   "metadata": {
    "colab": {},
    "colab_type": "code",
    "id": "xLszZcs9R2OQ",
    "outputId": "f44368cd-be0e-4063-a5c2-04a52b44c929"
   },
   "outputs": [
    {
     "data": {
      "text/plain": [
       "[]"
      ]
     },
     "execution_count": 14,
     "metadata": {
      "tags": []
     },
     "output_type": "execute_result"
    }
   ],
   "source": [
    "#df.filter(\"Viking Therapeutics\" in df.text)\n",
    "df.filter(df.text.contains(\"Viking Therapeutics\")).collect()"
   ]
  },
  {
   "cell_type": "code",
   "execution_count": 0,
   "metadata": {
    "colab": {},
    "colab_type": "code",
    "id": "ZkZaVEHeR2OV"
   },
   "outputs": [],
   "source": [
    "# obsorved semicolons in the text, replaced with comma\n",
    "replaceSemicolon = udf(lambda x: x.replace(\";\", \",\"))\n",
    "edit_df = df.withColumn(\"text\", replaceSemicolon(df.text))"
   ]
  },
  {
   "cell_type": "code",
   "execution_count": 0,
   "metadata": {
    "colab": {},
    "colab_type": "code",
    "id": "HsSIDlIeR2Oc"
   },
   "outputs": [],
   "source": [
    "#edit_df = edit_df.withColumn(\"text\", replaceSemicolon(edit_df.text))"
   ]
  },
  {
   "cell_type": "code",
   "execution_count": 0,
   "metadata": {
    "colab": {},
    "colab_type": "code",
    "id": "FaMQOXx0R2Og",
    "outputId": "eb81aeed-7eb2-4d9b-c93d-d697ceb6365d"
   },
   "outputs": [
    {
     "data": {
      "text/plain": [
       "[Row(tweet_id_str='721800321610027008', created_at='Sun Apr 17 20:39:41 +0000 2016', text='RT @ConnorFranta: when im bored i like to edit old photos ive taken but never posted.. heres a few https://t.co/rAT4Sehx6T', user_id_str='4882352700', entities=Row(hashtags=[], media=[Row(display_url='pic.twitter.com/rAT4Sehx6T', expanded_url='http://twitter.com/ConnorFranta/status/721787057903800320/photo/1', id=721787039947984896, id_str='721787039947984896', indices=[99, 122], media_url='http://pbs.twimg.com/media/CgRNfReUkAAy30a.jpg', media_url_https='https://pbs.twimg.com/media/CgRNfReUkAAy30a.jpg', sizes=Row(large=Row(h=1314, resize='fit', w=1024), medium=Row(h=770, resize='fit', w=600), small=Row(h=436, resize='fit', w=340), thumb=Row(h=150, resize='crop', w=150)), source_status_id=721787057903800320, source_status_id_str='721787057903800320', source_user_id=180949358, source_user_id_str='180949358', type='photo', url='https://t.co/rAT4Sehx6T')], symbols=[], urls=[], user_mentions=[Row(id=180949358, id_str='180949358', indices=[3, 16], name='Connor Franta', screen_name='ConnorFranta')]), lang='en', in_reply_to_status_id_str=None, in_reply_to_user_id_str=None, is_quote_status=False)]"
      ]
     },
     "execution_count": 18,
     "metadata": {
      "tags": []
     },
     "output_type": "execute_result"
    }
   ],
   "source": [
    "#edit_df.rdd.take(1)"
   ]
  },
  {
   "cell_type": "code",
   "execution_count": 0,
   "metadata": {
    "colab": {},
    "colab_type": "code",
    "id": "V2hJ0HH8R2On"
   },
   "outputs": [],
   "source": [
    "#edit_df.write.csv(\"editas_tweets.csv\", mode = \"overwrite\", sep = \";\")\n",
    "edit_df.write.csv(\"D:/School/STAGE_BP/ipo/editas_tweets.csv\").mode('overwrite').delimiter(\";\")"
   ]
  },
  {
   "cell_type": "code",
   "execution_count": 0,
   "metadata": {
    "colab": {},
    "colab_type": "code",
    "id": "NRPDCbA3R2Or",
    "outputId": "ce366d82-920f-488f-e5cc-098bae0cfaa1"
   },
   "outputs": [
    {
     "data": {
      "text/plain": [
       "59100"
      ]
     },
     "execution_count": 21,
     "metadata": {
      "tags": []
     },
     "output_type": "execute_result"
    }
   ],
   "source": [
    "#counting the amount of tweets\n",
    "edit_df.count()\n"
   ]
  },
  {
   "cell_type": "code",
   "execution_count": 0,
   "metadata": {
    "colab": {},
    "colab_type": "code",
    "id": "SxQgvzrLR2Ow"
   },
   "outputs": [],
   "source": [
    "#counting for number of tweets tweeed by userID\n",
    "users_df = (df_tickers.select(\"user_id_str\")\n",
    "                   .groupBy(\"user_id_str\")\n",
    "                   .count()\n",
    "                   .withColumnRenamed(\"count\", \"nbr_tweets_with_ticker\")\n",
    "        )"
   ]
  },
  {
   "cell_type": "code",
   "execution_count": 0,
   "metadata": {
    "colab": {},
    "colab_type": "code",
    "id": "sP3-oHkIR2Oz"
   },
   "outputs": [],
   "source": [
    "\n",
    "stockbard_id = \"738550990698336261\""
   ]
  },
  {
   "cell_type": "code",
   "execution_count": 0,
   "metadata": {
    "colab": {},
    "colab_type": "code",
    "id": "-OrXb_4-R2O1",
    "outputId": "5ffed443-202e-4b8e-92b8-48690d564c2b"
   },
   "outputs": [
    {
     "name": "stdout",
     "output_type": "stream",
     "text": [
      "+------------------+----------------------+\n",
      "|       user_id_str|nbr_tweets_with_ticker|\n",
      "+------------------+----------------------+\n",
      "|        2752854968|                    15|\n",
      "|          38197397|                     7|\n",
      "|        3316797476|                     4|\n",
      "|        3111496845|                     3|\n",
      "|          79247391|                     3|\n",
      "|722183184155160576|                     3|\n",
      "|        2997788563|                     2|\n",
      "|        1911185905|                     2|\n",
      "|         164252605|                     2|\n",
      "|721841449831108613|                     2|\n",
      "+------------------+----------------------+\n",
      "only showing top 10 rows\n",
      "\n"
     ]
    }
   ],
   "source": [
    "#sorting in descending order\n",
    "users_df = (users_df.sort(users_df.nbr_tweets_with_ticker.desc())\n",
    "            )\n",
    "\n",
    "users_df.filter(users_df.user_id_str != stockbard_id)\n",
    "\n",
    "users_df.count()\n",
    "\n",
    "users_df.show(10)"
   ]
  },
  {
   "cell_type": "markdown",
   "metadata": {
    "colab_type": "text",
    "collapsed": true,
    "id": "6K1DzqJJR2O-"
   },
   "source": [
    "# <span style = 'color:darkred'> Language </span style>"
   ]
  },
  {
   "cell_type": "code",
   "execution_count": 0,
   "metadata": {
    "colab": {},
    "colab_type": "code",
    "id": "GsFppgTKR2O_",
    "outputId": "f7a86f23-721d-4293-8b3f-8af0cf978d25"
   },
   "outputs": [
    {
     "name": "stdout",
     "output_type": "stream",
     "text": [
      "+----+-------------+\n",
      "|lang|languageCount|\n",
      "+----+-------------+\n",
      "|  en|           56|\n",
      "| und|            4|\n",
      "|  cs|            2|\n",
      "|  de|            1|\n",
      "|  in|            1|\n",
      "|  hi|            1|\n",
      "|  nl|            1|\n",
      "|  es|            1|\n",
      "+----+-------------+\n",
      "\n"
     ]
    }
   ],
   "source": [
    "#counting tweets by language\n",
    "df_lang = (df_tickers.select(\"lang\")\n",
    "                .groupBy(\"lang\")\n",
    "                .count()\n",
    "                .withColumnRenamed(\"count\", \"languageCount\")\n",
    "                .orderBy(\"count\", ascending = False)\n",
    "    )\n",
    "\n",
    "\n",
    "df_lang.show(10)\n"
   ]
  },
  {
   "cell_type": "markdown",
   "metadata": {
    "colab_type": "text",
    "collapsed": true,
    "id": "t6_rUEmgR2PD"
   },
   "source": [
    "# <span style = 'color:darkred'> Distribution of tweets over time </span style>"
   ]
  },
  {
   "cell_type": "code",
   "execution_count": 0,
   "metadata": {
    "colab": {},
    "colab_type": "code",
    "id": "Vm1b0AiFR2PM"
   },
   "outputs": [],
   "source": [
    "# UDF to convert created_at (String) to created_at_datetime (TimestampType)\n",
    "\n",
    "def created_at_string_to_timestamp(x):\n",
    "    return datetime.strptime(x,'%a %b %d %H:%M:%S +0000 %Y')\n",
    "\n",
    "to_datetimestamp =  udf (created_at_string_to_timestamp, TimestampType())"
   ]
  },
  {
   "cell_type": "code",
   "execution_count": 0,
   "metadata": {
    "colab": {},
    "colab_type": "code",
    "id": "YCpEUqnjR2PT",
    "outputId": "e1fba8f2-1e95-4bb5-aa61-f3598e0fa965"
   },
   "outputs": [
    {
     "data": {
      "text/plain": [
       "DataFrame[tweet_id_str: string, user_id_str: string, text: string, ticker: string, created_at: string, lang: string]"
      ]
     },
     "execution_count": 29,
     "metadata": {
      "tags": []
     },
     "output_type": "execute_result"
    }
   ],
   "source": [
    "df = df_tickers\n",
    "df"
   ]
  },
  {
   "cell_type": "code",
   "execution_count": 0,
   "metadata": {
    "colab": {},
    "colab_type": "code",
    "id": "MMGQMCdpR2Pe",
    "outputId": "63f80ec0-37bf-4999-f873-9b0385051f3a"
   },
   "outputs": [
    {
     "name": "stdout",
     "output_type": "stream",
     "text": [
      "Wall time: 5.87 s\n"
     ]
    }
   ],
   "source": [
    "get_ipython().run_cell_magic('time', '', '\\ndf = df.withColumn(\\'created_at_timestamp\\', to_datetimestamp(df.created_at))\\n\\ndf_time = (df.select(year(\"created_at_timestamp\").alias(\"year\"),\\n                 month(\"created_at_timestamp\").alias(\"month\"),\\n                 dayofmonth(\"created_at_timestamp\").alias(\"dayofmonth\")\\n                 )\\n            .groupBy(\"dayofmonth\", \"month\", \"year\")\\n            .count()\\n            .withColumnRenamed(\"count\", \"tweets_per_day\")\\n            .orderBy(\"year\", \"month\", \"dayofmonth\", ascending = True)\\n)\\n\\ndf_time_pandas = df_time.toPandas()\\ndf_time_pandas[\\'date\\'] = df_time_pandas.apply(lambda x: datetime.strptime(\\'%s/%s/%s\\' % (x.dayofmonth, x.month, x.year), \\'%d/%m/%Y\\'),axis=1)\\n\\n#df_time_pandas')\n"
   ]
  },
  {
   "cell_type": "code",
   "execution_count": 0,
   "metadata": {
    "colab": {},
    "colab_type": "code",
    "id": "MW78EM1aR2Pj",
    "outputId": "dea2e14d-c845-4c5d-a718-54981928f1d9"
   },
   "outputs": [
    {
     "data": {
      "text/html": [
       "<div>\n",
       "<style scoped>\n",
       "    .dataframe tbody tr th:only-of-type {\n",
       "        vertical-align: middle;\n",
       "    }\n",
       "\n",
       "    .dataframe tbody tr th {\n",
       "        vertical-align: top;\n",
       "    }\n",
       "\n",
       "    .dataframe thead th {\n",
       "        text-align: right;\n",
       "    }\n",
       "</style>\n",
       "<table border=\"1\" class=\"dataframe\">\n",
       "  <thead>\n",
       "    <tr style=\"text-align: right;\">\n",
       "      <th></th>\n",
       "      <th>dayofmonth</th>\n",
       "      <th>month</th>\n",
       "      <th>year</th>\n",
       "      <th>tweets_per_day</th>\n",
       "      <th>date</th>\n",
       "      <th>tweets_per_day_thousands</th>\n",
       "      <th>label_x_axis</th>\n",
       "    </tr>\n",
       "  </thead>\n",
       "  <tbody>\n",
       "    <tr>\n",
       "      <th>0</th>\n",
       "      <td>1</td>\n",
       "      <td>4</td>\n",
       "      <td>2016</td>\n",
       "      <td>2</td>\n",
       "      <td>2016-04-01</td>\n",
       "      <td>0.002</td>\n",
       "      <td>2016-04-01</td>\n",
       "    </tr>\n",
       "    <tr>\n",
       "      <th>1</th>\n",
       "      <td>6</td>\n",
       "      <td>4</td>\n",
       "      <td>2016</td>\n",
       "      <td>1</td>\n",
       "      <td>2016-04-06</td>\n",
       "      <td>0.001</td>\n",
       "      <td></td>\n",
       "    </tr>\n",
       "    <tr>\n",
       "      <th>2</th>\n",
       "      <td>7</td>\n",
       "      <td>4</td>\n",
       "      <td>2016</td>\n",
       "      <td>1</td>\n",
       "      <td>2016-04-07</td>\n",
       "      <td>0.001</td>\n",
       "      <td></td>\n",
       "    </tr>\n",
       "    <tr>\n",
       "      <th>3</th>\n",
       "      <td>8</td>\n",
       "      <td>4</td>\n",
       "      <td>2016</td>\n",
       "      <td>1</td>\n",
       "      <td>2016-04-08</td>\n",
       "      <td>0.001</td>\n",
       "      <td></td>\n",
       "    </tr>\n",
       "    <tr>\n",
       "      <th>4</th>\n",
       "      <td>9</td>\n",
       "      <td>4</td>\n",
       "      <td>2016</td>\n",
       "      <td>2</td>\n",
       "      <td>2016-04-09</td>\n",
       "      <td>0.002</td>\n",
       "      <td></td>\n",
       "    </tr>\n",
       "    <tr>\n",
       "      <th>5</th>\n",
       "      <td>11</td>\n",
       "      <td>4</td>\n",
       "      <td>2016</td>\n",
       "      <td>4</td>\n",
       "      <td>2016-04-11</td>\n",
       "      <td>0.004</td>\n",
       "      <td></td>\n",
       "    </tr>\n",
       "    <tr>\n",
       "      <th>6</th>\n",
       "      <td>13</td>\n",
       "      <td>4</td>\n",
       "      <td>2016</td>\n",
       "      <td>1</td>\n",
       "      <td>2016-04-13</td>\n",
       "      <td>0.001</td>\n",
       "      <td></td>\n",
       "    </tr>\n",
       "    <tr>\n",
       "      <th>7</th>\n",
       "      <td>14</td>\n",
       "      <td>4</td>\n",
       "      <td>2016</td>\n",
       "      <td>3</td>\n",
       "      <td>2016-04-14</td>\n",
       "      <td>0.003</td>\n",
       "      <td></td>\n",
       "    </tr>\n",
       "    <tr>\n",
       "      <th>8</th>\n",
       "      <td>19</td>\n",
       "      <td>4</td>\n",
       "      <td>2016</td>\n",
       "      <td>3</td>\n",
       "      <td>2016-04-19</td>\n",
       "      <td>0.003</td>\n",
       "      <td></td>\n",
       "    </tr>\n",
       "    <tr>\n",
       "      <th>9</th>\n",
       "      <td>21</td>\n",
       "      <td>4</td>\n",
       "      <td>2016</td>\n",
       "      <td>1</td>\n",
       "      <td>2016-04-21</td>\n",
       "      <td>0.001</td>\n",
       "      <td></td>\n",
       "    </tr>\n",
       "    <tr>\n",
       "      <th>10</th>\n",
       "      <td>10</td>\n",
       "      <td>5</td>\n",
       "      <td>2016</td>\n",
       "      <td>1</td>\n",
       "      <td>2016-05-10</td>\n",
       "      <td>0.001</td>\n",
       "      <td></td>\n",
       "    </tr>\n",
       "    <tr>\n",
       "      <th>11</th>\n",
       "      <td>26</td>\n",
       "      <td>5</td>\n",
       "      <td>2016</td>\n",
       "      <td>4</td>\n",
       "      <td>2016-05-26</td>\n",
       "      <td>0.004</td>\n",
       "      <td></td>\n",
       "    </tr>\n",
       "    <tr>\n",
       "      <th>12</th>\n",
       "      <td>1</td>\n",
       "      <td>6</td>\n",
       "      <td>2016</td>\n",
       "      <td>1</td>\n",
       "      <td>2016-06-01</td>\n",
       "      <td>0.001</td>\n",
       "      <td>2016-06-01</td>\n",
       "    </tr>\n",
       "    <tr>\n",
       "      <th>13</th>\n",
       "      <td>2</td>\n",
       "      <td>6</td>\n",
       "      <td>2016</td>\n",
       "      <td>1</td>\n",
       "      <td>2016-06-02</td>\n",
       "      <td>0.001</td>\n",
       "      <td></td>\n",
       "    </tr>\n",
       "    <tr>\n",
       "      <th>14</th>\n",
       "      <td>3</td>\n",
       "      <td>6</td>\n",
       "      <td>2016</td>\n",
       "      <td>1</td>\n",
       "      <td>2016-06-03</td>\n",
       "      <td>0.001</td>\n",
       "      <td></td>\n",
       "    </tr>\n",
       "    <tr>\n",
       "      <th>15</th>\n",
       "      <td>7</td>\n",
       "      <td>6</td>\n",
       "      <td>2016</td>\n",
       "      <td>2</td>\n",
       "      <td>2016-06-07</td>\n",
       "      <td>0.002</td>\n",
       "      <td></td>\n",
       "    </tr>\n",
       "    <tr>\n",
       "      <th>16</th>\n",
       "      <td>8</td>\n",
       "      <td>6</td>\n",
       "      <td>2016</td>\n",
       "      <td>2</td>\n",
       "      <td>2016-06-08</td>\n",
       "      <td>0.002</td>\n",
       "      <td></td>\n",
       "    </tr>\n",
       "    <tr>\n",
       "      <th>17</th>\n",
       "      <td>13</td>\n",
       "      <td>6</td>\n",
       "      <td>2016</td>\n",
       "      <td>1</td>\n",
       "      <td>2016-06-13</td>\n",
       "      <td>0.001</td>\n",
       "      <td></td>\n",
       "    </tr>\n",
       "    <tr>\n",
       "      <th>18</th>\n",
       "      <td>15</td>\n",
       "      <td>6</td>\n",
       "      <td>2016</td>\n",
       "      <td>2</td>\n",
       "      <td>2016-06-15</td>\n",
       "      <td>0.002</td>\n",
       "      <td></td>\n",
       "    </tr>\n",
       "    <tr>\n",
       "      <th>19</th>\n",
       "      <td>17</td>\n",
       "      <td>6</td>\n",
       "      <td>2016</td>\n",
       "      <td>2</td>\n",
       "      <td>2016-06-17</td>\n",
       "      <td>0.002</td>\n",
       "      <td></td>\n",
       "    </tr>\n",
       "    <tr>\n",
       "      <th>20</th>\n",
       "      <td>19</td>\n",
       "      <td>6</td>\n",
       "      <td>2016</td>\n",
       "      <td>1</td>\n",
       "      <td>2016-06-19</td>\n",
       "      <td>0.001</td>\n",
       "      <td></td>\n",
       "    </tr>\n",
       "    <tr>\n",
       "      <th>21</th>\n",
       "      <td>20</td>\n",
       "      <td>6</td>\n",
       "      <td>2016</td>\n",
       "      <td>2</td>\n",
       "      <td>2016-06-20</td>\n",
       "      <td>0.002</td>\n",
       "      <td></td>\n",
       "    </tr>\n",
       "    <tr>\n",
       "      <th>22</th>\n",
       "      <td>21</td>\n",
       "      <td>6</td>\n",
       "      <td>2016</td>\n",
       "      <td>2</td>\n",
       "      <td>2016-06-21</td>\n",
       "      <td>0.002</td>\n",
       "      <td></td>\n",
       "    </tr>\n",
       "    <tr>\n",
       "      <th>23</th>\n",
       "      <td>6</td>\n",
       "      <td>7</td>\n",
       "      <td>2016</td>\n",
       "      <td>7</td>\n",
       "      <td>2016-07-06</td>\n",
       "      <td>0.007</td>\n",
       "      <td></td>\n",
       "    </tr>\n",
       "    <tr>\n",
       "      <th>24</th>\n",
       "      <td>13</td>\n",
       "      <td>7</td>\n",
       "      <td>2016</td>\n",
       "      <td>16</td>\n",
       "      <td>2016-07-13</td>\n",
       "      <td>0.016</td>\n",
       "      <td></td>\n",
       "    </tr>\n",
       "    <tr>\n",
       "      <th>25</th>\n",
       "      <td>15</td>\n",
       "      <td>7</td>\n",
       "      <td>2016</td>\n",
       "      <td>1</td>\n",
       "      <td>2016-07-15</td>\n",
       "      <td>0.001</td>\n",
       "      <td></td>\n",
       "    </tr>\n",
       "    <tr>\n",
       "      <th>26</th>\n",
       "      <td>16</td>\n",
       "      <td>7</td>\n",
       "      <td>2016</td>\n",
       "      <td>2</td>\n",
       "      <td>2016-07-16</td>\n",
       "      <td>0.002</td>\n",
       "      <td></td>\n",
       "    </tr>\n",
       "  </tbody>\n",
       "</table>\n",
       "</div>"
      ],
      "text/plain": [
       "    dayofmonth  month  year  tweets_per_day       date  \\\n",
       "0            1      4  2016               2 2016-04-01   \n",
       "1            6      4  2016               1 2016-04-06   \n",
       "2            7      4  2016               1 2016-04-07   \n",
       "3            8      4  2016               1 2016-04-08   \n",
       "4            9      4  2016               2 2016-04-09   \n",
       "5           11      4  2016               4 2016-04-11   \n",
       "6           13      4  2016               1 2016-04-13   \n",
       "7           14      4  2016               3 2016-04-14   \n",
       "8           19      4  2016               3 2016-04-19   \n",
       "9           21      4  2016               1 2016-04-21   \n",
       "10          10      5  2016               1 2016-05-10   \n",
       "11          26      5  2016               4 2016-05-26   \n",
       "12           1      6  2016               1 2016-06-01   \n",
       "13           2      6  2016               1 2016-06-02   \n",
       "14           3      6  2016               1 2016-06-03   \n",
       "15           7      6  2016               2 2016-06-07   \n",
       "16           8      6  2016               2 2016-06-08   \n",
       "17          13      6  2016               1 2016-06-13   \n",
       "18          15      6  2016               2 2016-06-15   \n",
       "19          17      6  2016               2 2016-06-17   \n",
       "20          19      6  2016               1 2016-06-19   \n",
       "21          20      6  2016               2 2016-06-20   \n",
       "22          21      6  2016               2 2016-06-21   \n",
       "23           6      7  2016               7 2016-07-06   \n",
       "24          13      7  2016              16 2016-07-13   \n",
       "25          15      7  2016               1 2016-07-15   \n",
       "26          16      7  2016               2 2016-07-16   \n",
       "\n",
       "    tweets_per_day_thousands label_x_axis  \n",
       "0                      0.002   2016-04-01  \n",
       "1                      0.001               \n",
       "2                      0.001               \n",
       "3                      0.001               \n",
       "4                      0.002               \n",
       "5                      0.004               \n",
       "6                      0.001               \n",
       "7                      0.003               \n",
       "8                      0.003               \n",
       "9                      0.001               \n",
       "10                     0.001               \n",
       "11                     0.004               \n",
       "12                     0.001   2016-06-01  \n",
       "13                     0.001               \n",
       "14                     0.001               \n",
       "15                     0.002               \n",
       "16                     0.002               \n",
       "17                     0.001               \n",
       "18                     0.002               \n",
       "19                     0.002               \n",
       "20                     0.001               \n",
       "21                     0.002               \n",
       "22                     0.002               \n",
       "23                     0.007               \n",
       "24                     0.016               \n",
       "25                     0.001               \n",
       "26                     0.002               "
      ]
     },
     "execution_count": 31,
     "metadata": {
      "tags": []
     },
     "output_type": "execute_result"
    }
   ],
   "source": [
    "# Creating new variable number of thousand tweets per day from tweets per day\n",
    "df_time_pandas[\"tweets_per_day_thousands\"] = df_time_pandas[\"tweets_per_day\"].apply(lambda x: x/float(1000))\n",
    "\n",
    "def labels(x):\n",
    "    if x.day == 1:\n",
    "        return str(x)[0:10]\n",
    "    else:\n",
    "        return \" \"\n",
    "\n",
    "df_time_pandas[\"label_x_axis\"] = df_time_pandas[\"date\"].apply(lambda x: labels(x))\n",
    "df_time_pandas\n"
   ]
  },
  {
   "cell_type": "code",
   "execution_count": 0,
   "metadata": {
    "colab": {},
    "colab_type": "code",
    "id": "gFA8poNkR2Pp",
    "outputId": "e7e808f8-582f-4987-ab3d-f221cf815c30"
   },
   "outputs": [
    {
     "data": {
      "image/png": "[encoded data removed]",
      "text/plain": [
       "<matplotlib.figure.Figure at 0x25ef500ecf8>"
      ]
     },
     "metadata": {
      "tags": []
     },
     "output_type": "display_data"
    }
   ],
   "source": [
    "#plot tweets per day with ticker \n",
    "fig,ax = plt.subplots(figsize=(20,10))\n",
    "plt.plot(df_time_pandas.tweets_per_day)\n",
    "\n",
    "plt.xlabel(\"Date\")\n",
    "plt.ylabel(\"Number of tweets\")\n",
    "\n",
    "plt.ylim(ymin = 0, ymax = 400)\n",
    "\n",
    "plt.title(\"Tweets per day with a ticker\")\n",
    "\n",
    "plt.show()"
   ]
  },
  {
   "cell_type": "markdown",
   "metadata": {
    "colab_type": "text",
    "collapsed": true,
    "id": "xaelqSkHR2Pt"
   },
   "source": [
    "# <span style = 'color:darkred'> Hashtags </span style>"
   ]
  },
  {
   "cell_type": "code",
   "execution_count": 0,
   "metadata": {
    "colab": {},
    "colab_type": "code",
    "id": "aOxkbpeFR2Pt"
   },
   "outputs": [],
   "source": [
    "#df_hashtags = (df.select('tweet_id_str', \"entities\")\n",
    "#                 .withColumnRenamed(\"text\", \"hashtag_array\")\n",
    "#              )\n",
    "\n",
    "#df_hashtags = df_hashtags.select(\"tweet_id_str\", explode(df_hashtags.hashtag_array).alias(\"hashtags\"))\n",
    "\n",
    "#df_hashtags = df_hashtags.select(\"tweet_id_str\", lower(df_hashtags['hashtags']).alias(\"hashtags\"))\n"
   ]
  },
  {
   "cell_type": "code",
   "execution_count": 0,
   "metadata": {
    "colab": {},
    "colab_type": "code",
    "id": "0z_cx9VxR2Pw"
   },
   "outputs": [],
   "source": [
    "#df.show()"
   ]
  },
  {
   "cell_type": "code",
   "execution_count": 0,
   "metadata": {
    "colab": {},
    "colab_type": "code",
    "id": "ApQnktDuR2P3"
   },
   "outputs": [],
   "source": [
    "\n",
    "#df_hashtags.createOrReplaceTempView(\"hashtagsSQL\")\n",
    " \n",
    "#df_top = spark.sql(\"SELECT hashtags, count(hashtags) as count FROM hashtagsSQL GROUP BY hashtags ORDER BY 2 DESC \").show()\n"
   ]
  },
  {
   "cell_type": "code",
   "execution_count": 0,
   "metadata": {
    "colab": {},
    "colab_type": "code",
    "id": "c1S_jZCsR2QL",
    "outputId": "87c831ed-4d46-4de2-e8e9-d803504f544b"
   },
   "outputs": [
    {
     "data": {
      "text/plain": [
       "67"
      ]
     },
     "execution_count": 36,
     "metadata": {
      "tags": []
     },
     "output_type": "execute_result"
    }
   ],
   "source": [
    "#df.count()"
   ]
  },
  {
   "cell_type": "code",
   "execution_count": 0,
   "metadata": {
    "colab": {},
    "colab_type": "code",
    "id": "9Yk-7pFFR2QP",
    "outputId": "871ce276-09af-45f2-be56-80f39ad9f3a3"
   },
   "outputs": [
    {
     "data": {
      "text/plain": [
       "dayofmonth                  27\n",
       "month                       27\n",
       "year                        27\n",
       "tweets_per_day              27\n",
       "date                        27\n",
       "tweets_per_day_thousands    27\n",
       "label_x_axis                27\n",
       "dtype: int64"
      ]
     },
     "execution_count": 37,
     "metadata": {
      "tags": []
     },
     "output_type": "execute_result"
    }
   ],
   "source": [
    "df_time_pandas.count()"
   ]
  },
  {
   "cell_type": "code",
   "execution_count": 0,
   "metadata": {
    "colab": {},
    "colab_type": "code",
    "id": "dCVDVRp1R2QZ"
   },
   "outputs": [],
   "source": []
  },
  {
   "cell_type": "code",
   "execution_count": 0,
   "metadata": {
    "colab": {},
    "colab_type": "code",
    "id": "DsejSOaLR2Qe"
   },
   "outputs": [],
   "source": []
  }
 ],
 "metadata": {
  "colab": {
   "collapsed_sections": [],
   "name": "Tweets-analysis-bottom-up-approach.ipynb",
   "provenance": [],
   "version": "0.3.2"
  },
  "kernelspec": {
   "display_name": "Python 3",
   "language": "python",
   "name": "python3"
  },
  "language_info": {
   "codemirror_mode": {
    "name": "ipython",
    "version": 3
   },
   "file_extension": ".py",
   "mimetype": "text/x-python",
   "name": "python",
   "nbconvert_exporter": "python",
   "pygments_lexer": "ipython3",
   "version": "3.7.3"
  }
 },
 "nbformat": 4,
 "nbformat_minor": 1
}
