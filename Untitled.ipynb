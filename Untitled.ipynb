{
 "cells": [
  {
   "cell_type": "markdown",
   "metadata": {},
   "source": [
    " # <span style = 'color:darkred'> Notebook structure </span style>\n"
   ]
  },
  {
   "cell_type": "markdown",
   "metadata": {},
   "source": [
    "<a href=#imports> Imports & settings </a>\n",
    "<a href=#read_in> Reading in all tweets </a>\n",
    "<a href=#time_distr> Distribution over time </a>\n",
    "<a href=#filter> Filter for relevant tweets </a>"
   ]
  },
  {
   "cell_type": "markdown",
   "metadata": {},
   "source": [
    "    # <span style = 'color:darkred'> Imports & notebook settings </span style> <a name='imports' />\n"
   ]
  },
  {
   "cell_type": "code",
   "execution_count": 3,
   "metadata": {},
   "outputs": [],
   "source": [
    "from IPython.core.display import display, HTML\n"
   ]
  },
  {
   "cell_type": "code",
   "execution_count": null,
   "metadata": {},
   "outputs": [],
   "source": [
    "# Python imports\n",
    "%matplotlib inline\n",
    "import matplotlib.pyplot as plt\n",
    "from matplotlib.dates import YearLocator, DateFormatter, MonthLocator\\n\",\n",
    "import glob\\n\",\n",
    "import numpy as np\\n\n",
    "import pandas as pd\\n\n",
    "\\n\n",
    "# Spark imports\n",
    "from pyspark.sql.functions import udf, year, month, dayofmonth, explode, lower, regexp_extract, split, upper\n",
    "    \"from pyspark.sql.types import *\\n\",\n",
    "    \"import time\\n\",\n",
    "    \"import datetime\\n\",\n",
    "    \"\\n\",\n",
    "    \"spark\""
   ]
  }
 ],
 "metadata": {
  "kernelspec": {
   "display_name": "Python 3",
   "language": "python",
   "name": "python3"
  },
  "language_info": {
   "codemirror_mode": {
    "name": "ipython",
    "version": 3
   },
   "file_extension": ".py",
   "mimetype": "text/x-python",
   "name": "python",
   "nbconvert_exporter": "python",
   "pygments_lexer": "ipython3",
   "version": "3.7.3"
  }
 },
 "nbformat": 4,
 "nbformat_minor": 2
}
