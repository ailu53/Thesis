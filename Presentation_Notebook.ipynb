{
 "cells": [
  {
   "cell_type": "code",
   "execution_count": 0,
   "metadata": {
    "colab": {},
    "colab_type": "code",
    "id": "fQNMG1GNEqaF"
   },
   "outputs": [],
   "source": [
    "# # <span style = 'color:darkred'> Imports & notebook settings </span style>\n",
    "\n",
    "# - ### <a href=#imports> Imports & settings </a>\n",
    "# - ### <a href=#read_in> Reading in all tweets </a>\n",
    "# - ### <a href=#time_distr> Distribution over time </a>\n",
    "# - ### <a href=#filter> Filter for relevant tweets </a>\n",
    "\n",
    "# # <span style = 'color:darkred'> Imports & settings</span style> <a name='imports' />\n"
   ]
  },
  {
   "cell_type": "code",
   "execution_count": 0,
   "metadata": {
    "colab": {},
    "colab_type": "code",
    "id": "BVGWheUbEqaJ",
    "outputId": "1f59e264-e89d-4ae8-9c46-06f8a2ae6adb"
   },
   "outputs": [
    {
     "data": {
      "text/html": [
       "<style>.container { width:100% !important; }</style>"
      ],
      "text/plain": [
       "<IPython.core.display.HTML object>"
      ]
     },
     "metadata": {
      "tags": []
     },
     "output_type": "display_data"
    },
    {
     "name": "stdout",
     "output_type": "stream",
     "text": [
      "SparkSession already initialized\n"
     ]
    }
   ],
   "source": [
    "################################ JUPYTER ###################################\n",
    "from IPython.core.display import display, HTML\n",
    "from IPython.display import Image\n",
    "display(HTML(\"<style>.container { width:100% !important; }</style>\"))\n",
    "\n",
    "################################ SPARK ###################################\n",
    "\n",
    "#import findspark\n",
    "#findspark.init(spark_home = \"/home/sachadubrulle/spark-2.1.0\")\n",
    "#findspark.init(spark_home = \"/Users/sachadubrulle/spark-2.1.0\")\n",
    "import pyspark\n",
    "\n",
    "from pyspark.sql import SQLContext, SparkSession\n",
    "\n",
    "try:\n",
    "    sc = pyspark.SparkContext(appName = 'App')\n",
    "    spark = SparkSession(sparkContext=sc)\n",
    "    print(\"SparkSession initialized\")\n",
    "except ValueError:\n",
    "    print(\"SparkSession already initialized\")\n",
    "    \n",
    "from pyspark.sql.functions import udf, explode, lower, regexp_extract, split, col, regexp_replace\n",
    "from pyspark.sql.types import StringType, TimestampType, IntegerType, ArrayType, DoubleType, BooleanType\n",
    "from pyspark.ml.feature import Binarizer, StringIndexer, StringIndexerModel, OneHotEncoder, MinMaxScaler, VectorAssembler\n",
    "from pyspark.ml import Pipeline\n",
    "from pyspark.ml.classification import RandomForestClassifier, LogisticRegression\n",
    "from pyspark.ml.evaluation import BinaryClassificationEvaluator\n",
    "\n",
    "################################ PYTHON ###################################\n",
    "    \n",
    "from datetime import datetime\n",
    "import re\n",
    "import pandas as pd\n",
    "pd.set_option(\"display.max_colwidth\", -1)\n",
    "\n",
    "import numpy as np\n",
    "import urllib.request, urllib.error, urllib.parse\n",
    "get_ipython().run_line_magic('matplotlib', 'inline')\n",
    "from matplotlib import pyplot as plt\n",
    "from matplotlib.dates import YearLocator, MonthLocator, DayLocator, WeekdayLocator, DateFormatter\n",
    "from dateutil.relativedelta import relativedelta\n",
    "\n",
    "colors = {\"orange\": np.array([255,128,14], dtype = np.float16),\n",
    "          \"blue\": np.array([0,107,164], dtype = np.float16),\n",
    "          \"green\": np.array([44, 160, 44], dtype = np.float16)\n",
    "         }\n",
    "\n",
    "for k in list(colors.keys()):\n",
    "    colors[k] = np.divide(colors[k], 255)\n",
    "\n",
    "    ################################ Alpha Vantage API ###################################\n",
    "import requests\n",
    "import alpha_vantage\n",
    "import csv\n",
    "#This is our current api key, you might have to request a new one\n",
    "AV_API_key=\"OES7ORJTQ21CYZM9\"\n",
    "AV_API_URL = \"https://www.alphavantage.co/query\""
   ]
  },
  {
   "cell_type": "code",
   "execution_count": 0,
   "metadata": {
    "colab": {},
    "colab_type": "code",
    "id": "HlbJ2acjEqaO"
   },
   "outputs": [],
   "source": [
    "# This notebook is based on data that was mined from twitter. Primarily, twitter was mined using a list of keywords, all related to Initial Public Offerings, herinafter IPO's. The list of keywords contained the names and abbreviations or tickers for a number of companies that were know to perform their IPO soon, but also using some more generic words related to IPO's. The data ranges from the end of March 2016 until the end of march 2017 and hence comprises an entire year.\n",
    "\n",
    "# <span style = 'color:darkred'> Functions and udfs </span style>\n",
    "\n",
    "### <span style = 'color:darkgreen'> Python functions </span style>\n"
   ]
  },
  {
   "cell_type": "code",
   "execution_count": 0,
   "metadata": {
    "colab": {},
    "colab_type": "code",
    "id": "Vivf0dybEqaR"
   },
   "outputs": [],
   "source": [
    "ipo_expression = ' #ipo | ipo '\n",
    "cashtag_expression = \"(\\$[a-z]{1,6})+\"\n",
    "\n",
    "companies_list = []\n",
    "with open(\"company_names.txt\", \"r\") as f: # Importing file that contains company names that we have to concentrate or analyze\n",
    "    companies_list = f.readlines()\n",
    "    companies_list = [x.replace(\"\\n\", \"\").lower() for x in companies_list]\n",
    "#extracting cash tags\n",
    "def cashtag_re_extract(text_column):\n",
    "    cashtag_list = re.findall(cashtag_expression, text_column)\n",
    "    ticker_list = [x[1:].upper() for x in cashtag_list]\n",
    "    return ticker_list\n",
    "\n",
    "# returns 0 if column is empty (no regexp match found), 1 otherwise (at least one regexp match found)\n",
    "def contains_company_name(text_column):\n",
    "    company_mentions = 0\n",
    "    for i in companies_list:\n",
    "        # strip spaces out of tweets\n",
    "        if i in text_column.replace(\" \", \"\"):\n",
    "            company_mentions += 1\n",
    "    return company_mentions\n",
    "\n",
    "def non_empty_column(ipo_cashtag_column):\n",
    "    if len(ipo_cashtag_column) > 0:\n",
    "        return 1\n",
    "    else:\n",
    "        return 0\n",
    "\n",
    "# check tweets that contain RT\n",
    "def contains_pattern(column):\n",
    "    if column == \"\":\n",
    "        return 0\n",
    "    else:\n",
    "        return 1\n",
    "\n",
    "def user_seniority(user_created_at):\n",
    "    today = datetime.today()\n",
    "    user_created_at_ts = datetime.strptime(user_created_at, \"%a %b %d %H:%M:%S +0000 %Y\")\n",
    "    delta = relativedelta(today, user_created_at_ts)\n",
    "    return delta.years  + delta.months/12.0\n",
    "\n",
    "def contains_hashtags(hashtags):\n",
    "    if len(hashtags) == 0:\n",
    "        return 0\n",
    "    else:\n",
    "        return 1\n"
   ]
  },
  {
   "cell_type": "code",
   "execution_count": 0,
   "metadata": {
    "colab": {},
    "colab_type": "code",
    "id": "vqHI7yIaEqaU"
   },
   "outputs": [],
   "source": [
    "### <span style = 'color:darkgreen'> Spark UDF </span style>"
   ]
  },
  {
   "cell_type": "code",
   "execution_count": 0,
   "metadata": {
    "colab": {},
    "colab_type": "code",
    "id": "E_2zKJlPEqaX"
   },
   "outputs": [],
   "source": [
    "# user defined functions by using above functions to extraction data from the JSON files\n",
    "udf_cashtag_re_extract = udf(cashtag_re_extract, ArrayType(elementType = StringType()))\n",
    "udf_contains_company_name = udf(contains_company_name, IntegerType())\n",
    "non_empty_column_udf = udf(non_empty_column)\n",
    "udf_contains_pattern = udf(contains_pattern)\n",
    "\n",
    "# Define UDF to transform timestamp from StringType to TimestampType\n",
    "udf_datatime = udf(lambda string: datetime.strptime(string, \"%a %b %d %H:%M:%S +0000 %Y\"), TimestampType())\n",
    "\n",
    "udf_day_of_week = udf(lambda x: str(x.strftime('%A')), StringType())\n"
   ]
  },
  {
   "cell_type": "code",
   "execution_count": 0,
   "metadata": {
    "colab": {},
    "colab_type": "code",
    "id": "usz6MF1zEqaa"
   },
   "outputs": [],
   "source": [
    "# <span style = 'color:darkred'> Read in and basic transformations </span style>\n",
    "\n"
   ]
  },
  {
   "cell_type": "code",
   "execution_count": 0,
   "metadata": {
    "colab": {},
    "colab_type": "code",
    "id": "Nd-bLt7sEqac",
    "outputId": "7cfbcbc5-8ec8-4563-8822-119154c9bd13"
   },
   "outputs": [
    {
     "name": "stdout",
     "output_type": "stream",
     "text": [
      "The filtered dataset contains 66000 tweets\n",
      "\n",
      "The columns in this dataset are the following:\n",
      "['contributors', 'coordinates', 'display_text_range', 'entities', 'extended_entities', 'extended_tweet', 'favorite_count', 'favorited', 'filter_level', 'geo', 'id', 'id_str', 'in_reply_to_screen_name', 'in_reply_to_status_id', 'in_reply_to_status_id_str', 'in_reply_to_user_id', 'in_reply_to_user_id_str', 'is_quote_status', 'lang', 'place', 'possibly_sensitive', 'quote_count', 'quoted_status', 'quoted_status_id', 'quoted_status_id_str', 'quoted_status_permalink', 'reply_count', 'retweet_count', 'retweeted', 'retweeted_status', 'source', 'text', 'timestamp_ms', 'truncated', 'user', 'withheld_in_countries', 'timestamp', 'text_lower', 'cashtags', 'contains_ipo', 'contains_cashtag', 'contains_company_name', 'retweet_pattern', 'contains_RT_pattern']\n"
     ]
    }
   ],
   "source": [
    "## original #df = (spark.read.json(\"/home/sachadubrulle/Data/tweets_IPO/done_batches/M*B3/*.json\")\n",
    "#### server location #(spark.read.json(\"/mnt/bdata1/twitter/archief/ipo/tweets/*.json\")) Or the bdata4 location\n",
    "df = (spark.read.json(\"/home/mma/Downloads/IPO_project/tweets/*.json\")\n",
    "        # Add lower text column and timestamp\n",
    "        .select(\"*\", \n",
    "               udf_datatime(col(\"created_at\")).alias(\"timestamp\"),\n",
    "               lower(col(\"text\")).alias(\"text_lower\")\n",
    "               )\n",
    "        # Drop created_at string column\n",
    "        .drop(\"created_at\")\n",
    "        # Add columns related to ipo, cashtags & retweet patterns\n",
    "        .select(\"*\", \n",
    "               udf_cashtag_re_extract('text_lower').alias(\"cashtags\"),\n",
    "               non_empty_column_udf(regexp_extract('text_lower', ipo_expression, 0)).alias(\"contains_ipo\"),\n",
    "               non_empty_column_udf(regexp_extract('text_lower', cashtag_expression, 0)).alias(\"contains_cashtag\"),\n",
    "               udf_contains_company_name(\"text_lower\").alias(\"contains_company_name\"),\n",
    "               regexp_extract(str = \"text\", pattern = \"^RT @[A-Za-z0-9]+: \", idx = 0).alias(\"retweet_pattern\")\n",
    "               )\n",
    "        .select(\"*\", \n",
    "               udf_contains_pattern(\"retweet_pattern\").alias(\"contains_RT_pattern\")\n",
    "              )\n",
    "     )\n",
    "\n",
    "#df.cache()\n",
    "\n",
    "nbr_total = df.count()\n",
    "print(\"The filtered dataset contains {} tweets\".format(nbr_total))\n",
    "print(\"\\nThe columns in this dataset are the following:\\n{}\".format(str(df.columns)))\n"
   ]
  },
  {
   "cell_type": "code",
   "execution_count": 0,
   "metadata": {
    "colab": {},
    "colab_type": "code",
    "id": "PkJf3CFvEqaj"
   },
   "outputs": [],
   "source": [
    "### <span style = 'color:darkgreen'> Filter out all available tickers and mine their stock prices  </span style>\n"
   ]
  },
  {
   "cell_type": "code",
   "execution_count": 0,
   "metadata": {
    "colab": {},
    "colab_type": "code",
    "id": "oXS7OwviEqao",
    "outputId": "ac6058ce-740b-4f2c-dd3f-a29841bb8862"
   },
   "outputs": [
    {
     "name": "stdout",
     "output_type": "stream",
     "text": [
      "+--------+\n",
      "|cashtags|\n",
      "+--------+\n",
      "|      []|\n",
      "|      []|\n",
      "|      []|\n",
      "|      []|\n",
      "|      []|\n",
      "+--------+\n",
      "only showing top 5 rows\n",
      "\n"
     ]
    }
   ],
   "source": [
    "\n",
    "#df.select(\"cashtags\").show(5)"
   ]
  },
  {
   "cell_type": "code",
   "execution_count": 0,
   "metadata": {
    "colab": {},
    "colab_type": "code",
    "id": "GpwX06TVEqau",
    "outputId": "b6daef67-03b0-41ef-acc8-67f62ece7050"
   },
   "outputs": [
    {
     "name": "stdout",
     "output_type": "stream",
     "text": [
      "+------+\n",
      "|   col|\n",
      "+------+\n",
      "|BTCUSD|\n",
      "|   BTC|\n",
      "|   TAO|\n",
      "|  FSHP|\n",
      "|   IPO|\n",
      "+------+\n",
      "only showing top 5 rows\n",
      "\n"
     ]
    }
   ],
   "source": [
    "\n",
    "#df.select(explode(\"cashtags\")).show(5)"
   ]
  },
  {
   "cell_type": "code",
   "execution_count": 2,
   "metadata": {
    "colab": {},
    "colab_type": "code",
    "id": "v2Cm7UfoEqay",
    "outputId": "a12faee4-c0d4-466c-9642-03c2fcbed9aa"
   },
   "outputs": [
    {
     "ename": "NameError",
     "evalue": "name 'df' is not defined",
     "output_type": "error",
     "traceback": [
      "\u001b[0;31m---------------------------------------------------------------------------\u001b[0m",
      "\u001b[0;31mNameError\u001b[0m                                 Traceback (most recent call last)",
      "\u001b[0;32m<ipython-input-2-cc930b4de21d>\u001b[0m in \u001b[0;36m<module>\u001b[0;34m\u001b[0m\n\u001b[1;32m      1\u001b[0m \u001b[0;31m# calculating the amount of cashtags present in the available tweets\u001b[0m\u001b[0;34m\u001b[0m\u001b[0;34m\u001b[0m\u001b[0;34m\u001b[0m\u001b[0m\n\u001b[0;32m----> 2\u001b[0;31m cashtag_count = (df.select(explode(\"cashtags\").alias(\"cashtag\"))\n\u001b[0m\u001b[1;32m      3\u001b[0m                    \u001b[0;34m.\u001b[0m\u001b[0mgroupBy\u001b[0m\u001b[0;34m(\u001b[0m\u001b[0;34m\"cashtag\"\u001b[0m\u001b[0;34m)\u001b[0m\u001b[0;34m.\u001b[0m\u001b[0mcount\u001b[0m\u001b[0;34m(\u001b[0m\u001b[0;34m)\u001b[0m\u001b[0;34m\u001b[0m\u001b[0;34m\u001b[0m\u001b[0m\n\u001b[1;32m      4\u001b[0m                    \u001b[0;34m.\u001b[0m\u001b[0msort\u001b[0m\u001b[0;34m(\u001b[0m\u001b[0;34m\"count\"\u001b[0m\u001b[0;34m,\u001b[0m \u001b[0mascending\u001b[0m \u001b[0;34m=\u001b[0m \u001b[0;32mFalse\u001b[0m\u001b[0;34m)\u001b[0m\u001b[0;34m\u001b[0m\u001b[0;34m\u001b[0m\u001b[0m\n\u001b[1;32m      5\u001b[0m                  )\n",
      "\u001b[0;31mNameError\u001b[0m: name 'df' is not defined"
     ]
    }
   ],
   "source": [
    "# calculating the amount of cashtags present in the available tweets\n",
    "cashtag_count = (df.select(explode(\"cashtags\").alias(\"cashtag\"))\n",
    "                   .groupBy(\"cashtag\").count()\n",
    "                   .sort(\"count\", ascending = False)\n",
    "                 )\n",
    "\n",
    "print((\"Considering all tweets, there is a total amount of {} cashtags.\\n\" +  \n",
    "       \"In total, there are {} distinct cashtags.\\n\").format(cashtag_count.count(), \n",
    "                                                                cashtag_count.distinct().count()))\n",
    "\n",
    "cashtag_count.show(5)\n",
    "\n",
    "## Select only tickers that occur often enough\n",
    "TRESHOLD = 30 # threshold as per requirement or to get more accurate sentiment score\n",
    "ticker_rdd = cashtag_count.filter(\"count >= {}\".format(TRESHOLD)).select(\"cashtag\").collect()\n",
    "\n",
    "ticker_list = []\n",
    "for i in ticker_rdd:\n",
    "    ticker_list.append(i.cashtag)\n",
    "print(\"Let's look at the most occuring tickers: \" + str(ticker_list[0:10]))\n"
   ]
  },
  {
   "cell_type": "code",
   "execution_count": 0,
   "metadata": {
    "colab": {},
    "colab_type": "code",
    "id": "HGquifLHEqa1",
    "outputId": "8d69b2c9-bc12-4b57-fd7b-d254a339d895"
   },
   "outputs": [
    {
     "data": {
      "text/plain": [
       "'#### Mine stock prices\\nproblem_stocks = []\\nfor ticker in ticker_list:\\n    try:\\n        text = urllib.request.urlopen(\"http://chart.finance.yahoo.com/table.csv?s={}&a=2&b=1&c=2016&d=3&e=12&f=2017&g=d&ignore=.csv\".format(ticker)).read()\\n        with open(\"stock_mining/{}.csv\".format(ticker), \"w\") as f:\\n            f.write(text)\\n        print(\"{} was written out succesfully\".format(ticker))\\n    \\n    except:\\n        print(\"Problem fetching {}\".format(ticker))\\n        problem_stocks.append(ticker)\\n    \\n# Print out cashtags that have no corresponding stock data\\nprint(problem_stocks)'"
      ]
     },
     "execution_count": 27,
     "metadata": {
      "tags": []
     },
     "output_type": "execute_result"
    }
   ],
   "source": [
    "'''#### Mine stock prices\n",
    "problem_stocks = []\n",
    "for ticker in ticker_list:\n",
    "    try:\n",
    "        text = urllib.request.urlopen(\"http://chart.finance.yahoo.com/table.csv?s={}&a=2&b=1&c=2016&d=3&e=12&f=2017&g=d&ignore=.csv\".format(ticker)).read()\n",
    "        with open(\"stock_mining/{}.csv\".format(ticker), \"w\") as f:\n",
    "            f.write(text)\n",
    "        print(\"{} was written out succesfully\".format(ticker))\n",
    "    \n",
    "    except:\n",
    "        print(\"Problem fetching {}\".format(ticker))\n",
    "        problem_stocks.append(ticker)\n",
    "    \n",
    "# Print out cashtags that have no corresponding stock data\n",
    "print(problem_stocks)'''"
   ]
  },
  {
   "cell_type": "code",
   "execution_count": 0,
   "metadata": {
    "colab": {},
    "colab_type": "code",
    "id": "OJ-vADOVEqa5",
    "outputId": "d1e8a4a3-97f7-40a1-b01b-9cde911377c4"
   },
   "outputs": [
    {
     "name": "stdout",
     "output_type": "stream",
     "text": [
      "PVTL\n",
      "IPO\n",
      "NIO\n",
      "SURF\n",
      "TLRY\n",
      "EAF\n",
      "SPY\n",
      "MOR\n",
      "ZNZBF\n",
      "FB\n",
      "ZUO\n",
      "FCI\n",
      "WAVES\n",
      "SPOT\n"
     ]
    },
    {
     "ename": "KeyboardInterrupt",
     "evalue": "",
     "output_type": "error",
     "traceback": [
      "\u001b[0;31m---------------------------------------------------------------------------\u001b[0m",
      "\u001b[0;31mKeyboardInterrupt\u001b[0m                         Traceback (most recent call last)",
      "\u001b[0;32m<ipython-input-28-bb927a88b5a5>\u001b[0m in \u001b[0;36m<module>\u001b[0;34m\u001b[0m\n\u001b[1;32m      8\u001b[0m     \u001b[0;31m#every 5 times\u001b[0m\u001b[0;34m\u001b[0m\u001b[0;34m\u001b[0m\u001b[0;34m\u001b[0m\u001b[0m\n\u001b[1;32m      9\u001b[0m     \u001b[0;32mif\u001b[0m \u001b[0;34m(\u001b[0m\u001b[0mi\u001b[0m\u001b[0;34m%\u001b[0m\u001b[0;36m5\u001b[0m \u001b[0;34m==\u001b[0m \u001b[0;36m0\u001b[0m\u001b[0;34m)\u001b[0m\u001b[0;34m:\u001b[0m\u001b[0;34m\u001b[0m\u001b[0;34m\u001b[0m\u001b[0m\n\u001b[0;32m---> 10\u001b[0;31m         \u001b[0mtime\u001b[0m\u001b[0;34m.\u001b[0m\u001b[0msleep\u001b[0m\u001b[0;34m(\u001b[0m\u001b[0;36m65\u001b[0m\u001b[0;34m)\u001b[0m\u001b[0;34m\u001b[0m\u001b[0;34m\u001b[0m\u001b[0m\n\u001b[0m\u001b[1;32m     11\u001b[0m     \u001b[0;32mtry\u001b[0m\u001b[0;34m:\u001b[0m\u001b[0;34m\u001b[0m\u001b[0;34m\u001b[0m\u001b[0m\n\u001b[1;32m     12\u001b[0m         \u001b[0;31m#increase our counter, so all the csv files get the correct input\u001b[0m\u001b[0;34m\u001b[0m\u001b[0;34m\u001b[0m\u001b[0;34m\u001b[0m\u001b[0m\n",
      "\u001b[0;31mKeyboardInterrupt\u001b[0m: "
     ]
    }
   ],
   "source": [
    "# Mine stock prices adjusted\n",
    "import time\n",
    "problem_stocks = []\n",
    "i = 1\n",
    "#We'll iterate over all cashtags above the treshold, referd to as tickers.\n",
    "for ticker in ticker_list:\n",
    "    #We can only use the api 5 times per minute, that's why we sleep for a minute (+ some cushioning)\n",
    "    #every 5 times\n",
    "    if (i%5 == 0):\n",
    "        time.sleep(65)\n",
    "    try:\n",
    "        #increase our counter, so all the csv files get the correct input\n",
    "        i = i+1\n",
    "        #fetching the stock prices, all info can be found here: https://www.alphavantage.co/documentation/\n",
    "        text = urllib.request.urlopen(\"https://www.alphavantage.co/query?function=TIME_SERIES_DAILY&symbol={}&outputsize=full&interval=60min&apikey={}&datatype=csv\".format(ticker,AV_API_key)).read()\n",
    "    except Exception as error:\n",
    "        #If there is an error, the tickers get added to a list.\n",
    "        print(error)\n",
    "        print(\"Problem fetching {}\".format(ticker))\n",
    "        problem_stocks.append(ticker)\n",
    "    print(ticker)\n",
    "    #We split the text into an array, first we need to extract every line, these end in \\\\r\\\\n\n",
    "    #then we split them on every comma, this is so we can convert them to a csv file later.\n",
    "    textrows = str(text).split(\"\\\\r\\\\n\")\n",
    "    textcsv = map(lambda x:(x.split(',')), textrows)\n",
    "    with open(\"/home/mma/Downloads/IPO_project/stock_mining/{}.csv\".format(ticker), \"w\") as f:\n",
    "        writer = csv.writer(f)\n",
    "        writer.writerows(textcsv)\n",
    "# Print out cashtags that have no corresponding stock data\n",
    "print(problem_stocks)"
   ]
  },
  {
   "cell_type": "code",
   "execution_count": 0,
   "metadata": {
    "colab": {},
    "colab_type": "code",
    "id": "MFnktgF4Eqa9",
    "outputId": "537b45fe-bca9-46ce-d125-c81b55f4eb7e"
   },
   "outputs": [
    {
     "name": "stdout",
     "output_type": "stream",
     "text": [
      "+------------+-----------+------------------+--------------------+-----------------+--------------+--------------+---------+------------+----+------------------+------------------+-----------------------+---------------------+-------------------------+-------------------+-----------------------+---------------+----+-----+------------------+-----------+--------------------+------------------+--------------------+-----------------------+-----------+-------------+---------+--------------------+--------------------+--------------------+-------------+---------+--------------------+---------------------+-------------------+--------------------+--------+------------+----------------+---------------------+--------------------+-------------------+\n",
      "|contributors|coordinates|display_text_range|            entities|extended_entities|extended_tweet|favorite_count|favorited|filter_level| geo|                id|            id_str|in_reply_to_screen_name|in_reply_to_status_id|in_reply_to_status_id_str|in_reply_to_user_id|in_reply_to_user_id_str|is_quote_status|lang|place|possibly_sensitive|quote_count|       quoted_status|  quoted_status_id|quoted_status_id_str|quoted_status_permalink|reply_count|retweet_count|retweeted|    retweeted_status|              source|                text| timestamp_ms|truncated|                user|withheld_in_countries|          timestamp|          text_lower|cashtags|contains_ipo|contains_cashtag|contains_company_name|     retweet_pattern|contains_RT_pattern|\n",
      "+------------+-----------+------------------+--------------------+-----------------+--------------+--------------+---------+------------+----+------------------+------------------+-----------------------+---------------------+-------------------------+-------------------+-----------------------+---------------+----+-----+------------------+-----------+--------------------+------------------+--------------------+-----------------------+-----------+-------------+---------+--------------------+--------------------+--------------------+-------------+---------+--------------------+---------------------+-------------------+--------------------+--------+------------+----------------+---------------------+--------------------+-------------------+\n",
      "|        null|       null|              null|[[],, [], [], [[3...|             null|          null|             0|    false|         low|null|986062545457836032|986062545457836032|                   null|                 null|                     null|               null|                   null|           true|  en| null|              null|          0|[,, Mon Apr 16 21...|985987842475266049|  985987842475266049|                   null|          0|            0|    false|[,, Tue Apr 17 01...|<a href=\"http://t...|RT @NatashaBertra...|1523930605650|    false|[false, Sun Jun 1...|                 null|2018-04-17 02:03:25|rt @natashabertra...|      []|           0|               0|                    0|RT @NatashaBertra...|                  1|\n",
      "|        null|       null|              null|[[],, [], [], [[3...|             null|          null|             0|    false|         low|null|986062545873072128|986062545873072128|                   null|                 null|                     null|               null|                   null|           true|  en| null|              null|          0|[,, Mon Apr 16 21...|985987842475266049|  985987842475266049|                   null|          0|            0|    false|[,, Tue Apr 17 01...|<a href=\"http://t...|RT @NatashaBertra...|1523930605749|    false|[false, Fri Nov 0...|                 null|2018-04-17 02:03:25|rt @natashabertra...|      []|           0|               0|                    0|RT @NatashaBertra...|                  1|\n",
      "|        null|       null|              null|[[],, [], [], [[3...|             null|          null|             0|    false|         low|null|986062548268089344|986062548268089344|                   null|                 null|                     null|               null|                   null|           true|  en| null|              null|          0|[,, Mon Apr 16 21...|985987842475266049|  985987842475266049|                   null|          0|            0|    false|[,, Tue Apr 17 01...|<a href=\"http://t...|RT @NatashaBertra...|1523930606320|    false|[false, Sat May 0...|                 null|2018-04-17 02:03:26|rt @natashabertra...|      []|           0|               0|                    0|RT @NatashaBertra...|                  1|\n",
      "|        null|       null|              null|[[],, [], [], [[3...|             null|          null|             0|    false|         low|null|986062549660598278|986062549660598278|                   null|                 null|                     null|               null|                   null|           true|  en| null|              null|          0|[,, Mon Apr 16 21...|985987842475266049|  985987842475266049|                   null|          0|            0|    false|[,, Tue Apr 17 01...|<a href=\"http://t...|RT @NatashaBertra...|1523930606652|    false|[false, Tue May 1...|                 null|2018-04-17 02:03:26|rt @natashabertra...|      []|           0|               0|                    0|RT @NatashaBertra...|                  1|\n",
      "|        null|       null|              null|[[],, [], [], [[3...|             null|          null|             0|    false|         low|null|986062551124410368|986062551124410368|                   null|                 null|                     null|               null|                   null|           true|  en| null|              null|          0|[,, Mon Apr 16 21...|985987842475266049|  985987842475266049|                   null|          0|            0|    false|[,, Tue Apr 17 01...|<a href=\"http://t...|RT @NatashaBertra...|1523930607001|    false|[false, Sun Jul 1...|                 null|2018-04-17 02:03:27|rt @natashabertra...|      []|           0|               0|                    0|RT @NatashaBertra...|                  1|\n",
      "|        null|       null|              null|[[],, [], [], [[3...|             null|          null|             0|    false|         low|null|986062579087929351|986062579087929351|                   null|                 null|                     null|               null|                   null|           true|  en| null|              null|          0|[,, Mon Apr 16 21...|985987842475266049|  985987842475266049|                   null|          0|            0|    false|[,, Tue Apr 17 01...|<a href=\"http://t...|RT @NatashaBertra...|1523930613668|    false|[false, Sun Nov 2...|                 null|2018-04-17 02:03:33|rt @natashabertra...|      []|           0|               0|                    0|RT @NatashaBertra...|                  1|\n",
      "|        null|       null|              null|[[],, [], [], [[7...|             null|          null|             0|    false|         low|null|986062581424148482|986062581424148482|                   null|                 null|                     null|               null|                   null|           true|  en| null|              null|          0|[,, Tue Apr 17 01...|986059324836413445|  986059324836413445|                   null|          0|            0|    false|[,, Tue Apr 17 01...|<a href=\"http://t...|RT @renato_mariot...|1523930614225|    false|[false, Tue Mar 0...|                 null|2018-04-17 02:03:34|rt @renato_mariot...|      []|           0|               0|                    0|                    |                  0|\n",
      "|        null|       null|            [0, 7]|[[],, [], [[twitt...|             null|          null|             0|    false|         low|null|986062582183268353|986062582183268353|                   null|                 null|                     null|               null|                   null|           true|  en| null|             false|          0|[,, Tue Apr 17 01...|986059324836413445|  986059324836413445|                   null|          0|            0|    false|                null|<a href=\"http://t...|Amazing https://t...|1523930614406|    false|[false, Thu Aug 1...|                 null|2018-04-17 02:03:34|amazing https://t...|      []|           0|               0|                    0|                    |                  0|\n",
      "|        null|       null|              null|[[],, [], [], [[7...|             null|          null|             0|    false|         low|null|986062582485307394|986062582485307394|                   null|                 null|                     null|               null|                   null|           true|  en| null|              null|          0|[,, Tue Apr 17 01...|986059324836413445|  986059324836413445|                   null|          0|            0|    false|[,, Tue Apr 17 01...|<a href=\"http://t...|RT @renato_mariot...|1523930614478|    false|[false, Mon Jun 1...|                 null|2018-04-17 02:03:34|rt @renato_mariot...|      []|           0|               0|                    0|                    |                  0|\n",
      "|        null|       null|              null|[[],, [], [], [[3...|             null|          null|             0|    false|         low|null|986062582489407488|986062582489407488|                   null|                 null|                     null|               null|                   null|           true|  en| null|              null|          0|[,, Mon Apr 16 21...|985987842475266049|  985987842475266049|                   null|          0|            0|    false|[,, Tue Apr 17 01...|<a href=\"http://t...|RT @NatashaBertra...|1523930614479|    false|[false, Wed Jun 2...|                 null|2018-04-17 02:03:34|rt @natashabertra...|      []|           0|               0|                    0|RT @NatashaBertra...|                  1|\n",
      "|        null|       null|              null|[[],, [], [], [[7...|             null|          null|             0|    false|         low|null|986062588650905600|986062588650905600|                   null|                 null|                     null|               null|                   null|           true|  en| null|              null|          0|[,, Tue Apr 17 01...|986059324836413445|  986059324836413445|                   null|          0|            0|    false|[,, Tue Apr 17 01...|<a href=\"http://t...|RT @renato_mariot...|1523930615948|    false|[false, Tue Jul 2...|                 null|2018-04-17 02:03:35|rt @renato_mariot...|      []|           0|               0|                    0|                    |                  0|\n",
      "|        null|       null|              null|[[],, [], [], [[7...|             null|          null|             0|    false|         low|null|986062590458593280|986062590458593280|                   null|                 null|                     null|               null|                   null|           true|  en| null|              null|          0|[,, Tue Apr 17 01...|986059324836413445|  986059324836413445|                   null|          0|            0|    false|[,, Tue Apr 17 01...|<a href=\"http://t...|RT @renato_mariot...|1523930616379|    false|[false, Sun Jun 1...|                 null|2018-04-17 02:03:36|rt @renato_mariot...|      []|           0|               0|                    0|                    |                  0|\n",
      "|        null|       null|              null|[[],, [], [], [[3...|             null|          null|             0|    false|         low|null|986062596112445441|986062596112445441|                   null|                 null|                     null|               null|                   null|           true|  en| null|              null|          0|[,, Mon Apr 16 21...|985987842475266049|  985987842475266049|                   null|          0|            0|    false|[,, Tue Apr 17 01...|<a href=\"http://t...|RT @NatashaBertra...|1523930617727|    false|[false, Fri Mar 2...|                 null|2018-04-17 02:03:37|rt @natashabertra...|      []|           0|               0|                    0|RT @NatashaBertra...|                  1|\n",
      "|        null|       null|              null|[[],, [], [], [[3...|             null|          null|             0|    false|         low|null|986062611677622272|986062611677622272|                   null|                 null|                     null|               null|                   null|           true|  en| null|              null|          0|[,, Mon Apr 16 21...|985987842475266049|  985987842475266049|                   null|          0|            0|    false|[,, Tue Apr 17 01...|<a href=\"http://t...|RT @NatashaBertra...|1523930621438|    false|[false, Mon Mar 1...|                 null|2018-04-17 02:03:41|rt @natashabertra...|      []|           0|               0|                    0|RT @NatashaBertra...|                  1|\n",
      "|        null|       null|              null|[[],, [], [], [[3...|             null|          null|             0|    false|         low|null|986062613233766400|986062613233766400|                   null|                 null|                     null|               null|                   null|           true|  en| null|              null|          0|[,, Mon Apr 16 21...|985987842475266049|  985987842475266049|                   null|          0|            0|    false|[,, Tue Apr 17 01...|<a href=\"http://t...|RT @NatashaBertra...|1523930621809|    false|[false, Sat Oct 1...|                 null|2018-04-17 02:03:41|rt @natashabertra...|      []|           0|               0|                    0|RT @NatashaBertra...|                  1|\n",
      "|        null|       null|              null|[[],, [], [], [[3...|             null|          null|             0|    false|         low|null|986062618799591424|986062618799591424|                   null|                 null|                     null|               null|                   null|           true|  en| null|              null|          0|[,, Mon Apr 16 21...|985987842475266049|  985987842475266049|                   null|          0|            0|    false|[,, Tue Apr 17 01...|<a href=\"http://t...|RT @NatashaBertra...|1523930623136|    false|[false, Thu Sep 2...|                 null|2018-04-17 02:03:43|rt @natashabertra...|      []|           0|               0|                    0|RT @NatashaBertra...|                  1|\n",
      "|        null|       null|              null|[[],, [], [], [[3...|             null|          null|             0|    false|         low|null|986062632342999040|986062632342999040|                   null|                 null|                     null|               null|                   null|           true|  en| null|              null|          0|[,, Mon Apr 16 21...|985987842475266049|  985987842475266049|                   null|          0|            0|    false|[,, Tue Apr 17 01...|<a href=\"http://t...|RT @NatashaBertra...|1523930626365|    false|[false, Tue Jul 0...|                 null|2018-04-17 02:03:46|rt @natashabertra...|      []|           0|               0|                    0|RT @NatashaBertra...|                  1|\n",
      "|        null|       null|           [0, 22]|[[],, [], [[twitt...|             null|          null|             0|    false|         low|null|986062634934910976|986062634934910976|                   null|                 null|                     null|               null|                   null|           true|  en| null|             false|          0|[,, Tue Apr 17 01...|986059324836413445|  986059324836413445|                   null|          0|            0|    false|                null|<a href=\"http://t...|Grandpa gonna be ...|1523930626983|    false|[false, Mon Jan 2...|                 null|2018-04-17 02:03:46|grandpa gonna be ...|      []|           0|               0|                    0|                    |                  0|\n",
      "|        null|       null|              null|[[],, [], [], [[3...|             null|          null|             0|    false|         low|null|986062635870441472|986062635870441472|                   null|                 null|                     null|               null|                   null|           true|  en| null|              null|          0|[,, Mon Apr 16 21...|985987842475266049|  985987842475266049|                   null|          0|            0|    false|[,, Tue Apr 17 01...|<a href=\"http://t...|RT @NatashaBertra...|1523930627206|    false|[false, Sun Jun 1...|                 null|2018-04-17 02:03:47|rt @natashabertra...|      []|           0|               0|                    0|RT @NatashaBertra...|                  1|\n",
      "|        null|       null|              null|[[],, [], [], [[3...|             null|          null|             0|    false|         low|null|986062640274272256|986062640274272256|                   null|                 null|                     null|               null|                   null|           true|  en| null|              null|          0|[,, Mon Apr 16 21...|985987842475266049|  985987842475266049|                   null|          0|            0|    false|[,, Tue Apr 17 01...|<a href=\"http://t...|RT @NatashaBertra...|1523930628256|    false|[false, Thu Jul 0...|                 null|2018-04-17 02:03:48|rt @natashabertra...|      []|           0|               0|                    0|RT @NatashaBertra...|                  1|\n",
      "+------------+-----------+------------------+--------------------+-----------------+--------------+--------------+---------+------------+----+------------------+------------------+-----------------------+---------------------+-------------------------+-------------------+-----------------------+---------------+----+-----+------------------+-----------+--------------------+------------------+--------------------+-----------------------+-----------+-------------+---------+--------------------+--------------------+--------------------+-------------+---------+--------------------+---------------------+-------------------+--------------------+--------+------------+----------------+---------------------+--------------------+-------------------+\n",
      "only showing top 20 rows\n",
      "\n"
     ]
    }
   ],
   "source": [
    "# Plot tickers\n",
    "df.show()"
   ]
  },
  {
   "cell_type": "code",
   "execution_count": 0,
   "metadata": {
    "colab": {},
    "colab_type": "code",
    "id": "GPjBaniGEqbC"
   },
   "outputs": [],
   "source": [
    "# function to plot the tickers information(number of tweets vs the price fluctuation)\n",
    "def plot_ticker(df, stock_name, image_save_dir = \"stock_plots\", save_image = False):\n",
    "    stock_name = stock_name.upper()\n",
    "################ NEW #####################\n",
    "    \n",
    "#    CT_TS_pd = (df.select((\"timestamp\"))#, explode(\"cashtags\").alias(\"cashtag\"))\n",
    "#                                #.filter(\"cashtag == '{}'\".format(stock_name))\n",
    "#                              ).toPandas()\n",
    "   # CT_TS_pd = (df.select(Timestamp.(\"timestamp\").tz_localize)\n",
    "################ OLD#######################\n",
    "     # cashtag count per day\n",
    "    CT_TS_pd = (df.select(\"timestamp\", explode(\"cashtags\").alias(\"cashtag\"))\n",
    "                                .filter(\"cashtag == '{}'\".format(stock_name))\n",
    "                              ).toPandas()   \n",
    "#############################################\n",
    "\n",
    "    CT_TS_pd[\"date\"] = CT_TS_pd[\"timestamp\"].apply(lambda x: x.date())\n",
    "\n",
    "    CT_TS_pd[\"date_str\"] = CT_TS_pd[\"date\"].apply(lambda x: str(x))\n",
    "    CT_TS_pd.drop(\"timestamp\", axis = 1, inplace = True)\n",
    "\n",
    "    #cashtag count per day\n",
    "    CT_TWTCOUNT_DATE = (pd.DataFrame(data = CT_TS_pd[\"date_str\"].value_counts())\n",
    "                          .sort_index(ascending = True)\n",
    "                          .reset_index(drop = False)\n",
    "                          .rename(index=str, columns={\"index\": \"date\", \"date_str\": \"tweet_count\"})\n",
    "                        )\n",
    "\n",
    "    # Read stock prices from stock prices\n",
    "    stock_prices = (pd.read_csv(\"stock_mining/{}.csv\".format(stock_name))\n",
    "            .drop([\"open\", \"high\", \"low\", \"volume\"], axis = 1)\n",
    "            .rename(index=str, columns={\"b'timestamp\": \"date\", \"close\": \"closing_price\"})\n",
    "            .sort_values(\"date\", ascending = True)\n",
    "          )  \n",
    "\n",
    "    full_stock_df = (pd.merge(left = stock_prices, \n",
    "                                 right = CT_TWTCOUNT_DATE, \n",
    "                                 on = \"date\", \n",
    "                                 how = \"right\")\n",
    "                            .sort_values(\"date\", ascending = True)\n",
    "                            .dropna(axis = 0, how = \"any\", subset = [\"closing_price\"])\n",
    "                            .fillna(value = 0)\n",
    "                         )\n",
    "    \n",
    "    # PLOTTING\n",
    "    fig = plt.figure(figsize = (20,7))\n",
    "\n",
    "    ax1 = fig.add_subplot(111)\n",
    "    ax1.set_title(stock_name.upper())\n",
    "    ax1.plot(full_stock_df[\"tweet_count\"], color= colors[\"orange\"], linewidth = 2.5)\n",
    "    ax1.set_ylabel('tweet count')\n",
    "    ax1.legend(loc = 1)\n",
    "    \n",
    "    ax2 = ax1.twinx()\n",
    "    ax2.plot(full_stock_df[\"closing_price\"].ix[(full_stock_df.closing_price != 0)], color = colors[\"blue\"], linewidth = 2.5)\n",
    "    ax2.set_ylabel('Closing_price')\n",
    "    \n",
    "    ax2.xaxis.set_major_locator(YearLocator())\n",
    "    ax2.xaxis.set_major_formatter(DateFormatter('%Y'))\n",
    "    ax2.xaxis.set_minor_locator(MonthLocator())\n",
    "    # format the coords message box\n",
    "    ax2.format_xdata = DateFormatter('%Y-%m-%d')\n",
    "    ax2.grid(True)\n",
    "    ax2.legend(loc = 1)\n",
    "    \n",
    "    print(\"Count is orange, stock price is blue\")\n",
    "    if save_image is True:\n",
    "        fig.savefig('{}/{}.png'.format(image_save_dir, stock_name))\n",
    "        print(\"Image is saved as in the following location: {}/{}.png\".format(image_save_dir, stock_name))\n",
    "    fig.show()\n",
    "    #return full_stock_df"
   ]
  },
  {
   "cell_type": "code",
   "execution_count": 0,
   "metadata": {
    "colab": {},
    "colab_type": "code",
    "id": "kH1Bww6LEqbF",
    "outputId": "2a230552-bc72-41f9-e7fe-2946f33563cc"
   },
   "outputs": [
    {
     "name": "stderr",
     "output_type": "stream",
     "text": [
      "/home/mma/\u001b/lib/python3.7/site-packages/ipykernel_launcher.py:54: DeprecationWarning: \n",
      ".ix is deprecated. Please use\n",
      ".loc for label based indexing or\n",
      ".iloc for positional indexing\n",
      "\n",
      "See the documentation here:\n",
      "http://pandas.pydata.org/pandas-docs/stable/indexing.html#ix-indexer-is-deprecated\n",
      "/home/mma/\u001b/lib/python3.7/site-packages/matplotlib/figure.py:445: UserWarning: Matplotlib is currently using module://ipykernel.pylab.backend_inline, which is a non-GUI backend, so cannot show the figure.\n",
      "  % get_backend())\n"
     ]
    },
    {
     "name": "stdout",
     "output_type": "stream",
     "text": [
      "Count is orange, stock price is blue\n"
     ]
    },
    {
     "data": {
      "image/png": "[encoded data removed]",
      "text/plain": [
       "<Figure size 1440x504 with 2 Axes>"
      ]
     },
     "metadata": {
      "needs_background": "light",
      "tags": []
     },
     "output_type": "display_data"
    }
   ],
   "source": [
    "# Most plot_tickers have problems with the : Cannot convert tz-naive Timestamp, use tz_localize to localize = > problem with the timestamp convertion to panda's.\n",
    "# look at the code of Twitter filter or twitter analyse for a solution, timestamps have also been used. \n",
    "# yet the plots do not give this error. the conversion has been done differently\n",
    "plot_ticker(df, \"IPO\", save_image=False)"
   ]
  },
  {
   "cell_type": "code",
   "execution_count": 10,
   "metadata": {
    "colab": {},
    "colab_type": "code",
    "id": "st-t39w0EqbK"
   },
   "outputs": [],
   "source": [
    "# # <span style = 'color : darkred'>  One observation per tweet </span style>\n",
    "\n",
    "# ### <span style = 'color:darkgreen'> Keep one observation per tweet </span style>\n",
    "# \n",
    "# The mechanism of tweets and retweets is the following:\n",
    "# \n",
    "# - An original tweet is sent out\n",
    "# - Somebody retweets:\n",
    "#     - The retweet is preceded by **RT @username_original_tweet: [text of original tweet]**\n",
    "#     - The retweet count is incremented in the original tweet BUT in the retweet as well\n",
    "#  \n",
    "# That means, even if we don't have the original tweet, we can obtain in by removing the pattern **RT @username_original_tweet:** from the retweet. This is important because, as shown below, we won't always have access to the original tweet.\n",
    "# \n",
    "# Another important step to take, is to delete all duplicates. Ultimately, we're going to be training and testing models on these tweets. Predicting a number of retweets using multiple training examples (i.e. retweets) per tweet would be erroneous. Hence we're going to take a few steps to try and avoid having  duplicate tweets in our dataset.\n",
    "# \n",
    "# \n"
   ]
  },
  {
   "cell_type": "code",
   "execution_count": 11,
   "metadata": {
    "colab": {},
    "colab_type": "code",
    "id": "sfXdtKO2EqbN"
   },
   "outputs": [],
   "source": [
    "### <span style = 'color:darkgreen'> Rename & unnest important columns </span style>"
   ]
  },
  {
   "cell_type": "code",
   "execution_count": 12,
   "metadata": {
    "colab": {},
    "colab_type": "code",
    "id": "VMd9zGHMEqbR"
   },
   "outputs": [
    {
     "ename": "NameError",
     "evalue": "name 'udf' is not defined",
     "output_type": "error",
     "traceback": [
      "\u001b[0;31m---------------------------------------------------------------------------\u001b[0m",
      "\u001b[0;31mNameError\u001b[0m                                 Traceback (most recent call last)",
      "\u001b[0;32m<ipython-input-12-547e740a7464>\u001b[0m in \u001b[0;36m<module>\u001b[0;34m\u001b[0m\n\u001b[1;32m     21\u001b[0m     \u001b[0;32mreturn\u001b[0m \u001b[0mclean_text\u001b[0m\u001b[0;34m\u001b[0m\u001b[0;34m\u001b[0m\u001b[0m\n\u001b[1;32m     22\u001b[0m \u001b[0;34m\u001b[0m\u001b[0m\n\u001b[0;32m---> 23\u001b[0;31m \u001b[0mudf_clean_text\u001b[0m \u001b[0;34m=\u001b[0m \u001b[0mudf\u001b[0m\u001b[0;34m(\u001b[0m\u001b[0mclean_text\u001b[0m\u001b[0;34m,\u001b[0m \u001b[0mStringType\u001b[0m\u001b[0;34m(\u001b[0m\u001b[0;34m)\u001b[0m\u001b[0;34m)\u001b[0m\u001b[0;34m\u001b[0m\u001b[0;34m\u001b[0m\u001b[0m\n\u001b[0m",
      "\u001b[0;31mNameError\u001b[0m: name 'udf' is not defined"
     ]
    }
   ],
   "source": [
    "#Tweets can contain a lot of useless data or data that's hard to analyze. This includes the retweet patern,\n",
    "#The hashtags, truncations and more.\n",
    "def clean_text(text):\n",
    "    # Remove pattern that signifies retweet\n",
    "    clean_text = re.sub(pattern = \"RT\\s@[a-zA-Z0-9]+:\\s\", repl = \"\", string = text)\n",
    "    clean_text = re.sub(r\"\\'s\", \" \", clean_text)\n",
    "    clean_text = re.sub(r\"\\'ve\", \" have \", clean_text)\n",
    "    clean_text = re.sub(r\"can't\", \"cannot \", clean_text)\n",
    "    clean_text = re.sub(r\"n't\", \" not \", clean_text)\n",
    "    clean_text = re.sub(r\"i'm\", \"i am \", clean_text)\n",
    "    clean_text = re.sub(r\"\\'re\", \" are \", clean_text)\n",
    "    clean_text = re.sub(r\"\\'d\", \" would \", clean_text)\n",
    "    clean_text = re.sub(r\"\\'ll\", \" will \", clean_text)\n",
    "    clean_text = re.sub(pattern = \"\\$[A-Za-z]{1,5}\", repl = \" ticker \", string = clean_text)\n",
    "    clean_text = re.sub(pattern =  \"w/\", repl = \"with\", string = clean_text)\n",
    "    clean_text = re.sub(pattern = \"http(s)?:\\/\\/[^\\s]+\", repl = \"website\", string = clean_text)\n",
    "    clean_text = re.sub(pattern = \"[\\|!,\\|?\\.\\[\\]\\\"'(\\n):\\$\\&\\#\\-\\%\\+]+\", repl = \" \", string = clean_text)\n",
    "    clean_text = re.sub(pattern = ' +', repl = ' ', string = clean_text)\n",
    "    clean_text = re.sub(pattern = \"@[A-Za-z0-9]+\", repl = \"user\", string= clean_text)\n",
    "    clean_text = clean_text.lower()\n",
    "    return clean_text\n",
    "    \n",
    "udf_clean_text = udf(clean_text, StringType())"
   ]
  },
  {
   "cell_type": "code",
   "execution_count": 13,
   "metadata": {
    "colab": {},
    "colab_type": "code",
    "id": "hg_aOLzMEqbT",
    "outputId": "29f6ef5d-ec7a-4731-d399-a9b77ba4ddfe"
   },
   "outputs": [
    {
     "ename": "NameError",
     "evalue": "name 're' is not defined",
     "output_type": "error",
     "traceback": [
      "\u001b[0;31m---------------------------------------------------------------------------\u001b[0m",
      "\u001b[0;31mNameError\u001b[0m                                 Traceback (most recent call last)",
      "\u001b[0;32m<ipython-input-13-1b6bb5051472>\u001b[0m in \u001b[0;36m<module>\u001b[0;34m\u001b[0m\n\u001b[0;32m----> 1\u001b[0;31m \u001b[0mclean_text\u001b[0m\u001b[0;34m(\u001b[0m\u001b[0;34m\"RT @VIZIO: @blabla Ever wonder what it's like  new vizio 56465% +22 d24d1 24 class led smart tv 1080p new 2016 model 13899end date wednesday jun... website to \"\u001b[0m \u001b[0;34m+\u001b[0m            \u001b[0;34m\"work w/ at\\n\\n VIZIO? Check out our company profile: https://t.co/IkJXNZ9pL4 https://t.co/TWSixQQnU\"\u001b[0m\u001b[0;34m)\u001b[0m\u001b[0;34m\u001b[0m\u001b[0;34m\u001b[0m\u001b[0m\n\u001b[0m\u001b[1;32m      2\u001b[0m \u001b[0;34m\u001b[0m\u001b[0m\n",
      "\u001b[0;32m<ipython-input-12-547e740a7464>\u001b[0m in \u001b[0;36mclean_text\u001b[0;34m(text)\u001b[0m\n\u001b[1;32m      3\u001b[0m \u001b[0;32mdef\u001b[0m \u001b[0mclean_text\u001b[0m\u001b[0;34m(\u001b[0m\u001b[0mtext\u001b[0m\u001b[0;34m)\u001b[0m\u001b[0;34m:\u001b[0m\u001b[0;34m\u001b[0m\u001b[0;34m\u001b[0m\u001b[0m\n\u001b[1;32m      4\u001b[0m     \u001b[0;31m# Remove pattern that signifies retweet\u001b[0m\u001b[0;34m\u001b[0m\u001b[0;34m\u001b[0m\u001b[0;34m\u001b[0m\u001b[0m\n\u001b[0;32m----> 5\u001b[0;31m     \u001b[0mclean_text\u001b[0m \u001b[0;34m=\u001b[0m \u001b[0mre\u001b[0m\u001b[0;34m.\u001b[0m\u001b[0msub\u001b[0m\u001b[0;34m(\u001b[0m\u001b[0mpattern\u001b[0m \u001b[0;34m=\u001b[0m \u001b[0;34m\"RT\\s@[a-zA-Z0-9]+:\\s\"\u001b[0m\u001b[0;34m,\u001b[0m \u001b[0mrepl\u001b[0m \u001b[0;34m=\u001b[0m \u001b[0;34m\"\"\u001b[0m\u001b[0;34m,\u001b[0m \u001b[0mstring\u001b[0m \u001b[0;34m=\u001b[0m \u001b[0mtext\u001b[0m\u001b[0;34m)\u001b[0m\u001b[0;34m\u001b[0m\u001b[0;34m\u001b[0m\u001b[0m\n\u001b[0m\u001b[1;32m      6\u001b[0m     \u001b[0mclean_text\u001b[0m \u001b[0;34m=\u001b[0m \u001b[0mre\u001b[0m\u001b[0;34m.\u001b[0m\u001b[0msub\u001b[0m\u001b[0;34m(\u001b[0m\u001b[0;34mr\"\\'s\"\u001b[0m\u001b[0;34m,\u001b[0m \u001b[0;34m\" \"\u001b[0m\u001b[0;34m,\u001b[0m \u001b[0mclean_text\u001b[0m\u001b[0;34m)\u001b[0m\u001b[0;34m\u001b[0m\u001b[0;34m\u001b[0m\u001b[0m\n\u001b[1;32m      7\u001b[0m     \u001b[0mclean_text\u001b[0m \u001b[0;34m=\u001b[0m \u001b[0mre\u001b[0m\u001b[0;34m.\u001b[0m\u001b[0msub\u001b[0m\u001b[0;34m(\u001b[0m\u001b[0;34mr\"\\'ve\"\u001b[0m\u001b[0;34m,\u001b[0m \u001b[0;34m\" have \"\u001b[0m\u001b[0;34m,\u001b[0m \u001b[0mclean_text\u001b[0m\u001b[0;34m)\u001b[0m\u001b[0;34m\u001b[0m\u001b[0;34m\u001b[0m\u001b[0m\n",
      "\u001b[0;31mNameError\u001b[0m: name 're' is not defined"
     ]
    }
   ],
   "source": [
    "clean_text(\"RT @VIZIO: @blabla Ever wonder what it's like  new vizio 56465% +22 d24d1 24 class led smart tv 1080p new 2016 model 13899end date wednesday jun... website to \" +            \"work w/ at\\n\\n VIZIO? Check out our company profile: https://t.co/IkJXNZ9pL4 https://t.co/TWSixQQnU\")\n",
    "\n"
   ]
  },
  {
   "cell_type": "code",
   "execution_count": 14,
   "metadata": {
    "colab": {},
    "colab_type": "code",
    "id": "GCiCRvIbEqbY"
   },
   "outputs": [],
   "source": [
    "#function to find url in the tweet\n",
    "def contains_url(isNotNull):\n",
    "    if isNotNull == True:\n",
    "        return 1\n",
    "    else:\n",
    "        return 0"
   ]
  },
  {
   "cell_type": "code",
   "execution_count": 15,
   "metadata": {
    "colab": {},
    "colab_type": "code",
    "id": "AtjjQ2yUEqbb"
   },
   "outputs": [
    {
     "ename": "NameError",
     "evalue": "name 'df' is not defined",
     "output_type": "error",
     "traceback": [
      "\u001b[0;31m---------------------------------------------------------------------------\u001b[0m",
      "\u001b[0;31mNameError\u001b[0m                                 Traceback (most recent call last)",
      "\u001b[0;32m<ipython-input-15-f999594d5c5b>\u001b[0m in \u001b[0;36m<module>\u001b[0;34m\u001b[0m\n\u001b[1;32m      1\u001b[0m \u001b[0;34m\u001b[0m\u001b[0m\n\u001b[0;32m----> 2\u001b[0;31m \u001b[0mdf\u001b[0m\u001b[0;34m.\u001b[0m\u001b[0mcreateOrReplaceTempView\u001b[0m\u001b[0;34m(\u001b[0m\u001b[0;34m\"DF_SQL\"\u001b[0m\u001b[0;34m)\u001b[0m \u001b[0;31m# creating a temporaary view table\u001b[0m\u001b[0;34m\u001b[0m\u001b[0;34m\u001b[0m\u001b[0m\n\u001b[0m\u001b[1;32m      3\u001b[0m \u001b[0;34m\u001b[0m\u001b[0m\n\u001b[1;32m      4\u001b[0m \u001b[0;31m#performing descriptive stats on tweets\u001b[0m\u001b[0;34m\u001b[0m\u001b[0;34m\u001b[0m\u001b[0;34m\u001b[0m\u001b[0m\n\u001b[1;32m      5\u001b[0m df_distinct_tweets = (\n",
      "\u001b[0;31mNameError\u001b[0m: name 'df' is not defined"
     ]
    }
   ],
   "source": [
    "\n",
    "df.createOrReplaceTempView(\"DF_SQL\") # creating a temporaary view table\n",
    "\n",
    "#performing descriptive stats on tweets \n",
    "df_distinct_tweets = (\n",
    "    spark.sql(\"SELECT entities, extended_entities, favorite_count, id_str, in_reply_to_status_id_str, \\\n",
    "                      is_quote_status, lang, place, a.text, user, a.timestamp, a.retweet_count, \\\n",
    "                      a.cashtags, a.contains_ipo, a.contains_cashtag \\\n",
    "               FROM DF_SQL a Inner JOIN \\\n",
    "                           (SELECT text, retweet_count, min(timestamp) as timestamp \\\n",
    "                           FROM DF_SQL \\\n",
    "                           GROUP BY text, retweet_count \\\n",
    "                           ) b \\\n",
    "                ON  a.text = b.text \\\n",
    "                AND a.retweet_count=b.retweet_count \\\n",
    "                AND a.timestamp = b.timestamp\")\n",
    "             ).distinct()"
   ]
  },
  {
   "cell_type": "code",
   "execution_count": 16,
   "metadata": {
    "colab": {},
    "colab_type": "code",
    "id": "oliR3QFEEqbe",
    "outputId": "8b3a73dd-1df5-4621-94eb-97c55af13a20"
   },
   "outputs": [],
   "source": [
    "#df_distinct_tweets.printSchema()"
   ]
  },
  {
   "cell_type": "code",
   "execution_count": 17,
   "metadata": {
    "colab": {},
    "colab_type": "code",
    "id": "7Wshacn7Eqbh",
    "outputId": "34cf1331-e093-4fe2-b078-ffc4b42cfad3"
   },
   "outputs": [
    {
     "ename": "NameError",
     "evalue": "name 'df_distinct_tweets' is not defined",
     "output_type": "error",
     "traceback": [
      "\u001b[0;31m---------------------------------------------------------------------------\u001b[0m",
      "\u001b[0;31mNameError\u001b[0m                                 Traceback (most recent call last)",
      "\u001b[0;32m<ipython-input-17-0fc65d953e70>\u001b[0m in \u001b[0;36m<module>\u001b[0;34m\u001b[0m\n\u001b[1;32m      1\u001b[0m \u001b[0;31m# extracting distinct tweets from the cleaned tweets. There is chance of happening retweeting\u001b[0m\u001b[0;34m\u001b[0m\u001b[0;34m\u001b[0m\u001b[0;34m\u001b[0m\u001b[0m\n\u001b[0;32m----> 2\u001b[0;31m df_distinct_tweets = (df_distinct_tweets\n\u001b[0m\u001b[1;32m      3\u001b[0m         \u001b[0;34m.\u001b[0m\u001b[0mwithColumn\u001b[0m\u001b[0;34m(\u001b[0m\u001b[0;34m\"cashtag_count\"\u001b[0m\u001b[0;34m,\u001b[0m \u001b[0mudf\u001b[0m\u001b[0;34m(\u001b[0m\u001b[0;32mlambda\u001b[0m \u001b[0mx\u001b[0m\u001b[0;34m:\u001b[0m \u001b[0mlen\u001b[0m\u001b[0;34m(\u001b[0m\u001b[0mx\u001b[0m\u001b[0;34m)\u001b[0m\u001b[0;34m,\u001b[0m \u001b[0mIntegerType\u001b[0m\u001b[0;34m(\u001b[0m\u001b[0;34m)\u001b[0m\u001b[0;34m)\u001b[0m\u001b[0;34m(\u001b[0m\u001b[0mcol\u001b[0m\u001b[0;34m(\u001b[0m\u001b[0;34m\"cashtags\"\u001b[0m\u001b[0;34m)\u001b[0m\u001b[0;34m)\u001b[0m\u001b[0;34m)\u001b[0m\u001b[0;34m\u001b[0m\u001b[0;34m\u001b[0m\u001b[0m\n\u001b[1;32m      4\u001b[0m     \u001b[0;31m# ENTITIES\u001b[0m\u001b[0;34m\u001b[0m\u001b[0;34m\u001b[0m\u001b[0;34m\u001b[0m\u001b[0m\n\u001b[1;32m      5\u001b[0m         \u001b[0;34m.\u001b[0m\u001b[0mwithColumn\u001b[0m\u001b[0;34m(\u001b[0m\u001b[0;34m\"hashtags\"\u001b[0m\u001b[0;34m,\u001b[0m \u001b[0mcol\u001b[0m\u001b[0;34m(\u001b[0m\u001b[0;34m\"entities.hashtags\"\u001b[0m\u001b[0;34m)\u001b[0m\u001b[0;34m)\u001b[0m\u001b[0;34m\u001b[0m\u001b[0;34m\u001b[0m\u001b[0m\n",
      "\u001b[0;31mNameError\u001b[0m: name 'df_distinct_tweets' is not defined"
     ]
    }
   ],
   "source": [
    "# extracting distinct tweets from the cleaned tweets. There is chance of happening retweeting\n",
    "df_distinct_tweets = (df_distinct_tweets\n",
    "        .withColumn(\"cashtag_count\", udf(lambda x: len(x), IntegerType())(col(\"cashtags\")))\n",
    "    # ENTITIES  \n",
    "        .withColumn(\"hashtags\", col(\"entities.hashtags\"))\n",
    "        .withColumn(\"hashtag_count\", udf(lambda x: len(x), IntegerType())(col(\"hashtags\")))\n",
    "        .withColumn(\"contains_hashtags\", udf(contains_hashtags, IntegerType())(col(\"hashtags\")))\n",
    "        .withColumn(\"contains_url\", udf(contains_url, IntegerType())(col(\"entities.media.display_url\").isNotNull()))\n",
    "        .withColumn(\"user_mentions_count\", udf(lambda x: len(x), IntegerType())(col(\"entities.user_mentions\")))\n",
    "        .drop(\"entities\")\n",
    "    # USER\n",
    "        .withColumn(\"user_seniority\", udf(user_seniority, DoubleType())(\"user.created_at\"))\n",
    "        .withColumn(\"user_description\", col(\"user.description\"))\n",
    "        .withColumn(\"user_favourites_count\", col(\"user.favourites_count\"))\n",
    "        .withColumn(\"user_friends_count\", col(\"user.friends_count\"))\n",
    "        .withColumn(\"user_followers_count\", col(\"user.followers_count\"))\n",
    "        #.withColumn(\"user_description_clean\", udf_clean_text(col(\"user_description\")))\n",
    "        .drop(\"user\")\n",
    "    # PLACE\n",
    "        .drop(\"place\")\n",
    "    # EXTENDED_ENTITIES\n",
    "        .drop(\"extended_entities\")\n",
    "        .withColumn(\"retweet_count_double\", col(\"retweet_count\").cast(\"double\"))\n",
    "        .withColumn(\"day_of_week\", udf_day_of_week(col(\"timestamp\")))\n",
    "        .withColumn(\"text_clean\", udf_clean_text(col(\"text\")))\n",
    "        .withColumn(\"clean_text_len\", udf(lambda x: len(x), IntegerType())(\"text_clean\"))\n",
    "        .withColumn(\"nbr_words\",  udf(lambda x: len(x.split(\" \")), IntegerType())(col(\"text_clean\")))\n",
    "                     )\n",
    "\n",
    "df_distinct_tweets.printSchema()\n",
    "\n",
    "# df_distinct_tweets.write.parquet(\"/home/sachadubrulle/Data/tweets_IPO/ML_features.parquet\", mode = \"overwrite\")\n",
    "\n"
   ]
  },
  {
   "cell_type": "code",
   "execution_count": 18,
   "metadata": {
    "colab": {},
    "colab_type": "code",
    "id": "Esur_u56Eqbl"
   },
   "outputs": [],
   "source": [
    "#df_distinct_tweets = spark.read.parquet(\"/home/sachadubrulle/Data/tweets_IPO/ML_features.parquet/\")\n"
   ]
  },
  {
   "cell_type": "code",
   "execution_count": 19,
   "metadata": {
    "colab": {},
    "colab_type": "code",
    "id": "g9ah1oFMEqbs"
   },
   "outputs": [],
   "source": [
    "# <span style = 'color:darkred'> Machine learning in Spark, the use of pipelines </span style>\n"
   ]
  },
  {
   "cell_type": "code",
   "execution_count": 7,
   "metadata": {
    "colab": {},
    "colab_type": "code",
    "id": "8IdmkIfbEqbv"
   },
   "outputs": [
    {
     "ename": "NameError",
     "evalue": "name 'df_distinct_tweets' is not defined",
     "output_type": "error",
     "traceback": [
      "\u001b[0;31m---------------------------------------------------------------------------\u001b[0m",
      "\u001b[0;31mNameError\u001b[0m                                 Traceback (most recent call last)",
      "\u001b[0;32m<ipython-input-7-8ddacb79ce81>\u001b[0m in \u001b[0;36m<module>\u001b[0;34m\u001b[0m\n\u001b[0;32m----> 1\u001b[0;31m \u001b[0mall_columns\u001b[0m \u001b[0;34m=\u001b[0m \u001b[0mdf_distinct_tweets\u001b[0m\u001b[0;34m.\u001b[0m\u001b[0mcolumns\u001b[0m\u001b[0;34m\u001b[0m\u001b[0;34m\u001b[0m\u001b[0m\n\u001b[0m\u001b[1;32m      2\u001b[0m \u001b[0;31m#print all_columns\u001b[0m\u001b[0;34m\u001b[0m\u001b[0;34m\u001b[0m\u001b[0;34m\u001b[0m\u001b[0m\n\u001b[1;32m      3\u001b[0m \u001b[0;31m# segrigating all text and non-text columns\u001b[0m\u001b[0;34m\u001b[0m\u001b[0;34m\u001b[0m\u001b[0;34m\u001b[0m\u001b[0m\n\u001b[1;32m      4\u001b[0m \u001b[0mnon_text_num_cols\u001b[0m \u001b[0;34m=\u001b[0m \u001b[0;34m[\u001b[0m\u001b[0;34m\"user_seniority\"\u001b[0m\u001b[0;34m,\u001b[0m \u001b[0;34m\"user_favourites_count\"\u001b[0m\u001b[0;34m,\u001b[0m \u001b[0;34m\"user_friends_count\"\u001b[0m\u001b[0;34m,\u001b[0m \u001b[0;34m\"user_followers_count\"\u001b[0m\u001b[0;34m]\u001b[0m\u001b[0;34m\u001b[0m\u001b[0;34m\u001b[0m\u001b[0m\n\u001b[1;32m      5\u001b[0m \u001b[0mnon_text_cat_cols\u001b[0m \u001b[0;34m=\u001b[0m \u001b[0;34m[\u001b[0m\u001b[0;34m\"day_of_week\"\u001b[0m\u001b[0;34m]\u001b[0m\u001b[0;34m\u001b[0m\u001b[0;34m\u001b[0m\u001b[0m\n",
      "\u001b[0;31mNameError\u001b[0m: name 'df_distinct_tweets' is not defined"
     ]
    }
   ],
   "source": [
    "all_columns = df_distinct_tweets.columns\n",
    "#print all_columns\n",
    "# segrigating all text and non-text columns\n",
    "non_text_num_cols = [\"user_seniority\", \"user_favourites_count\", \"user_friends_count\", \"user_followers_count\"]\n",
    "non_text_cat_cols = [\"day_of_week\"]\n",
    "text_num_cols = [\"cashtag_count\", \"hashtag_count\"]\n",
    "text_cat_cols = [\"lang\", \"contains_cashtag\", \"contains_ipo\", \"contains_hashtags\", \"contains_url\"]\n",
    "dependent_variable = [\"retweet_count\"]\n",
    "text = [\"clean_text\"]\n",
    "\n"
   ]
  },
  {
   "cell_type": "code",
   "execution_count": 0,
   "metadata": {
    "colab": {},
    "colab_type": "code",
    "id": "Ou9mJGOCEqby"
   },
   "outputs": [],
   "source": [
    "### <span style = 'color:darkgreen'> Preparing distinct feature vectors </span style>\n"
   ]
  },
  {
   "cell_type": "code",
   "execution_count": 4,
   "metadata": {
    "colab": {},
    "colab_type": "code",
    "id": "64gf5v9pEqb1"
   },
   "outputs": [],
   "source": [
    "# function for encoding the text\n",
    "def prepare_feature_vectors(df, num_columns, cat_columns):\n",
    "    stringIndexers = []\n",
    "    indexed_cols = []\n",
    "\n",
    "    encoders = []\n",
    "    encoded_cols = []\n",
    "\n",
    "    for column in cat_columns:\n",
    "        inCol= column\n",
    "        outCol = column + \"indexed\"\n",
    "        stringIndexer = StringIndexer(inputCol = inCol, outputCol=outCol)\n",
    "\n",
    "        stringIndexers.append(stringIndexer)\n",
    "        indexed_cols.append(outCol)\n",
    "\n",
    "    for column in indexed_cols:\n",
    "        inCol= column\n",
    "        outCol = column + \"encoded\"\n",
    "        encoder = OneHotEncoder(inputCol=inCol, outputCol=outCol)\n",
    "\n",
    "        encoders.append(encoder)\n",
    "        encoded_cols.append(outCol)\n",
    "        \n",
    "    binarizer = Binarizer(inputCol = \"retweet_count_double\", outputCol = \"retweets_binary\", threshold=0.9)\n",
    "\n",
    "    assembler = VectorAssembler(inputCols= num_columns + encoded_cols, outputCol=\"input_features\")\n",
    "\n",
    "    pipeline = Pipeline(stages= stringIndexers + encoders + [binarizer, assembler])\n",
    "    pipelineModel = pipeline.fit(df)\n",
    "    \n",
    "    \n",
    "    transformed_df = (pipelineModel.transform(df)\n",
    "                                   .select(\"input_features\", \n",
    "                                            col(\"retweets_binary\").cast(\"integer\"), \n",
    "                                            \"retweet_count\"\n",
    "                                          )\n",
    "                     )\n",
    "    \n",
    "    return transformed_df\n",
    "    "
   ]
  },
  {
   "cell_type": "code",
   "execution_count": 0,
   "metadata": {
    "colab": {},
    "colab_type": "code",
    "id": "Jmy9EZ_dEqb6"
   },
   "outputs": [],
   "source": []
  },
  {
   "cell_type": "code",
   "execution_count": 6,
   "metadata": {
    "colab": {},
    "colab_type": "code",
    "id": "1JFcJ7kDEqb-",
    "outputId": "4df7a02d-f989-405e-d02e-31abe4e5be22",
    "scrolled": true
   },
   "outputs": [
    {
     "ename": "NameError",
     "evalue": "name 'df_distinct_tweets' is not defined",
     "output_type": "error",
     "traceback": [
      "\u001b[0;31m---------------------------------------------------------------------------\u001b[0m",
      "\u001b[0;31mNameError\u001b[0m                                 Traceback (most recent call last)",
      "\u001b[0;32m<ipython-input-6-7ff20855b694>\u001b[0m in \u001b[0;36m<module>\u001b[0;34m\u001b[0m\n\u001b[1;32m      1\u001b[0m \u001b[0;34m\u001b[0m\u001b[0m\n\u001b[1;32m      2\u001b[0m \u001b[0;31m# applying the 'prepare_feature_vectors' function to encode the text\u001b[0m\u001b[0;34m\u001b[0m\u001b[0;34m\u001b[0m\u001b[0;34m\u001b[0m\u001b[0m\n\u001b[0;32m----> 3\u001b[0;31m text_features_df = prepare_feature_vectors(df = df_distinct_tweets,                           \n\u001b[0m\u001b[1;32m      4\u001b[0m                                            \u001b[0mnum_columns\u001b[0m \u001b[0;34m=\u001b[0m \u001b[0mtext_num_cols\u001b[0m\u001b[0;34m,\u001b[0m\u001b[0;34m\u001b[0m\u001b[0;34m\u001b[0m\u001b[0m\n\u001b[1;32m      5\u001b[0m                                            cat_columns = text_cat_cols)\n",
      "\u001b[0;31mNameError\u001b[0m: name 'df_distinct_tweets' is not defined"
     ]
    }
   ],
   "source": [
    "\n",
    "# applying the 'prepare_feature_vectors' function to encode the text\n",
    "text_features_df = prepare_feature_vectors(df = df_distinct_tweets,                           \n",
    "                                           num_columns = text_num_cols,\n",
    "                                           cat_columns = text_cat_cols)\n",
    "\n",
    "text_features_df.show(20, truncate=False)"
   ]
  },
  {
   "cell_type": "code",
   "execution_count": 0,
   "metadata": {
    "colab": {},
    "colab_type": "code",
    "id": "92j2_u5CEqcF",
    "outputId": "a6be1e6e-d171-4184-8b2d-df4dda52ee96"
   },
   "outputs": [
    {
     "name": "stdout",
     "output_type": "stream",
     "text": [
      "+---------------------------------------------------------------+---------------+-------------+\n",
      "|input_features                                                 |retweets_binary|retweet_count|\n",
      "+---------------------------------------------------------------+---------------+-------------+\n",
      "|(10,[0,1,2,3,7],[3.6666666666666665,44.0,1156.0,332.0,1.0])    |0              |0            |\n",
      "|(10,[0,1,2,3,7],[2.5,1768.0,655.0,174.0,1.0])                  |0              |0            |\n",
      "|(10,[0,1,2,3,7],[3.1666666666666665,10904.0,2190.0,1562.0,1.0])|0              |0            |\n",
      "|(10,[0,2,3,7],[2.3333333333333335,850.0,696.0,1.0])            |0              |0            |\n",
      "|(10,[0,1,2,3,7],[1.4166666666666667,1024.0,1185.0,681.0,1.0])  |0              |0            |\n",
      "+---------------------------------------------------------------+---------------+-------------+\n",
      "only showing top 5 rows\n",
      "\n"
     ]
    }
   ],
   "source": [
    "\n",
    "# applying the 'prepare_feature_vectors' function to encode the text\n",
    "non_text_features_df = prepare_feature_vectors(df = df_distinct_tweets,\n",
    "                                               num_columns = non_text_num_cols, \n",
    "                                               cat_columns = non_text_cat_cols)\n",
    "\n",
    "non_text_features_df.show(5, truncate=False)\n"
   ]
  },
  {
   "cell_type": "code",
   "execution_count": 0,
   "metadata": {
    "colab": {},
    "colab_type": "code",
    "id": "lpnrRfLSEqcJ",
    "outputId": "dcd514d3-b0f3-410b-94eb-c30dc0998d34"
   },
   "outputs": [
    {
     "name": "stdout",
     "output_type": "stream",
     "text": [
      "+--------------------------------------------------------------------------------------------------+---------------+-------------+\n",
      "|input_features                                                                                    |retweets_binary|retweet_count|\n",
      "+--------------------------------------------------------------------------------------------------+---------------+-------------+\n",
      "|(63,[2,3,4,5,6,53,54,55,56,60],[3.6666666666666665,44.0,1156.0,332.0,1.0,1.0,1.0,1.0,1.0,1.0])    |0              |0            |\n",
      "|(63,[2,3,4,5,6,53,54,55,56,60],[2.5,1768.0,655.0,174.0,1.0,1.0,1.0,1.0,1.0,1.0])                  |0              |0            |\n",
      "|(63,[2,3,4,5,6,53,54,55,56,60],[3.1666666666666665,10904.0,2190.0,1562.0,1.0,1.0,1.0,1.0,1.0,1.0])|0              |0            |\n",
      "|(63,[2,4,5,10,53,54,55,56,60],[2.3333333333333335,850.0,696.0,1.0,1.0,1.0,1.0,1.0,1.0])           |0              |0            |\n",
      "|(63,[1,2,3,4,5,6,53,54,56,60],[3.0,1.4166666666666667,1024.0,1185.0,681.0,1.0,1.0,1.0,1.0,1.0])   |0              |0            |\n",
      "+--------------------------------------------------------------------------------------------------+---------------+-------------+\n",
      "only showing top 5 rows\n",
      "\n"
     ]
    }
   ],
   "source": [
    "\n",
    "# applying the 'prepare_feature_vectors' function to encode the text\n",
    "all_features_df = prepare_feature_vectors(df = df_distinct_tweets,\n",
    "                                          num_columns = text_num_cols + non_text_num_cols, \n",
    "                                          cat_columns = text_cat_cols + non_text_cat_cols)\n",
    "\n",
    "all_features_df.show(5, truncate=False)\n"
   ]
  },
  {
   "cell_type": "code",
   "execution_count": 0,
   "metadata": {
    "colab": {},
    "colab_type": "code",
    "id": "nqCgboAuEqcM"
   },
   "outputs": [],
   "source": [
    "### <span style = 'color:darkgreen'> Models </span style>"
   ]
  },
  {
   "cell_type": "code",
   "execution_count": 0,
   "metadata": {
    "colab": {},
    "colab_type": "code",
    "id": "eWHvBMyXEqcO",
    "outputId": "082d0ba2-a8f2-4983-e32e-1e1f03c28ad7"
   },
   "outputs": [
    {
     "data": {
      "text/html": [
       "<div>\n",
       "<style scoped>\n",
       "    .dataframe tbody tr th:only-of-type {\n",
       "        vertical-align: middle;\n",
       "    }\n",
       "\n",
       "    .dataframe tbody tr th {\n",
       "        vertical-align: top;\n",
       "    }\n",
       "\n",
       "    .dataframe thead th {\n",
       "        text-align: right;\n",
       "    }\n",
       "</style>\n",
       "<table border=\"1\" class=\"dataframe\">\n",
       "  <thead>\n",
       "    <tr style=\"text-align: right;\">\n",
       "      <th></th>\n",
       "      <th>algorithm</th>\n",
       "      <th>train AUC</th>\n",
       "      <th>test AUC</th>\n",
       "    </tr>\n",
       "  </thead>\n",
       "  <tbody>\n",
       "  </tbody>\n",
       "</table>\n",
       "</div>"
      ],
      "text/plain": [
       "Empty DataFrame\n",
       "Columns: [algorithm, train AUC, test AUC]\n",
       "Index: []"
      ]
     },
     "execution_count": 49,
     "metadata": {
      "tags": []
     },
     "output_type": "execute_result"
    }
   ],
   "source": [
    "# Creating results data frame to store all the score from the algorithms\n",
    "results  = pd.DataFrame(columns = [\"algorithm\", \"train AUC\", \"test AUC\"])\n",
    "results"
   ]
  },
  {
   "cell_type": "code",
   "execution_count": 0,
   "metadata": {
    "colab": {},
    "colab_type": "code",
    "id": "u9Z8C6tCEqcS"
   },
   "outputs": [],
   "source": [
    "# function for Logistic Regression\n",
    "def LR_classification(model_description, df, output_column = \"retweets_binary\"):\n",
    "    \n",
    "    train, test = df.randomSplit([0.8, 0.2], seed = 42)\n",
    "    \n",
    "    lr = LogisticRegression(featuresCol = \"input_features\", labelCol=\"retweets_binary\")\n",
    "    lr_model = lr.fit(train)\n",
    "\n",
    "    train_predictions = lr_model.transform(train)\n",
    "    test_predictions = lr_model.transform(test)\n",
    "    \n",
    "    AUC_evaluator = BinaryClassificationEvaluator(rawPredictionCol=\"rawPrediction\", \n",
    "                                                  labelCol=\"retweets_binary\", \n",
    "                                                  metricName=\"areaUnderROC\")\n",
    "\n",
    "    AUC_train = AUC_evaluator.evaluate(train_predictions)\n",
    "    AUC_test = AUC_evaluator.evaluate(test_predictions)\n",
    "    print(\"###################\" + model_description.upper() + \"##################\")\n",
    "    print(\"TRAIN AUC:       {}\".format(AUC_train))\n",
    "    print(\"TEST AUC:        {}\".format(AUC_test))\n",
    "    \n",
    "    global results\n",
    "    results = results.append({\"algorithm\": model_description, \"train AUC\": AUC_train, \"test AUC\": AUC_test}, \n",
    "                             ignore_index=True)\n",
    "    \n",
    "    #return lr_model\n"
   ]
  },
  {
   "cell_type": "code",
   "execution_count": 0,
   "metadata": {
    "colab": {},
    "colab_type": "code",
    "id": "ru2bVRLgEqcV"
   },
   "outputs": [],
   "source": [
    "#Function for Random Forest\n",
    "def RF_classification(model_description, num_trees, df, output_column = \"retweets_binary\"):\n",
    "    \n",
    "    train, test = df.randomSplit([0.8, 0.2], seed = 42)\n",
    "    \n",
    "    rf = RandomForestClassifier(numTrees=num_trees, featuresCol = \"input_features\", labelCol=\"retweets_binary\")\n",
    "    rf_model = rf.fit(train)\n",
    "\n",
    "    train_predictions = rf_model.transform(train)\n",
    "    test_predictions = rf_model.transform(test)\n",
    "    \n",
    "    AUC_evaluator = BinaryClassificationEvaluator(rawPredictionCol=\"rawPrediction\", \n",
    "                                                  labelCol=\"retweets_binary\", \n",
    "                                                  metricName=\"areaUnderROC\")\n",
    "\n",
    "    AUC_train = AUC_evaluator.evaluate(train_predictions)\n",
    "    AUC_test = AUC_evaluator.evaluate(test_predictions)\n",
    "    print(\"###################\" + model_description.upper() + \"##################\")\n",
    "    print(\"TRAIN AUC:       {}\".format(AUC_train))\n",
    "    print(\"TEST AUC:        {}\".format(AUC_test))\n",
    "    \n",
    "    global results\n",
    "    results = results.append({\"algorithm\": model_description, \"train AUC\": AUC_train, \"test AUC\": AUC_test}, \n",
    "                             ignore_index=True)\n",
    "    \n",
    "    #return rf_model"
   ]
  },
  {
   "cell_type": "code",
   "execution_count": 0,
   "metadata": {
    "colab": {},
    "colab_type": "code",
    "id": "hWs0hohPEqcX"
   },
   "outputs": [],
   "source": [
    " #### <span style = 'color:darkorange'> Logistic regression </span style>"
   ]
  },
  {
   "cell_type": "code",
   "execution_count": 0,
   "metadata": {
    "colab": {},
    "colab_type": "code",
    "id": "DNt6GIOHEqca",
    "outputId": "b44e5884-dd63-445c-9091-3106ca7802a8"
   },
   "outputs": [
    {
     "name": "stdout",
     "output_type": "stream",
     "text": [
      "###################LOGISTIC REGRESSION, NON TEXT FEATURES##################\n",
      "TRAIN AUC:       0.0\n",
      "TEST AUC:        0.0\n"
     ]
    }
   ],
   "source": [
    "# Running Logistic Regression model on non text features\n",
    "LR_classification(model_description = \"Logistic regression, non text features\",\n",
    "                  df = non_text_features_df, \n",
    "                  output_column = \"retweets_binary\")\n"
   ]
  },
  {
   "cell_type": "code",
   "execution_count": 0,
   "metadata": {
    "colab": {},
    "colab_type": "code",
    "id": "EMwJvUGzEqch",
    "outputId": "37178b1c-ab4c-4fc8-a904-90f7156ef5f5"
   },
   "outputs": [
    {
     "name": "stdout",
     "output_type": "stream",
     "text": [
      "###################LOGISTIC REGRESSION, TEXT FEATURES##################\n",
      "TRAIN AUC:       0.0\n",
      "TEST AUC:        0.0\n"
     ]
    }
   ],
   "source": [
    "# Running Logistic Regression model on text features\n",
    "LR_classification(model_description = \"Logistic regression, text features\",\n",
    "                  df = text_features_df,\n",
    "                  output_column = \"retweets_binary\")\n"
   ]
  },
  {
   "cell_type": "code",
   "execution_count": 0,
   "metadata": {
    "colab": {},
    "colab_type": "code",
    "id": "Nom3s1GYEqcl",
    "outputId": "a4aa57a7-fafc-482b-aeeb-0ed8f34be77f"
   },
   "outputs": [
    {
     "name": "stdout",
     "output_type": "stream",
     "text": [
      "###################LOGISTIC REGRESSION, ALL FEATURES##################\n",
      "TRAIN AUC:       0.0\n",
      "TEST AUC:        0.0\n"
     ]
    }
   ],
   "source": [
    "# Running Logistic Regression model on all features\n",
    "\n",
    "LR_classification(model_description = \"Logistic regression, all features\",\n",
    "                  df = all_features_df, \n",
    "                  output_column = \"retweets_binary\")\n"
   ]
  },
  {
   "cell_type": "code",
   "execution_count": 0,
   "metadata": {
    "colab": {},
    "colab_type": "code",
    "id": "QAfQIf-iEqcu"
   },
   "outputs": [],
   "source": [
    "#### <span style = 'color:darkorange'> Random forest </span style>"
   ]
  },
  {
   "cell_type": "code",
   "execution_count": 0,
   "metadata": {
    "colab": {},
    "colab_type": "code",
    "id": "IQ14pNoZEqcz",
    "outputId": "a2569f4d-6567-44f2-f435-76667c204a4d"
   },
   "outputs": [
    {
     "ename": "Py4JJavaError",
     "evalue": "An error occurred while calling o2011.evaluate.\n: org.apache.spark.SparkException: Job aborted due to stage failure: Task 3 in stage 285.0 failed 1 times, most recent failure: Lost task 3.0 in stage 285.0 (TID 22121, localhost, executor driver): java.lang.ArrayIndexOutOfBoundsException: 1\n\tat org.apache.spark.ml.linalg.DenseVector.apply(Vectors.scala:462)\n\tat org.apache.spark.ml.evaluation.BinaryClassificationEvaluator$$anonfun$1.apply(BinaryClassificationEvaluator.scala:82)\n\tat org.apache.spark.ml.evaluation.BinaryClassificationEvaluator$$anonfun$1.apply(BinaryClassificationEvaluator.scala:81)\n\tat scala.collection.Iterator$$anon$11.next(Iterator.scala:410)\n\tat org.apache.spark.util.collection.ExternalSorter.insertAll(ExternalSorter.scala:193)\n\tat org.apache.spark.shuffle.sort.SortShuffleWriter.write(SortShuffleWriter.scala:62)\n\tat org.apache.spark.scheduler.ShuffleMapTask.runTask(ShuffleMapTask.scala:99)\n\tat org.apache.spark.scheduler.ShuffleMapTask.runTask(ShuffleMapTask.scala:55)\n\tat org.apache.spark.scheduler.Task.run(Task.scala:121)\n\tat org.apache.spark.executor.Executor$TaskRunner$$anonfun$10.apply(Executor.scala:408)\n\tat org.apache.spark.util.Utils$.tryWithSafeFinally(Utils.scala:1360)\n\tat org.apache.spark.executor.Executor$TaskRunner.run(Executor.scala:414)\n\tat java.util.concurrent.ThreadPoolExecutor.runWorker(ThreadPoolExecutor.java:1142)\n\tat java.util.concurrent.ThreadPoolExecutor$Worker.run(ThreadPoolExecutor.java:617)\n\tat java.lang.Thread.run(Thread.java:745)\n\nDriver stacktrace:\n\tat org.apache.spark.scheduler.DAGScheduler.org$apache$spark$scheduler$DAGScheduler$$failJobAndIndependentStages(DAGScheduler.scala:1889)\n\tat org.apache.spark.scheduler.DAGScheduler$$anonfun$abortStage$1.apply(DAGScheduler.scala:1877)\n\tat org.apache.spark.scheduler.DAGScheduler$$anonfun$abortStage$1.apply(DAGScheduler.scala:1876)\n\tat scala.collection.mutable.ResizableArray$class.foreach(ResizableArray.scala:59)\n\tat scala.collection.mutable.ArrayBuffer.foreach(ArrayBuffer.scala:48)\n\tat org.apache.spark.scheduler.DAGScheduler.abortStage(DAGScheduler.scala:1876)\n\tat org.apache.spark.scheduler.DAGScheduler$$anonfun$handleTaskSetFailed$1.apply(DAGScheduler.scala:926)\n\tat org.apache.spark.scheduler.DAGScheduler$$anonfun$handleTaskSetFailed$1.apply(DAGScheduler.scala:926)\n\tat scala.Option.foreach(Option.scala:257)\n\tat org.apache.spark.scheduler.DAGScheduler.handleTaskSetFailed(DAGScheduler.scala:926)\n\tat org.apache.spark.scheduler.DAGSchedulerEventProcessLoop.doOnReceive(DAGScheduler.scala:2110)\n\tat org.apache.spark.scheduler.DAGSchedulerEventProcessLoop.onReceive(DAGScheduler.scala:2059)\n\tat org.apache.spark.scheduler.DAGSchedulerEventProcessLoop.onReceive(DAGScheduler.scala:2048)\n\tat org.apache.spark.util.EventLoop$$anon$1.run(EventLoop.scala:49)\n\tat org.apache.spark.scheduler.DAGScheduler.runJob(DAGScheduler.scala:737)\n\tat org.apache.spark.SparkContext.runJob(SparkContext.scala:2061)\n\tat org.apache.spark.SparkContext.runJob(SparkContext.scala:2082)\n\tat org.apache.spark.SparkContext.runJob(SparkContext.scala:2101)\n\tat org.apache.spark.SparkContext.runJob(SparkContext.scala:2126)\n\tat org.apache.spark.rdd.RDD$$anonfun$collect$1.apply(RDD.scala:945)\n\tat org.apache.spark.rdd.RDDOperationScope$.withScope(RDDOperationScope.scala:151)\n\tat org.apache.spark.rdd.RDDOperationScope$.withScope(RDDOperationScope.scala:112)\n\tat org.apache.spark.rdd.RDD.withScope(RDD.scala:363)\n\tat org.apache.spark.rdd.RDD.collect(RDD.scala:944)\n\tat org.apache.spark.RangePartitioner$.sketch(Partitioner.scala:309)\n\tat org.apache.spark.RangePartitioner.<init>(Partitioner.scala:171)\n\tat org.apache.spark.RangePartitioner.<init>(Partitioner.scala:151)\n\tat org.apache.spark.rdd.OrderedRDDFunctions$$anonfun$sortByKey$1.apply(OrderedRDDFunctions.scala:62)\n\tat org.apache.spark.rdd.OrderedRDDFunctions$$anonfun$sortByKey$1.apply(OrderedRDDFunctions.scala:61)\n\tat org.apache.spark.rdd.RDDOperationScope$.withScope(RDDOperationScope.scala:151)\n\tat org.apache.spark.rdd.RDDOperationScope$.withScope(RDDOperationScope.scala:112)\n\tat org.apache.spark.rdd.RDD.withScope(RDD.scala:363)\n\tat org.apache.spark.rdd.OrderedRDDFunctions.sortByKey(OrderedRDDFunctions.scala:61)\n\tat org.apache.spark.mllib.evaluation.BinaryClassificationMetrics.x$4$lzycompute(BinaryClassificationMetrics.scala:155)\n\tat org.apache.spark.mllib.evaluation.BinaryClassificationMetrics.x$4(BinaryClassificationMetrics.scala:146)\n\tat org.apache.spark.mllib.evaluation.BinaryClassificationMetrics.confusions$lzycompute(BinaryClassificationMetrics.scala:148)\n\tat org.apache.spark.mllib.evaluation.BinaryClassificationMetrics.confusions(BinaryClassificationMetrics.scala:148)\n\tat org.apache.spark.mllib.evaluation.BinaryClassificationMetrics.createCurve(BinaryClassificationMetrics.scala:223)\n\tat org.apache.spark.mllib.evaluation.BinaryClassificationMetrics.roc(BinaryClassificationMetrics.scala:86)\n\tat org.apache.spark.mllib.evaluation.BinaryClassificationMetrics.areaUnderROC(BinaryClassificationMetrics.scala:97)\n\tat org.apache.spark.ml.evaluation.BinaryClassificationEvaluator.evaluate(BinaryClassificationEvaluator.scala:87)\n\tat sun.reflect.NativeMethodAccessorImpl.invoke0(Native Method)\n\tat sun.reflect.NativeMethodAccessorImpl.invoke(NativeMethodAccessorImpl.java:62)\n\tat sun.reflect.DelegatingMethodAccessorImpl.invoke(DelegatingMethodAccessorImpl.java:43)\n\tat java.lang.reflect.Method.invoke(Method.java:497)\n\tat py4j.reflection.MethodInvoker.invoke(MethodInvoker.java:244)\n\tat py4j.reflection.ReflectionEngine.invoke(ReflectionEngine.java:357)\n\tat py4j.Gateway.invoke(Gateway.java:282)\n\tat py4j.commands.AbstractCommand.invokeMethod(AbstractCommand.java:132)\n\tat py4j.commands.CallCommand.execute(CallCommand.java:79)\n\tat py4j.GatewayConnection.run(GatewayConnection.java:238)\n\tat java.lang.Thread.run(Thread.java:745)\nCaused by: java.lang.ArrayIndexOutOfBoundsException: 1\n\tat org.apache.spark.ml.linalg.DenseVector.apply(Vectors.scala:462)\n\tat org.apache.spark.ml.evaluation.BinaryClassificationEvaluator$$anonfun$1.apply(BinaryClassificationEvaluator.scala:82)\n\tat org.apache.spark.ml.evaluation.BinaryClassificationEvaluator$$anonfun$1.apply(BinaryClassificationEvaluator.scala:81)\n\tat scala.collection.Iterator$$anon$11.next(Iterator.scala:410)\n\tat org.apache.spark.util.collection.ExternalSorter.insertAll(ExternalSorter.scala:193)\n\tat org.apache.spark.shuffle.sort.SortShuffleWriter.write(SortShuffleWriter.scala:62)\n\tat org.apache.spark.scheduler.ShuffleMapTask.runTask(ShuffleMapTask.scala:99)\n\tat org.apache.spark.scheduler.ShuffleMapTask.runTask(ShuffleMapTask.scala:55)\n\tat org.apache.spark.scheduler.Task.run(Task.scala:121)\n\tat org.apache.spark.executor.Executor$TaskRunner$$anonfun$10.apply(Executor.scala:408)\n\tat org.apache.spark.util.Utils$.tryWithSafeFinally(Utils.scala:1360)\n\tat org.apache.spark.executor.Executor$TaskRunner.run(Executor.scala:414)\n\tat java.util.concurrent.ThreadPoolExecutor.runWorker(ThreadPoolExecutor.java:1142)\n\tat java.util.concurrent.ThreadPoolExecutor$Worker.run(ThreadPoolExecutor.java:617)\n\t... 1 more\n",
     "output_type": "error",
     "traceback": [
      "\u001b[0;31m---------------------------------------------------------------------------\u001b[0m",
      "\u001b[0;31mPy4JJavaError\u001b[0m                             Traceback (most recent call last)",
      "\u001b[0;32m<ipython-input-57-caaa050e4898>\u001b[0m in \u001b[0;36m<module>\u001b[0;34m\u001b[0m\n\u001b[1;32m      3\u001b[0m                   \u001b[0mnum_trees\u001b[0m \u001b[0;34m=\u001b[0m \u001b[0;36m500\u001b[0m\u001b[0;34m,\u001b[0m\u001b[0;34m\u001b[0m\u001b[0;34m\u001b[0m\u001b[0m\n\u001b[1;32m      4\u001b[0m                   \u001b[0mdf\u001b[0m \u001b[0;34m=\u001b[0m \u001b[0mtext_features_df\u001b[0m\u001b[0;34m,\u001b[0m\u001b[0;34m\u001b[0m\u001b[0;34m\u001b[0m\u001b[0m\n\u001b[0;32m----> 5\u001b[0;31m                   output_column = \"retweets_binary\")\n\u001b[0m",
      "\u001b[0;32m<ipython-input-51-a07e61dbca94>\u001b[0m in \u001b[0;36mRF_classification\u001b[0;34m(model_description, num_trees, df, output_column)\u001b[0m\n\u001b[1;32m     13\u001b[0m                                                   metricName=\"areaUnderROC\")\n\u001b[1;32m     14\u001b[0m \u001b[0;34m\u001b[0m\u001b[0m\n\u001b[0;32m---> 15\u001b[0;31m     \u001b[0mAUC_train\u001b[0m \u001b[0;34m=\u001b[0m \u001b[0mAUC_evaluator\u001b[0m\u001b[0;34m.\u001b[0m\u001b[0mevaluate\u001b[0m\u001b[0;34m(\u001b[0m\u001b[0mtrain_predictions\u001b[0m\u001b[0;34m)\u001b[0m\u001b[0;34m\u001b[0m\u001b[0;34m\u001b[0m\u001b[0m\n\u001b[0m\u001b[1;32m     16\u001b[0m     \u001b[0mAUC_test\u001b[0m \u001b[0;34m=\u001b[0m \u001b[0mAUC_evaluator\u001b[0m\u001b[0;34m.\u001b[0m\u001b[0mevaluate\u001b[0m\u001b[0;34m(\u001b[0m\u001b[0mtest_predictions\u001b[0m\u001b[0;34m)\u001b[0m\u001b[0;34m\u001b[0m\u001b[0;34m\u001b[0m\u001b[0m\n\u001b[1;32m     17\u001b[0m     \u001b[0mprint\u001b[0m\u001b[0;34m(\u001b[0m\u001b[0;34m\"###################\"\u001b[0m \u001b[0;34m+\u001b[0m \u001b[0mmodel_description\u001b[0m\u001b[0;34m.\u001b[0m\u001b[0mupper\u001b[0m\u001b[0;34m(\u001b[0m\u001b[0;34m)\u001b[0m \u001b[0;34m+\u001b[0m \u001b[0;34m\"##################\"\u001b[0m\u001b[0;34m)\u001b[0m\u001b[0;34m\u001b[0m\u001b[0;34m\u001b[0m\u001b[0m\n",
      "\u001b[0;32m~/\u001b/lib/python3.7/site-packages/pyspark/ml/evaluation.py\u001b[0m in \u001b[0;36mevaluate\u001b[0;34m(self, dataset, params)\u001b[0m\n\u001b[1;32m     69\u001b[0m                 \u001b[0;32mreturn\u001b[0m \u001b[0mself\u001b[0m\u001b[0;34m.\u001b[0m\u001b[0mcopy\u001b[0m\u001b[0;34m(\u001b[0m\u001b[0mparams\u001b[0m\u001b[0;34m)\u001b[0m\u001b[0;34m.\u001b[0m\u001b[0m_evaluate\u001b[0m\u001b[0;34m(\u001b[0m\u001b[0mdataset\u001b[0m\u001b[0;34m)\u001b[0m\u001b[0;34m\u001b[0m\u001b[0;34m\u001b[0m\u001b[0m\n\u001b[1;32m     70\u001b[0m             \u001b[0;32melse\u001b[0m\u001b[0;34m:\u001b[0m\u001b[0;34m\u001b[0m\u001b[0;34m\u001b[0m\u001b[0m\n\u001b[0;32m---> 71\u001b[0;31m                 \u001b[0;32mreturn\u001b[0m \u001b[0mself\u001b[0m\u001b[0;34m.\u001b[0m\u001b[0m_evaluate\u001b[0m\u001b[0;34m(\u001b[0m\u001b[0mdataset\u001b[0m\u001b[0;34m)\u001b[0m\u001b[0;34m\u001b[0m\u001b[0;34m\u001b[0m\u001b[0m\n\u001b[0m\u001b[1;32m     72\u001b[0m         \u001b[0;32melse\u001b[0m\u001b[0;34m:\u001b[0m\u001b[0;34m\u001b[0m\u001b[0;34m\u001b[0m\u001b[0m\n\u001b[1;32m     73\u001b[0m             \u001b[0;32mraise\u001b[0m \u001b[0mValueError\u001b[0m\u001b[0;34m(\u001b[0m\u001b[0;34m\"Params must be a param map but got %s.\"\u001b[0m \u001b[0;34m%\u001b[0m \u001b[0mtype\u001b[0m\u001b[0;34m(\u001b[0m\u001b[0mparams\u001b[0m\u001b[0;34m)\u001b[0m\u001b[0;34m)\u001b[0m\u001b[0;34m\u001b[0m\u001b[0;34m\u001b[0m\u001b[0m\n",
      "\u001b[0;32m~/\u001b/lib/python3.7/site-packages/pyspark/ml/evaluation.py\u001b[0m in \u001b[0;36m_evaluate\u001b[0;34m(self, dataset)\u001b[0m\n\u001b[1;32m     99\u001b[0m         \"\"\"\n\u001b[1;32m    100\u001b[0m         \u001b[0mself\u001b[0m\u001b[0;34m.\u001b[0m\u001b[0m_transfer_params_to_java\u001b[0m\u001b[0;34m(\u001b[0m\u001b[0;34m)\u001b[0m\u001b[0;34m\u001b[0m\u001b[0;34m\u001b[0m\u001b[0m\n\u001b[0;32m--> 101\u001b[0;31m         \u001b[0;32mreturn\u001b[0m \u001b[0mself\u001b[0m\u001b[0;34m.\u001b[0m\u001b[0m_java_obj\u001b[0m\u001b[0;34m.\u001b[0m\u001b[0mevaluate\u001b[0m\u001b[0;34m(\u001b[0m\u001b[0mdataset\u001b[0m\u001b[0;34m.\u001b[0m\u001b[0m_jdf\u001b[0m\u001b[0;34m)\u001b[0m\u001b[0;34m\u001b[0m\u001b[0;34m\u001b[0m\u001b[0m\n\u001b[0m\u001b[1;32m    102\u001b[0m \u001b[0;34m\u001b[0m\u001b[0m\n\u001b[1;32m    103\u001b[0m     \u001b[0;32mdef\u001b[0m \u001b[0misLargerBetter\u001b[0m\u001b[0;34m(\u001b[0m\u001b[0mself\u001b[0m\u001b[0;34m)\u001b[0m\u001b[0;34m:\u001b[0m\u001b[0;34m\u001b[0m\u001b[0;34m\u001b[0m\u001b[0m\n",
      "\u001b[0;32m~/\u001b/lib/python3.7/site-packages/py4j/java_gateway.py\u001b[0m in \u001b[0;36m__call__\u001b[0;34m(self, *args)\u001b[0m\n\u001b[1;32m   1255\u001b[0m         \u001b[0manswer\u001b[0m \u001b[0;34m=\u001b[0m \u001b[0mself\u001b[0m\u001b[0;34m.\u001b[0m\u001b[0mgateway_client\u001b[0m\u001b[0;34m.\u001b[0m\u001b[0msend_command\u001b[0m\u001b[0;34m(\u001b[0m\u001b[0mcommand\u001b[0m\u001b[0;34m)\u001b[0m\u001b[0;34m\u001b[0m\u001b[0;34m\u001b[0m\u001b[0m\n\u001b[1;32m   1256\u001b[0m         return_value = get_return_value(\n\u001b[0;32m-> 1257\u001b[0;31m             answer, self.gateway_client, self.target_id, self.name)\n\u001b[0m\u001b[1;32m   1258\u001b[0m \u001b[0;34m\u001b[0m\u001b[0m\n\u001b[1;32m   1259\u001b[0m         \u001b[0;32mfor\u001b[0m \u001b[0mtemp_arg\u001b[0m \u001b[0;32min\u001b[0m \u001b[0mtemp_args\u001b[0m\u001b[0;34m:\u001b[0m\u001b[0;34m\u001b[0m\u001b[0;34m\u001b[0m\u001b[0m\n",
      "\u001b[0;32m~/\u001b/lib/python3.7/site-packages/pyspark/sql/utils.py\u001b[0m in \u001b[0;36mdeco\u001b[0;34m(*a, **kw)\u001b[0m\n\u001b[1;32m     61\u001b[0m     \u001b[0;32mdef\u001b[0m \u001b[0mdeco\u001b[0m\u001b[0;34m(\u001b[0m\u001b[0;34m*\u001b[0m\u001b[0ma\u001b[0m\u001b[0;34m,\u001b[0m \u001b[0;34m**\u001b[0m\u001b[0mkw\u001b[0m\u001b[0;34m)\u001b[0m\u001b[0;34m:\u001b[0m\u001b[0;34m\u001b[0m\u001b[0;34m\u001b[0m\u001b[0m\n\u001b[1;32m     62\u001b[0m         \u001b[0;32mtry\u001b[0m\u001b[0;34m:\u001b[0m\u001b[0;34m\u001b[0m\u001b[0;34m\u001b[0m\u001b[0m\n\u001b[0;32m---> 63\u001b[0;31m             \u001b[0;32mreturn\u001b[0m \u001b[0mf\u001b[0m\u001b[0;34m(\u001b[0m\u001b[0;34m*\u001b[0m\u001b[0ma\u001b[0m\u001b[0;34m,\u001b[0m \u001b[0;34m**\u001b[0m\u001b[0mkw\u001b[0m\u001b[0;34m)\u001b[0m\u001b[0;34m\u001b[0m\u001b[0;34m\u001b[0m\u001b[0m\n\u001b[0m\u001b[1;32m     64\u001b[0m         \u001b[0;32mexcept\u001b[0m \u001b[0mpy4j\u001b[0m\u001b[0;34m.\u001b[0m\u001b[0mprotocol\u001b[0m\u001b[0;34m.\u001b[0m\u001b[0mPy4JJavaError\u001b[0m \u001b[0;32mas\u001b[0m \u001b[0me\u001b[0m\u001b[0;34m:\u001b[0m\u001b[0;34m\u001b[0m\u001b[0;34m\u001b[0m\u001b[0m\n\u001b[1;32m     65\u001b[0m             \u001b[0ms\u001b[0m \u001b[0;34m=\u001b[0m \u001b[0me\u001b[0m\u001b[0;34m.\u001b[0m\u001b[0mjava_exception\u001b[0m\u001b[0;34m.\u001b[0m\u001b[0mtoString\u001b[0m\u001b[0;34m(\u001b[0m\u001b[0;34m)\u001b[0m\u001b[0;34m\u001b[0m\u001b[0;34m\u001b[0m\u001b[0m\n",
      "\u001b[0;32m~/\u001b/lib/python3.7/site-packages/py4j/protocol.py\u001b[0m in \u001b[0;36mget_return_value\u001b[0;34m(answer, gateway_client, target_id, name)\u001b[0m\n\u001b[1;32m    326\u001b[0m                 raise Py4JJavaError(\n\u001b[1;32m    327\u001b[0m                     \u001b[0;34m\"An error occurred while calling {0}{1}{2}.\\n\"\u001b[0m\u001b[0;34m.\u001b[0m\u001b[0;34m\u001b[0m\u001b[0;34m\u001b[0m\u001b[0m\n\u001b[0;32m--> 328\u001b[0;31m                     format(target_id, \".\", name), value)\n\u001b[0m\u001b[1;32m    329\u001b[0m             \u001b[0;32melse\u001b[0m\u001b[0;34m:\u001b[0m\u001b[0;34m\u001b[0m\u001b[0;34m\u001b[0m\u001b[0m\n\u001b[1;32m    330\u001b[0m                 raise Py4JError(\n",
      "\u001b[0;31mPy4JJavaError\u001b[0m: An error occurred while calling o2011.evaluate.\n: org.apache.spark.SparkException: Job aborted due to stage failure: Task 3 in stage 285.0 failed 1 times, most recent failure: Lost task 3.0 in stage 285.0 (TID 22121, localhost, executor driver): java.lang.ArrayIndexOutOfBoundsException: 1\n\tat org.apache.spark.ml.linalg.DenseVector.apply(Vectors.scala:462)\n\tat org.apache.spark.ml.evaluation.BinaryClassificationEvaluator$$anonfun$1.apply(BinaryClassificationEvaluator.scala:82)\n\tat org.apache.spark.ml.evaluation.BinaryClassificationEvaluator$$anonfun$1.apply(BinaryClassificationEvaluator.scala:81)\n\tat scala.collection.Iterator$$anon$11.next(Iterator.scala:410)\n\tat org.apache.spark.util.collection.ExternalSorter.insertAll(ExternalSorter.scala:193)\n\tat org.apache.spark.shuffle.sort.SortShuffleWriter.write(SortShuffleWriter.scala:62)\n\tat org.apache.spark.scheduler.ShuffleMapTask.runTask(ShuffleMapTask.scala:99)\n\tat org.apache.spark.scheduler.ShuffleMapTask.runTask(ShuffleMapTask.scala:55)\n\tat org.apache.spark.scheduler.Task.run(Task.scala:121)\n\tat org.apache.spark.executor.Executor$TaskRunner$$anonfun$10.apply(Executor.scala:408)\n\tat org.apache.spark.util.Utils$.tryWithSafeFinally(Utils.scala:1360)\n\tat org.apache.spark.executor.Executor$TaskRunner.run(Executor.scala:414)\n\tat java.util.concurrent.ThreadPoolExecutor.runWorker(ThreadPoolExecutor.java:1142)\n\tat java.util.concurrent.ThreadPoolExecutor$Worker.run(ThreadPoolExecutor.java:617)\n\tat java.lang.Thread.run(Thread.java:745)\n\nDriver stacktrace:\n\tat org.apache.spark.scheduler.DAGScheduler.org$apache$spark$scheduler$DAGScheduler$$failJobAndIndependentStages(DAGScheduler.scala:1889)\n\tat org.apache.spark.scheduler.DAGScheduler$$anonfun$abortStage$1.apply(DAGScheduler.scala:1877)\n\tat org.apache.spark.scheduler.DAGScheduler$$anonfun$abortStage$1.apply(DAGScheduler.scala:1876)\n\tat scala.collection.mutable.ResizableArray$class.foreach(ResizableArray.scala:59)\n\tat scala.collection.mutable.ArrayBuffer.foreach(ArrayBuffer.scala:48)\n\tat org.apache.spark.scheduler.DAGScheduler.abortStage(DAGScheduler.scala:1876)\n\tat org.apache.spark.scheduler.DAGScheduler$$anonfun$handleTaskSetFailed$1.apply(DAGScheduler.scala:926)\n\tat org.apache.spark.scheduler.DAGScheduler$$anonfun$handleTaskSetFailed$1.apply(DAGScheduler.scala:926)\n\tat scala.Option.foreach(Option.scala:257)\n\tat org.apache.spark.scheduler.DAGScheduler.handleTaskSetFailed(DAGScheduler.scala:926)\n\tat org.apache.spark.scheduler.DAGSchedulerEventProcessLoop.doOnReceive(DAGScheduler.scala:2110)\n\tat org.apache.spark.scheduler.DAGSchedulerEventProcessLoop.onReceive(DAGScheduler.scala:2059)\n\tat org.apache.spark.scheduler.DAGSchedulerEventProcessLoop.onReceive(DAGScheduler.scala:2048)\n\tat org.apache.spark.util.EventLoop$$anon$1.run(EventLoop.scala:49)\n\tat org.apache.spark.scheduler.DAGScheduler.runJob(DAGScheduler.scala:737)\n\tat org.apache.spark.SparkContext.runJob(SparkContext.scala:2061)\n\tat org.apache.spark.SparkContext.runJob(SparkContext.scala:2082)\n\tat org.apache.spark.SparkContext.runJob(SparkContext.scala:2101)\n\tat org.apache.spark.SparkContext.runJob(SparkContext.scala:2126)\n\tat org.apache.spark.rdd.RDD$$anonfun$collect$1.apply(RDD.scala:945)\n\tat org.apache.spark.rdd.RDDOperationScope$.withScope(RDDOperationScope.scala:151)\n\tat org.apache.spark.rdd.RDDOperationScope$.withScope(RDDOperationScope.scala:112)\n\tat org.apache.spark.rdd.RDD.withScope(RDD.scala:363)\n\tat org.apache.spark.rdd.RDD.collect(RDD.scala:944)\n\tat org.apache.spark.RangePartitioner$.sketch(Partitioner.scala:309)\n\tat org.apache.spark.RangePartitioner.<init>(Partitioner.scala:171)\n\tat org.apache.spark.RangePartitioner.<init>(Partitioner.scala:151)\n\tat org.apache.spark.rdd.OrderedRDDFunctions$$anonfun$sortByKey$1.apply(OrderedRDDFunctions.scala:62)\n\tat org.apache.spark.rdd.OrderedRDDFunctions$$anonfun$sortByKey$1.apply(OrderedRDDFunctions.scala:61)\n\tat org.apache.spark.rdd.RDDOperationScope$.withScope(RDDOperationScope.scala:151)\n\tat org.apache.spark.rdd.RDDOperationScope$.withScope(RDDOperationScope.scala:112)\n\tat org.apache.spark.rdd.RDD.withScope(RDD.scala:363)\n\tat org.apache.spark.rdd.OrderedRDDFunctions.sortByKey(OrderedRDDFunctions.scala:61)\n\tat org.apache.spark.mllib.evaluation.BinaryClassificationMetrics.x$4$lzycompute(BinaryClassificationMetrics.scala:155)\n\tat org.apache.spark.mllib.evaluation.BinaryClassificationMetrics.x$4(BinaryClassificationMetrics.scala:146)\n\tat org.apache.spark.mllib.evaluation.BinaryClassificationMetrics.confusions$lzycompute(BinaryClassificationMetrics.scala:148)\n\tat org.apache.spark.mllib.evaluation.BinaryClassificationMetrics.confusions(BinaryClassificationMetrics.scala:148)\n\tat org.apache.spark.mllib.evaluation.BinaryClassificationMetrics.createCurve(BinaryClassificationMetrics.scala:223)\n\tat org.apache.spark.mllib.evaluation.BinaryClassificationMetrics.roc(BinaryClassificationMetrics.scala:86)\n\tat org.apache.spark.mllib.evaluation.BinaryClassificationMetrics.areaUnderROC(BinaryClassificationMetrics.scala:97)\n\tat org.apache.spark.ml.evaluation.BinaryClassificationEvaluator.evaluate(BinaryClassificationEvaluator.scala:87)\n\tat sun.reflect.NativeMethodAccessorImpl.invoke0(Native Method)\n\tat sun.reflect.NativeMethodAccessorImpl.invoke(NativeMethodAccessorImpl.java:62)\n\tat sun.reflect.DelegatingMethodAccessorImpl.invoke(DelegatingMethodAccessorImpl.java:43)\n\tat java.lang.reflect.Method.invoke(Method.java:497)\n\tat py4j.reflection.MethodInvoker.invoke(MethodInvoker.java:244)\n\tat py4j.reflection.ReflectionEngine.invoke(ReflectionEngine.java:357)\n\tat py4j.Gateway.invoke(Gateway.java:282)\n\tat py4j.commands.AbstractCommand.invokeMethod(AbstractCommand.java:132)\n\tat py4j.commands.CallCommand.execute(CallCommand.java:79)\n\tat py4j.GatewayConnection.run(GatewayConnection.java:238)\n\tat java.lang.Thread.run(Thread.java:745)\nCaused by: java.lang.ArrayIndexOutOfBoundsException: 1\n\tat org.apache.spark.ml.linalg.DenseVector.apply(Vectors.scala:462)\n\tat org.apache.spark.ml.evaluation.BinaryClassificationEvaluator$$anonfun$1.apply(BinaryClassificationEvaluator.scala:82)\n\tat org.apache.spark.ml.evaluation.BinaryClassificationEvaluator$$anonfun$1.apply(BinaryClassificationEvaluator.scala:81)\n\tat scala.collection.Iterator$$anon$11.next(Iterator.scala:410)\n\tat org.apache.spark.util.collection.ExternalSorter.insertAll(ExternalSorter.scala:193)\n\tat org.apache.spark.shuffle.sort.SortShuffleWriter.write(SortShuffleWriter.scala:62)\n\tat org.apache.spark.scheduler.ShuffleMapTask.runTask(ShuffleMapTask.scala:99)\n\tat org.apache.spark.scheduler.ShuffleMapTask.runTask(ShuffleMapTask.scala:55)\n\tat org.apache.spark.scheduler.Task.run(Task.scala:121)\n\tat org.apache.spark.executor.Executor$TaskRunner$$anonfun$10.apply(Executor.scala:408)\n\tat org.apache.spark.util.Utils$.tryWithSafeFinally(Utils.scala:1360)\n\tat org.apache.spark.executor.Executor$TaskRunner.run(Executor.scala:414)\n\tat java.util.concurrent.ThreadPoolExecutor.runWorker(ThreadPoolExecutor.java:1142)\n\tat java.util.concurrent.ThreadPoolExecutor$Worker.run(ThreadPoolExecutor.java:617)\n\t... 1 more\n"
     ]
    }
   ],
   "source": [
    "# Running Random Forest model on text features\n",
    "RF_classification(model_description = \"Random forest, text features\",\n",
    "                  num_trees = 500,\n",
    "                  df = text_features_df, \n",
    "                  output_column = \"retweets_binary\")\n"
   ]
  },
  {
   "cell_type": "code",
   "execution_count": 0,
   "metadata": {
    "colab": {},
    "colab_type": "code",
    "id": "oGJ1-oa7Eqc5",
    "outputId": "bbe9a938-72e7-44c0-91e9-eb5f949efef7"
   },
   "outputs": [
    {
     "ename": "Py4JJavaError",
     "evalue": "An error occurred while calling o2489.evaluate.\n: org.apache.spark.SparkException: Job aborted due to stage failure: Task 2 in stage 337.0 failed 1 times, most recent failure: Lost task 2.0 in stage 337.0 (TID 25886, localhost, executor driver): java.lang.ArrayIndexOutOfBoundsException: 1\n\tat org.apache.spark.ml.linalg.DenseVector.apply(Vectors.scala:462)\n\tat org.apache.spark.ml.evaluation.BinaryClassificationEvaluator$$anonfun$1.apply(BinaryClassificationEvaluator.scala:82)\n\tat org.apache.spark.ml.evaluation.BinaryClassificationEvaluator$$anonfun$1.apply(BinaryClassificationEvaluator.scala:81)\n\tat scala.collection.Iterator$$anon$11.next(Iterator.scala:410)\n\tat org.apache.spark.util.collection.ExternalSorter.insertAll(ExternalSorter.scala:193)\n\tat org.apache.spark.shuffle.sort.SortShuffleWriter.write(SortShuffleWriter.scala:62)\n\tat org.apache.spark.scheduler.ShuffleMapTask.runTask(ShuffleMapTask.scala:99)\n\tat org.apache.spark.scheduler.ShuffleMapTask.runTask(ShuffleMapTask.scala:55)\n\tat org.apache.spark.scheduler.Task.run(Task.scala:121)\n\tat org.apache.spark.executor.Executor$TaskRunner$$anonfun$10.apply(Executor.scala:408)\n\tat org.apache.spark.util.Utils$.tryWithSafeFinally(Utils.scala:1360)\n\tat org.apache.spark.executor.Executor$TaskRunner.run(Executor.scala:414)\n\tat java.util.concurrent.ThreadPoolExecutor.runWorker(ThreadPoolExecutor.java:1142)\n\tat java.util.concurrent.ThreadPoolExecutor$Worker.run(ThreadPoolExecutor.java:617)\n\tat java.lang.Thread.run(Thread.java:745)\n\nDriver stacktrace:\n\tat org.apache.spark.scheduler.DAGScheduler.org$apache$spark$scheduler$DAGScheduler$$failJobAndIndependentStages(DAGScheduler.scala:1889)\n\tat org.apache.spark.scheduler.DAGScheduler$$anonfun$abortStage$1.apply(DAGScheduler.scala:1877)\n\tat org.apache.spark.scheduler.DAGScheduler$$anonfun$abortStage$1.apply(DAGScheduler.scala:1876)\n\tat scala.collection.mutable.ResizableArray$class.foreach(ResizableArray.scala:59)\n\tat scala.collection.mutable.ArrayBuffer.foreach(ArrayBuffer.scala:48)\n\tat org.apache.spark.scheduler.DAGScheduler.abortStage(DAGScheduler.scala:1876)\n\tat org.apache.spark.scheduler.DAGScheduler$$anonfun$handleTaskSetFailed$1.apply(DAGScheduler.scala:926)\n\tat org.apache.spark.scheduler.DAGScheduler$$anonfun$handleTaskSetFailed$1.apply(DAGScheduler.scala:926)\n\tat scala.Option.foreach(Option.scala:257)\n\tat org.apache.spark.scheduler.DAGScheduler.handleTaskSetFailed(DAGScheduler.scala:926)\n\tat org.apache.spark.scheduler.DAGSchedulerEventProcessLoop.doOnReceive(DAGScheduler.scala:2110)\n\tat org.apache.spark.scheduler.DAGSchedulerEventProcessLoop.onReceive(DAGScheduler.scala:2059)\n\tat org.apache.spark.scheduler.DAGSchedulerEventProcessLoop.onReceive(DAGScheduler.scala:2048)\n\tat org.apache.spark.util.EventLoop$$anon$1.run(EventLoop.scala:49)\n\tat org.apache.spark.scheduler.DAGScheduler.runJob(DAGScheduler.scala:737)\n\tat org.apache.spark.SparkContext.runJob(SparkContext.scala:2061)\n\tat org.apache.spark.SparkContext.runJob(SparkContext.scala:2082)\n\tat org.apache.spark.SparkContext.runJob(SparkContext.scala:2101)\n\tat org.apache.spark.SparkContext.runJob(SparkContext.scala:2126)\n\tat org.apache.spark.rdd.RDD$$anonfun$collect$1.apply(RDD.scala:945)\n\tat org.apache.spark.rdd.RDDOperationScope$.withScope(RDDOperationScope.scala:151)\n\tat org.apache.spark.rdd.RDDOperationScope$.withScope(RDDOperationScope.scala:112)\n\tat org.apache.spark.rdd.RDD.withScope(RDD.scala:363)\n\tat org.apache.spark.rdd.RDD.collect(RDD.scala:944)\n\tat org.apache.spark.RangePartitioner$.sketch(Partitioner.scala:309)\n\tat org.apache.spark.RangePartitioner.<init>(Partitioner.scala:171)\n\tat org.apache.spark.RangePartitioner.<init>(Partitioner.scala:151)\n\tat org.apache.spark.rdd.OrderedRDDFunctions$$anonfun$sortByKey$1.apply(OrderedRDDFunctions.scala:62)\n\tat org.apache.spark.rdd.OrderedRDDFunctions$$anonfun$sortByKey$1.apply(OrderedRDDFunctions.scala:61)\n\tat org.apache.spark.rdd.RDDOperationScope$.withScope(RDDOperationScope.scala:151)\n\tat org.apache.spark.rdd.RDDOperationScope$.withScope(RDDOperationScope.scala:112)\n\tat org.apache.spark.rdd.RDD.withScope(RDD.scala:363)\n\tat org.apache.spark.rdd.OrderedRDDFunctions.sortByKey(OrderedRDDFunctions.scala:61)\n\tat org.apache.spark.mllib.evaluation.BinaryClassificationMetrics.x$4$lzycompute(BinaryClassificationMetrics.scala:155)\n\tat org.apache.spark.mllib.evaluation.BinaryClassificationMetrics.x$4(BinaryClassificationMetrics.scala:146)\n\tat org.apache.spark.mllib.evaluation.BinaryClassificationMetrics.confusions$lzycompute(BinaryClassificationMetrics.scala:148)\n\tat org.apache.spark.mllib.evaluation.BinaryClassificationMetrics.confusions(BinaryClassificationMetrics.scala:148)\n\tat org.apache.spark.mllib.evaluation.BinaryClassificationMetrics.createCurve(BinaryClassificationMetrics.scala:223)\n\tat org.apache.spark.mllib.evaluation.BinaryClassificationMetrics.roc(BinaryClassificationMetrics.scala:86)\n\tat org.apache.spark.mllib.evaluation.BinaryClassificationMetrics.areaUnderROC(BinaryClassificationMetrics.scala:97)\n\tat org.apache.spark.ml.evaluation.BinaryClassificationEvaluator.evaluate(BinaryClassificationEvaluator.scala:87)\n\tat sun.reflect.NativeMethodAccessorImpl.invoke0(Native Method)\n\tat sun.reflect.NativeMethodAccessorImpl.invoke(NativeMethodAccessorImpl.java:62)\n\tat sun.reflect.DelegatingMethodAccessorImpl.invoke(DelegatingMethodAccessorImpl.java:43)\n\tat java.lang.reflect.Method.invoke(Method.java:497)\n\tat py4j.reflection.MethodInvoker.invoke(MethodInvoker.java:244)\n\tat py4j.reflection.ReflectionEngine.invoke(ReflectionEngine.java:357)\n\tat py4j.Gateway.invoke(Gateway.java:282)\n\tat py4j.commands.AbstractCommand.invokeMethod(AbstractCommand.java:132)\n\tat py4j.commands.CallCommand.execute(CallCommand.java:79)\n\tat py4j.GatewayConnection.run(GatewayConnection.java:238)\n\tat java.lang.Thread.run(Thread.java:745)\nCaused by: java.lang.ArrayIndexOutOfBoundsException: 1\n\tat org.apache.spark.ml.linalg.DenseVector.apply(Vectors.scala:462)\n\tat org.apache.spark.ml.evaluation.BinaryClassificationEvaluator$$anonfun$1.apply(BinaryClassificationEvaluator.scala:82)\n\tat org.apache.spark.ml.evaluation.BinaryClassificationEvaluator$$anonfun$1.apply(BinaryClassificationEvaluator.scala:81)\n\tat scala.collection.Iterator$$anon$11.next(Iterator.scala:410)\n\tat org.apache.spark.util.collection.ExternalSorter.insertAll(ExternalSorter.scala:193)\n\tat org.apache.spark.shuffle.sort.SortShuffleWriter.write(SortShuffleWriter.scala:62)\n\tat org.apache.spark.scheduler.ShuffleMapTask.runTask(ShuffleMapTask.scala:99)\n\tat org.apache.spark.scheduler.ShuffleMapTask.runTask(ShuffleMapTask.scala:55)\n\tat org.apache.spark.scheduler.Task.run(Task.scala:121)\n\tat org.apache.spark.executor.Executor$TaskRunner$$anonfun$10.apply(Executor.scala:408)\n\tat org.apache.spark.util.Utils$.tryWithSafeFinally(Utils.scala:1360)\n\tat org.apache.spark.executor.Executor$TaskRunner.run(Executor.scala:414)\n\tat java.util.concurrent.ThreadPoolExecutor.runWorker(ThreadPoolExecutor.java:1142)\n\tat java.util.concurrent.ThreadPoolExecutor$Worker.run(ThreadPoolExecutor.java:617)\n\t... 1 more\n",
     "output_type": "error",
     "traceback": [
      "\u001b[0;31m---------------------------------------------------------------------------\u001b[0m",
      "\u001b[0;31mPy4JJavaError\u001b[0m                             Traceback (most recent call last)",
      "\u001b[0;32m<ipython-input-59-9bfbf412c1d8>\u001b[0m in \u001b[0;36m<module>\u001b[0;34m\u001b[0m\n\u001b[1;32m      3\u001b[0m                   \u001b[0mnum_trees\u001b[0m \u001b[0;34m=\u001b[0m \u001b[0;36m1\u001b[0m\u001b[0;34m,\u001b[0m\u001b[0;34m\u001b[0m\u001b[0;34m\u001b[0m\u001b[0m\n\u001b[1;32m      4\u001b[0m                   \u001b[0mdf\u001b[0m \u001b[0;34m=\u001b[0m \u001b[0mnon_text_features_df\u001b[0m\u001b[0;34m,\u001b[0m\u001b[0;34m\u001b[0m\u001b[0;34m\u001b[0m\u001b[0m\n\u001b[0;32m----> 5\u001b[0;31m                   output_column = \"retweets_binary\")\n\u001b[0m",
      "\u001b[0;32m<ipython-input-51-a07e61dbca94>\u001b[0m in \u001b[0;36mRF_classification\u001b[0;34m(model_description, num_trees, df, output_column)\u001b[0m\n\u001b[1;32m     13\u001b[0m                                                   metricName=\"areaUnderROC\")\n\u001b[1;32m     14\u001b[0m \u001b[0;34m\u001b[0m\u001b[0m\n\u001b[0;32m---> 15\u001b[0;31m     \u001b[0mAUC_train\u001b[0m \u001b[0;34m=\u001b[0m \u001b[0mAUC_evaluator\u001b[0m\u001b[0;34m.\u001b[0m\u001b[0mevaluate\u001b[0m\u001b[0;34m(\u001b[0m\u001b[0mtrain_predictions\u001b[0m\u001b[0;34m)\u001b[0m\u001b[0;34m\u001b[0m\u001b[0;34m\u001b[0m\u001b[0m\n\u001b[0m\u001b[1;32m     16\u001b[0m     \u001b[0mAUC_test\u001b[0m \u001b[0;34m=\u001b[0m \u001b[0mAUC_evaluator\u001b[0m\u001b[0;34m.\u001b[0m\u001b[0mevaluate\u001b[0m\u001b[0;34m(\u001b[0m\u001b[0mtest_predictions\u001b[0m\u001b[0;34m)\u001b[0m\u001b[0;34m\u001b[0m\u001b[0;34m\u001b[0m\u001b[0m\n\u001b[1;32m     17\u001b[0m     \u001b[0mprint\u001b[0m\u001b[0;34m(\u001b[0m\u001b[0;34m\"###################\"\u001b[0m \u001b[0;34m+\u001b[0m \u001b[0mmodel_description\u001b[0m\u001b[0;34m.\u001b[0m\u001b[0mupper\u001b[0m\u001b[0;34m(\u001b[0m\u001b[0;34m)\u001b[0m \u001b[0;34m+\u001b[0m \u001b[0;34m\"##################\"\u001b[0m\u001b[0;34m)\u001b[0m\u001b[0;34m\u001b[0m\u001b[0;34m\u001b[0m\u001b[0m\n",
      "\u001b[0;32m~/\u001b/lib/python3.7/site-packages/pyspark/ml/evaluation.py\u001b[0m in \u001b[0;36mevaluate\u001b[0;34m(self, dataset, params)\u001b[0m\n\u001b[1;32m     69\u001b[0m                 \u001b[0;32mreturn\u001b[0m \u001b[0mself\u001b[0m\u001b[0;34m.\u001b[0m\u001b[0mcopy\u001b[0m\u001b[0;34m(\u001b[0m\u001b[0mparams\u001b[0m\u001b[0;34m)\u001b[0m\u001b[0;34m.\u001b[0m\u001b[0m_evaluate\u001b[0m\u001b[0;34m(\u001b[0m\u001b[0mdataset\u001b[0m\u001b[0;34m)\u001b[0m\u001b[0;34m\u001b[0m\u001b[0;34m\u001b[0m\u001b[0m\n\u001b[1;32m     70\u001b[0m             \u001b[0;32melse\u001b[0m\u001b[0;34m:\u001b[0m\u001b[0;34m\u001b[0m\u001b[0;34m\u001b[0m\u001b[0m\n\u001b[0;32m---> 71\u001b[0;31m                 \u001b[0;32mreturn\u001b[0m \u001b[0mself\u001b[0m\u001b[0;34m.\u001b[0m\u001b[0m_evaluate\u001b[0m\u001b[0;34m(\u001b[0m\u001b[0mdataset\u001b[0m\u001b[0;34m)\u001b[0m\u001b[0;34m\u001b[0m\u001b[0;34m\u001b[0m\u001b[0m\n\u001b[0m\u001b[1;32m     72\u001b[0m         \u001b[0;32melse\u001b[0m\u001b[0;34m:\u001b[0m\u001b[0;34m\u001b[0m\u001b[0;34m\u001b[0m\u001b[0m\n\u001b[1;32m     73\u001b[0m             \u001b[0;32mraise\u001b[0m \u001b[0mValueError\u001b[0m\u001b[0;34m(\u001b[0m\u001b[0;34m\"Params must be a param map but got %s.\"\u001b[0m \u001b[0;34m%\u001b[0m \u001b[0mtype\u001b[0m\u001b[0;34m(\u001b[0m\u001b[0mparams\u001b[0m\u001b[0;34m)\u001b[0m\u001b[0;34m)\u001b[0m\u001b[0;34m\u001b[0m\u001b[0;34m\u001b[0m\u001b[0m\n",
      "\u001b[0;32m~/\u001b/lib/python3.7/site-packages/pyspark/ml/evaluation.py\u001b[0m in \u001b[0;36m_evaluate\u001b[0;34m(self, dataset)\u001b[0m\n\u001b[1;32m     99\u001b[0m         \"\"\"\n\u001b[1;32m    100\u001b[0m         \u001b[0mself\u001b[0m\u001b[0;34m.\u001b[0m\u001b[0m_transfer_params_to_java\u001b[0m\u001b[0;34m(\u001b[0m\u001b[0;34m)\u001b[0m\u001b[0;34m\u001b[0m\u001b[0;34m\u001b[0m\u001b[0m\n\u001b[0;32m--> 101\u001b[0;31m         \u001b[0;32mreturn\u001b[0m \u001b[0mself\u001b[0m\u001b[0;34m.\u001b[0m\u001b[0m_java_obj\u001b[0m\u001b[0;34m.\u001b[0m\u001b[0mevaluate\u001b[0m\u001b[0;34m(\u001b[0m\u001b[0mdataset\u001b[0m\u001b[0;34m.\u001b[0m\u001b[0m_jdf\u001b[0m\u001b[0;34m)\u001b[0m\u001b[0;34m\u001b[0m\u001b[0;34m\u001b[0m\u001b[0m\n\u001b[0m\u001b[1;32m    102\u001b[0m \u001b[0;34m\u001b[0m\u001b[0m\n\u001b[1;32m    103\u001b[0m     \u001b[0;32mdef\u001b[0m \u001b[0misLargerBetter\u001b[0m\u001b[0;34m(\u001b[0m\u001b[0mself\u001b[0m\u001b[0;34m)\u001b[0m\u001b[0;34m:\u001b[0m\u001b[0;34m\u001b[0m\u001b[0;34m\u001b[0m\u001b[0m\n",
      "\u001b[0;32m~/\u001b/lib/python3.7/site-packages/py4j/java_gateway.py\u001b[0m in \u001b[0;36m__call__\u001b[0;34m(self, *args)\u001b[0m\n\u001b[1;32m   1255\u001b[0m         \u001b[0manswer\u001b[0m \u001b[0;34m=\u001b[0m \u001b[0mself\u001b[0m\u001b[0;34m.\u001b[0m\u001b[0mgateway_client\u001b[0m\u001b[0;34m.\u001b[0m\u001b[0msend_command\u001b[0m\u001b[0;34m(\u001b[0m\u001b[0mcommand\u001b[0m\u001b[0;34m)\u001b[0m\u001b[0;34m\u001b[0m\u001b[0;34m\u001b[0m\u001b[0m\n\u001b[1;32m   1256\u001b[0m         return_value = get_return_value(\n\u001b[0;32m-> 1257\u001b[0;31m             answer, self.gateway_client, self.target_id, self.name)\n\u001b[0m\u001b[1;32m   1258\u001b[0m \u001b[0;34m\u001b[0m\u001b[0m\n\u001b[1;32m   1259\u001b[0m         \u001b[0;32mfor\u001b[0m \u001b[0mtemp_arg\u001b[0m \u001b[0;32min\u001b[0m \u001b[0mtemp_args\u001b[0m\u001b[0;34m:\u001b[0m\u001b[0;34m\u001b[0m\u001b[0;34m\u001b[0m\u001b[0m\n",
      "\u001b[0;32m~/\u001b/lib/python3.7/site-packages/pyspark/sql/utils.py\u001b[0m in \u001b[0;36mdeco\u001b[0;34m(*a, **kw)\u001b[0m\n\u001b[1;32m     61\u001b[0m     \u001b[0;32mdef\u001b[0m \u001b[0mdeco\u001b[0m\u001b[0;34m(\u001b[0m\u001b[0;34m*\u001b[0m\u001b[0ma\u001b[0m\u001b[0;34m,\u001b[0m \u001b[0;34m**\u001b[0m\u001b[0mkw\u001b[0m\u001b[0;34m)\u001b[0m\u001b[0;34m:\u001b[0m\u001b[0;34m\u001b[0m\u001b[0;34m\u001b[0m\u001b[0m\n\u001b[1;32m     62\u001b[0m         \u001b[0;32mtry\u001b[0m\u001b[0;34m:\u001b[0m\u001b[0;34m\u001b[0m\u001b[0;34m\u001b[0m\u001b[0m\n\u001b[0;32m---> 63\u001b[0;31m             \u001b[0;32mreturn\u001b[0m \u001b[0mf\u001b[0m\u001b[0;34m(\u001b[0m\u001b[0;34m*\u001b[0m\u001b[0ma\u001b[0m\u001b[0;34m,\u001b[0m \u001b[0;34m**\u001b[0m\u001b[0mkw\u001b[0m\u001b[0;34m)\u001b[0m\u001b[0;34m\u001b[0m\u001b[0;34m\u001b[0m\u001b[0m\n\u001b[0m\u001b[1;32m     64\u001b[0m         \u001b[0;32mexcept\u001b[0m \u001b[0mpy4j\u001b[0m\u001b[0;34m.\u001b[0m\u001b[0mprotocol\u001b[0m\u001b[0;34m.\u001b[0m\u001b[0mPy4JJavaError\u001b[0m \u001b[0;32mas\u001b[0m \u001b[0me\u001b[0m\u001b[0;34m:\u001b[0m\u001b[0;34m\u001b[0m\u001b[0;34m\u001b[0m\u001b[0m\n\u001b[1;32m     65\u001b[0m             \u001b[0ms\u001b[0m \u001b[0;34m=\u001b[0m \u001b[0me\u001b[0m\u001b[0;34m.\u001b[0m\u001b[0mjava_exception\u001b[0m\u001b[0;34m.\u001b[0m\u001b[0mtoString\u001b[0m\u001b[0;34m(\u001b[0m\u001b[0;34m)\u001b[0m\u001b[0;34m\u001b[0m\u001b[0;34m\u001b[0m\u001b[0m\n",
      "\u001b[0;32m~/\u001b/lib/python3.7/site-packages/py4j/protocol.py\u001b[0m in \u001b[0;36mget_return_value\u001b[0;34m(answer, gateway_client, target_id, name)\u001b[0m\n\u001b[1;32m    326\u001b[0m                 raise Py4JJavaError(\n\u001b[1;32m    327\u001b[0m                     \u001b[0;34m\"An error occurred while calling {0}{1}{2}.\\n\"\u001b[0m\u001b[0;34m.\u001b[0m\u001b[0;34m\u001b[0m\u001b[0;34m\u001b[0m\u001b[0m\n\u001b[0;32m--> 328\u001b[0;31m                     format(target_id, \".\", name), value)\n\u001b[0m\u001b[1;32m    329\u001b[0m             \u001b[0;32melse\u001b[0m\u001b[0;34m:\u001b[0m\u001b[0;34m\u001b[0m\u001b[0;34m\u001b[0m\u001b[0m\n\u001b[1;32m    330\u001b[0m                 raise Py4JError(\n",
      "\u001b[0;31mPy4JJavaError\u001b[0m: An error occurred while calling o2489.evaluate.\n: org.apache.spark.SparkException: Job aborted due to stage failure: Task 2 in stage 337.0 failed 1 times, most recent failure: Lost task 2.0 in stage 337.0 (TID 25886, localhost, executor driver): java.lang.ArrayIndexOutOfBoundsException: 1\n\tat org.apache.spark.ml.linalg.DenseVector.apply(Vectors.scala:462)\n\tat org.apache.spark.ml.evaluation.BinaryClassificationEvaluator$$anonfun$1.apply(BinaryClassificationEvaluator.scala:82)\n\tat org.apache.spark.ml.evaluation.BinaryClassificationEvaluator$$anonfun$1.apply(BinaryClassificationEvaluator.scala:81)\n\tat scala.collection.Iterator$$anon$11.next(Iterator.scala:410)\n\tat org.apache.spark.util.collection.ExternalSorter.insertAll(ExternalSorter.scala:193)\n\tat org.apache.spark.shuffle.sort.SortShuffleWriter.write(SortShuffleWriter.scala:62)\n\tat org.apache.spark.scheduler.ShuffleMapTask.runTask(ShuffleMapTask.scala:99)\n\tat org.apache.spark.scheduler.ShuffleMapTask.runTask(ShuffleMapTask.scala:55)\n\tat org.apache.spark.scheduler.Task.run(Task.scala:121)\n\tat org.apache.spark.executor.Executor$TaskRunner$$anonfun$10.apply(Executor.scala:408)\n\tat org.apache.spark.util.Utils$.tryWithSafeFinally(Utils.scala:1360)\n\tat org.apache.spark.executor.Executor$TaskRunner.run(Executor.scala:414)\n\tat java.util.concurrent.ThreadPoolExecutor.runWorker(ThreadPoolExecutor.java:1142)\n\tat java.util.concurrent.ThreadPoolExecutor$Worker.run(ThreadPoolExecutor.java:617)\n\tat java.lang.Thread.run(Thread.java:745)\n\nDriver stacktrace:\n\tat org.apache.spark.scheduler.DAGScheduler.org$apache$spark$scheduler$DAGScheduler$$failJobAndIndependentStages(DAGScheduler.scala:1889)\n\tat org.apache.spark.scheduler.DAGScheduler$$anonfun$abortStage$1.apply(DAGScheduler.scala:1877)\n\tat org.apache.spark.scheduler.DAGScheduler$$anonfun$abortStage$1.apply(DAGScheduler.scala:1876)\n\tat scala.collection.mutable.ResizableArray$class.foreach(ResizableArray.scala:59)\n\tat scala.collection.mutable.ArrayBuffer.foreach(ArrayBuffer.scala:48)\n\tat org.apache.spark.scheduler.DAGScheduler.abortStage(DAGScheduler.scala:1876)\n\tat org.apache.spark.scheduler.DAGScheduler$$anonfun$handleTaskSetFailed$1.apply(DAGScheduler.scala:926)\n\tat org.apache.spark.scheduler.DAGScheduler$$anonfun$handleTaskSetFailed$1.apply(DAGScheduler.scala:926)\n\tat scala.Option.foreach(Option.scala:257)\n\tat org.apache.spark.scheduler.DAGScheduler.handleTaskSetFailed(DAGScheduler.scala:926)\n\tat org.apache.spark.scheduler.DAGSchedulerEventProcessLoop.doOnReceive(DAGScheduler.scala:2110)\n\tat org.apache.spark.scheduler.DAGSchedulerEventProcessLoop.onReceive(DAGScheduler.scala:2059)\n\tat org.apache.spark.scheduler.DAGSchedulerEventProcessLoop.onReceive(DAGScheduler.scala:2048)\n\tat org.apache.spark.util.EventLoop$$anon$1.run(EventLoop.scala:49)\n\tat org.apache.spark.scheduler.DAGScheduler.runJob(DAGScheduler.scala:737)\n\tat org.apache.spark.SparkContext.runJob(SparkContext.scala:2061)\n\tat org.apache.spark.SparkContext.runJob(SparkContext.scala:2082)\n\tat org.apache.spark.SparkContext.runJob(SparkContext.scala:2101)\n\tat org.apache.spark.SparkContext.runJob(SparkContext.scala:2126)\n\tat org.apache.spark.rdd.RDD$$anonfun$collect$1.apply(RDD.scala:945)\n\tat org.apache.spark.rdd.RDDOperationScope$.withScope(RDDOperationScope.scala:151)\n\tat org.apache.spark.rdd.RDDOperationScope$.withScope(RDDOperationScope.scala:112)\n\tat org.apache.spark.rdd.RDD.withScope(RDD.scala:363)\n\tat org.apache.spark.rdd.RDD.collect(RDD.scala:944)\n\tat org.apache.spark.RangePartitioner$.sketch(Partitioner.scala:309)\n\tat org.apache.spark.RangePartitioner.<init>(Partitioner.scala:171)\n\tat org.apache.spark.RangePartitioner.<init>(Partitioner.scala:151)\n\tat org.apache.spark.rdd.OrderedRDDFunctions$$anonfun$sortByKey$1.apply(OrderedRDDFunctions.scala:62)\n\tat org.apache.spark.rdd.OrderedRDDFunctions$$anonfun$sortByKey$1.apply(OrderedRDDFunctions.scala:61)\n\tat org.apache.spark.rdd.RDDOperationScope$.withScope(RDDOperationScope.scala:151)\n\tat org.apache.spark.rdd.RDDOperationScope$.withScope(RDDOperationScope.scala:112)\n\tat org.apache.spark.rdd.RDD.withScope(RDD.scala:363)\n\tat org.apache.spark.rdd.OrderedRDDFunctions.sortByKey(OrderedRDDFunctions.scala:61)\n\tat org.apache.spark.mllib.evaluation.BinaryClassificationMetrics.x$4$lzycompute(BinaryClassificationMetrics.scala:155)\n\tat org.apache.spark.mllib.evaluation.BinaryClassificationMetrics.x$4(BinaryClassificationMetrics.scala:146)\n\tat org.apache.spark.mllib.evaluation.BinaryClassificationMetrics.confusions$lzycompute(BinaryClassificationMetrics.scala:148)\n\tat org.apache.spark.mllib.evaluation.BinaryClassificationMetrics.confusions(BinaryClassificationMetrics.scala:148)\n\tat org.apache.spark.mllib.evaluation.BinaryClassificationMetrics.createCurve(BinaryClassificationMetrics.scala:223)\n\tat org.apache.spark.mllib.evaluation.BinaryClassificationMetrics.roc(BinaryClassificationMetrics.scala:86)\n\tat org.apache.spark.mllib.evaluation.BinaryClassificationMetrics.areaUnderROC(BinaryClassificationMetrics.scala:97)\n\tat org.apache.spark.ml.evaluation.BinaryClassificationEvaluator.evaluate(BinaryClassificationEvaluator.scala:87)\n\tat sun.reflect.NativeMethodAccessorImpl.invoke0(Native Method)\n\tat sun.reflect.NativeMethodAccessorImpl.invoke(NativeMethodAccessorImpl.java:62)\n\tat sun.reflect.DelegatingMethodAccessorImpl.invoke(DelegatingMethodAccessorImpl.java:43)\n\tat java.lang.reflect.Method.invoke(Method.java:497)\n\tat py4j.reflection.MethodInvoker.invoke(MethodInvoker.java:244)\n\tat py4j.reflection.ReflectionEngine.invoke(ReflectionEngine.java:357)\n\tat py4j.Gateway.invoke(Gateway.java:282)\n\tat py4j.commands.AbstractCommand.invokeMethod(AbstractCommand.java:132)\n\tat py4j.commands.CallCommand.execute(CallCommand.java:79)\n\tat py4j.GatewayConnection.run(GatewayConnection.java:238)\n\tat java.lang.Thread.run(Thread.java:745)\nCaused by: java.lang.ArrayIndexOutOfBoundsException: 1\n\tat org.apache.spark.ml.linalg.DenseVector.apply(Vectors.scala:462)\n\tat org.apache.spark.ml.evaluation.BinaryClassificationEvaluator$$anonfun$1.apply(BinaryClassificationEvaluator.scala:82)\n\tat org.apache.spark.ml.evaluation.BinaryClassificationEvaluator$$anonfun$1.apply(BinaryClassificationEvaluator.scala:81)\n\tat scala.collection.Iterator$$anon$11.next(Iterator.scala:410)\n\tat org.apache.spark.util.collection.ExternalSorter.insertAll(ExternalSorter.scala:193)\n\tat org.apache.spark.shuffle.sort.SortShuffleWriter.write(SortShuffleWriter.scala:62)\n\tat org.apache.spark.scheduler.ShuffleMapTask.runTask(ShuffleMapTask.scala:99)\n\tat org.apache.spark.scheduler.ShuffleMapTask.runTask(ShuffleMapTask.scala:55)\n\tat org.apache.spark.scheduler.Task.run(Task.scala:121)\n\tat org.apache.spark.executor.Executor$TaskRunner$$anonfun$10.apply(Executor.scala:408)\n\tat org.apache.spark.util.Utils$.tryWithSafeFinally(Utils.scala:1360)\n\tat org.apache.spark.executor.Executor$TaskRunner.run(Executor.scala:414)\n\tat java.util.concurrent.ThreadPoolExecutor.runWorker(ThreadPoolExecutor.java:1142)\n\tat java.util.concurrent.ThreadPoolExecutor$Worker.run(ThreadPoolExecutor.java:617)\n\t... 1 more\n"
     ]
    }
   ],
   "source": [
    "# Running Random Forest model on non text features\n",
    "RF_classification(model_description = \"Random forest, non text features\",\n",
    "                  num_trees = 500,\n",
    "                  df = non_text_features_df, \n",
    "                  output_column = \"retweets_binary\")\n"
   ]
  },
  {
   "cell_type": "code",
   "execution_count": 0,
   "metadata": {
    "colab": {},
    "colab_type": "code",
    "id": "HRRrkbrvEqdA"
   },
   "outputs": [],
   "source": [
    "# Running Random Forest model on text features\n",
    "RF_classification(model_description = \"Random forest, text features\",\n",
    "                  num_trees = 500,\n",
    "                  df = all_features_df, \n",
    "                  output_column = \"retweets_binary\")\n"
   ]
  },
  {
   "cell_type": "code",
   "execution_count": 0,
   "metadata": {
    "colab": {},
    "colab_type": "code",
    "id": "jxmtQiDHEqdH"
   },
   "outputs": [],
   "source": [
    "results"
   ]
  },
  {
   "cell_type": "code",
   "execution_count": 0,
   "metadata": {
    "colab": {},
    "colab_type": "code",
    "id": "GVsMGdo3EqdM",
    "outputId": "55136e2d-fff5-4808-a976-7bc288a9ace9"
   },
   "outputs": [
    {
     "name": "stdout",
     "output_type": "stream",
     "text": [
      "BinaryClassificationEvaluator_d9e2de0b7436\n"
     ]
    },
    {
     "data": {
      "text/plain": [
       "'AUC_train = AUC_evaluator.evaluate(train_predictions)\\nAUC_test = AUC_evaluator.evaluate(test_predictions)\\nprint(\"###################\" + model_description.upper() + \"##################\")\\nprint(\"TRAIN AUC:       {}\".format(AUC_train))\\nprint(\"TEST AUC:        {}\".format(AUC_test))\\n\\nglobal results\\nresults = results.append({\"algorithm\": model_description, \"train AUC\": AUC_train, \"test AUC\": AUC_test}, \\n                         ignore_index=True)'"
      ]
     },
     "execution_count": 60,
     "metadata": {
      "tags": []
     },
     "output_type": "execute_result"
    }
   ],
   "source": [
    "  # predecting   \n",
    "  model_description = \"Random forest, text features\"\n",
    "    num_trees = 20\n",
    "    df = all_features_df\n",
    "    output_column = \"retweets_binary\"\n",
    "    \n",
    "    train, test = df.randomSplit([0.8, 0.2], seed = 42)\n",
    "    \n",
    "    rf = RandomForestClassifier(numTrees=num_trees, featuresCol = \"input_features\", labelCol=\"retweets_binary\")\n",
    "    rf_model = rf.fit(train)\n",
    "\n",
    "    train_predictions = rf_model.transform(train)\n",
    "    test_predictions = rf_model.transform(test)\n",
    "    \n",
    "    AUC_evaluator = BinaryClassificationEvaluator(rawPredictionCol=\"rawPrediction\", \n",
    "                                                  labelCol=\"retweets_binary\", \n",
    "                                                  metricName=\"areaUnderROC\")\n",
    "\n",
    "    print(AUC_evaluator)\n",
    "    '''AUC_train = AUC_evaluator.evaluate(train_predictions)\n",
    "    AUC_test = AUC_evaluator.evaluate(test_predictions)\n",
    "    print(\"###################\" + model_description.upper() + \"##################\")\n",
    "    print(\"TRAIN AUC:       {}\".format(AUC_train))\n",
    "    print(\"TEST AUC:        {}\".format(AUC_test))\n",
    "    \n",
    "    global results\n",
    "    results = results.append({\"algorithm\": model_description, \"train AUC\": AUC_train, \"test AUC\": AUC_test}, \n",
    "                             ignore_index=True)'''"
   ]
  },
  {
   "cell_type": "code",
   "execution_count": 0,
   "metadata": {
    "colab": {},
    "colab_type": "code",
    "id": "bwi0_s7aEqdP",
    "outputId": "5476656e-0de9-4241-b935-4540c93939d2"
   },
   "outputs": [
    {
     "name": "stdout",
     "output_type": "stream",
     "text": [
      "+--------------------+---------------+-------------+-------------+-----------+----------+\n",
      "|      input_features|retweets_binary|retweet_count|rawPrediction|probability|prediction|\n",
      "+--------------------+---------------+-------------+-------------+-----------+----------+\n",
      "|(63,[0,1,2,3,4,5,...|              0|            0|       [20.0]|      [1.0]|       0.0|\n",
      "|(63,[0,1,2,3,4,5,...|              0|            0|       [20.0]|      [1.0]|       0.0|\n",
      "|(63,[0,1,2,3,4,5,...|              0|            0|       [20.0]|      [1.0]|       0.0|\n",
      "|(63,[0,1,2,4,5,6,...|              0|            0|       [20.0]|      [1.0]|       0.0|\n",
      "|(63,[0,2,3,4,5,6,...|              0|            0|       [20.0]|      [1.0]|       0.0|\n",
      "|(63,[0,2,3,4,5,6,...|              0|            0|       [20.0]|      [1.0]|       0.0|\n",
      "|(63,[0,2,3,4,5,6,...|              0|            0|       [20.0]|      [1.0]|       0.0|\n",
      "|(63,[0,2,3,4,5,6,...|              0|            0|       [20.0]|      [1.0]|       0.0|\n",
      "|(63,[0,2,5,6,54,5...|              0|            0|       [20.0]|      [1.0]|       0.0|\n",
      "|(63,[1,2,3,4,5,6,...|              0|            0|       [20.0]|      [1.0]|       0.0|\n",
      "|(63,[1,2,3,4,5,6,...|              0|            0|       [20.0]|      [1.0]|       0.0|\n",
      "|(63,[1,2,3,4,5,6,...|              0|            0|       [20.0]|      [1.0]|       0.0|\n",
      "|(63,[1,2,3,4,5,6,...|              0|            0|       [20.0]|      [1.0]|       0.0|\n",
      "|(63,[1,2,3,4,5,6,...|              0|            0|       [20.0]|      [1.0]|       0.0|\n",
      "|(63,[1,2,3,4,5,6,...|              0|            0|       [20.0]|      [1.0]|       0.0|\n",
      "|(63,[1,2,3,4,5,6,...|              0|            0|       [20.0]|      [1.0]|       0.0|\n",
      "|(63,[1,2,3,4,5,6,...|              0|            0|       [20.0]|      [1.0]|       0.0|\n",
      "|(63,[1,2,3,4,5,6,...|              0|            0|       [20.0]|      [1.0]|       0.0|\n",
      "|(63,[1,2,3,4,5,6,...|              0|            0|       [20.0]|      [1.0]|       0.0|\n",
      "|(63,[1,2,3,4,5,6,...|              0|            0|       [20.0]|      [1.0]|       0.0|\n",
      "+--------------------+---------------+-------------+-------------+-----------+----------+\n",
      "only showing top 20 rows\n",
      "\n"
     ]
    }
   ],
   "source": [
    "train_predictions.show()"
   ]
  },
  {
   "cell_type": "code",
   "execution_count": 0,
   "metadata": {
    "colab": {},
    "colab_type": "code",
    "id": "UL_p3e3WEqdU",
    "outputId": "0439c6c7-9856-42b6-a50c-386fbc58192d"
   },
   "outputs": [
    {
     "name": "stdout",
     "output_type": "stream",
     "text": [
      "NOTE: Enter 'c' at the ipdb>  prompt to continue execution.\n",
      "> \u001b[0;32m<string>\u001b[0m(2)\u001b[0;36m<module>\u001b[0;34m()\u001b[0m\n",
      "\n",
      "ipdb> c\n",
      "\u001b[0;31m---------------------------------------------------------------------------\u001b[0m\n",
      "\u001b[0;31mPy4JJavaError\u001b[0m                             Traceback (most recent call last)\n",
      "\u001b[0;32m~/\u001b/lib/python3.7/site-packages/pyspark/ml/evaluation.py\u001b[0m in \u001b[0;36mevaluate\u001b[0;34m(self, dataset, params)\u001b[0m\n",
      "\u001b[1;32m     69\u001b[0m                 \u001b[0;32mreturn\u001b[0m \u001b[0mself\u001b[0m\u001b[0;34m.\u001b[0m\u001b[0mcopy\u001b[0m\u001b[0;34m(\u001b[0m\u001b[0mparams\u001b[0m\u001b[0;34m)\u001b[0m\u001b[0;34m.\u001b[0m\u001b[0m_evaluate\u001b[0m\u001b[0;34m(\u001b[0m\u001b[0mdataset\u001b[0m\u001b[0;34m)\u001b[0m\u001b[0;34m\u001b[0m\u001b[0;34m\u001b[0m\u001b[0m\n",
      "\u001b[1;32m     70\u001b[0m             \u001b[0;32melse\u001b[0m\u001b[0;34m:\u001b[0m\u001b[0;34m\u001b[0m\u001b[0;34m\u001b[0m\u001b[0m\n",
      "\u001b[0;32m---> 71\u001b[0;31m                 \u001b[0;32mreturn\u001b[0m \u001b[0mself\u001b[0m\u001b[0;34m.\u001b[0m\u001b[0m_evaluate\u001b[0m\u001b[0;34m(\u001b[0m\u001b[0mdataset\u001b[0m\u001b[0;34m)\u001b[0m\u001b[0;34m\u001b[0m\u001b[0;34m\u001b[0m\u001b[0m\n",
      "\u001b[0m\u001b[1;32m     72\u001b[0m         \u001b[0;32melse\u001b[0m\u001b[0;34m:\u001b[0m\u001b[0;34m\u001b[0m\u001b[0;34m\u001b[0m\u001b[0m\n",
      "\u001b[1;32m     73\u001b[0m             \u001b[0;32mraise\u001b[0m \u001b[0mValueError\u001b[0m\u001b[0;34m(\u001b[0m\u001b[0;34m\"Params must be a param map but got %s.\"\u001b[0m \u001b[0;34m%\u001b[0m \u001b[0mtype\u001b[0m\u001b[0;34m(\u001b[0m\u001b[0mparams\u001b[0m\u001b[0;34m)\u001b[0m\u001b[0;34m)\u001b[0m\u001b[0;34m\u001b[0m\u001b[0;34m\u001b[0m\u001b[0m\n",
      "\n",
      "\u001b[0;32m~/\u001b/lib/python3.7/site-packages/pyspark/ml/evaluation.py\u001b[0m in \u001b[0;36m_evaluate\u001b[0;34m(self, dataset)\u001b[0m\n",
      "\u001b[1;32m     99\u001b[0m         \"\"\"\n",
      "\u001b[1;32m    100\u001b[0m         \u001b[0mself\u001b[0m\u001b[0;34m.\u001b[0m\u001b[0m_transfer_params_to_java\u001b[0m\u001b[0;34m(\u001b[0m\u001b[0;34m)\u001b[0m\u001b[0;34m\u001b[0m\u001b[0;34m\u001b[0m\u001b[0m\n",
      "\u001b[0;32m--> 101\u001b[0;31m         \u001b[0;32mreturn\u001b[0m \u001b[0mself\u001b[0m\u001b[0;34m.\u001b[0m\u001b[0m_java_obj\u001b[0m\u001b[0;34m.\u001b[0m\u001b[0mevaluate\u001b[0m\u001b[0;34m(\u001b[0m\u001b[0mdataset\u001b[0m\u001b[0;34m.\u001b[0m\u001b[0m_jdf\u001b[0m\u001b[0;34m)\u001b[0m\u001b[0;34m\u001b[0m\u001b[0;34m\u001b[0m\u001b[0m\n",
      "\u001b[0m\u001b[1;32m    102\u001b[0m \u001b[0;34m\u001b[0m\u001b[0m\n",
      "\u001b[1;32m    103\u001b[0m     \u001b[0;32mdef\u001b[0m \u001b[0misLargerBetter\u001b[0m\u001b[0;34m(\u001b[0m\u001b[0mself\u001b[0m\u001b[0;34m)\u001b[0m\u001b[0;34m:\u001b[0m\u001b[0;34m\u001b[0m\u001b[0;34m\u001b[0m\u001b[0m\n",
      "\n",
      "\u001b[0;32m~/\u001b/lib/python3.7/site-packages/py4j/java_gateway.py\u001b[0m in \u001b[0;36m__call__\u001b[0;34m(self, *args)\u001b[0m\n",
      "\u001b[1;32m   1255\u001b[0m         \u001b[0manswer\u001b[0m \u001b[0;34m=\u001b[0m \u001b[0mself\u001b[0m\u001b[0;34m.\u001b[0m\u001b[0mgateway_client\u001b[0m\u001b[0;34m.\u001b[0m\u001b[0msend_command\u001b[0m\u001b[0;34m(\u001b[0m\u001b[0mcommand\u001b[0m\u001b[0;34m)\u001b[0m\u001b[0;34m\u001b[0m\u001b[0;34m\u001b[0m\u001b[0m\n",
      "\u001b[1;32m   1256\u001b[0m         return_value = get_return_value(\n",
      "\u001b[0;32m-> 1257\u001b[0;31m             answer, self.gateway_client, self.target_id, self.name)\n",
      "\u001b[0m\u001b[1;32m   1258\u001b[0m \u001b[0;34m\u001b[0m\u001b[0m\n",
      "\u001b[1;32m   1259\u001b[0m         \u001b[0;32mfor\u001b[0m \u001b[0mtemp_arg\u001b[0m \u001b[0;32min\u001b[0m \u001b[0mtemp_args\u001b[0m\u001b[0;34m:\u001b[0m\u001b[0;34m\u001b[0m\u001b[0;34m\u001b[0m\u001b[0m\n",
      "\n",
      "\u001b[0;32m~/\u001b/lib/python3.7/site-packages/pyspark/sql/utils.py\u001b[0m in \u001b[0;36mdeco\u001b[0;34m(*a, **kw)\u001b[0m\n",
      "\u001b[1;32m     61\u001b[0m     \u001b[0;32mdef\u001b[0m \u001b[0mdeco\u001b[0m\u001b[0;34m(\u001b[0m\u001b[0;34m*\u001b[0m\u001b[0ma\u001b[0m\u001b[0;34m,\u001b[0m \u001b[0;34m**\u001b[0m\u001b[0mkw\u001b[0m\u001b[0;34m)\u001b[0m\u001b[0;34m:\u001b[0m\u001b[0;34m\u001b[0m\u001b[0;34m\u001b[0m\u001b[0m\n",
      "\u001b[1;32m     62\u001b[0m         \u001b[0;32mtry\u001b[0m\u001b[0;34m:\u001b[0m\u001b[0;34m\u001b[0m\u001b[0;34m\u001b[0m\u001b[0m\n",
      "\u001b[0;32m---> 63\u001b[0;31m             \u001b[0;32mreturn\u001b[0m \u001b[0mf\u001b[0m\u001b[0;34m(\u001b[0m\u001b[0;34m*\u001b[0m\u001b[0ma\u001b[0m\u001b[0;34m,\u001b[0m \u001b[0;34m**\u001b[0m\u001b[0mkw\u001b[0m\u001b[0;34m)\u001b[0m\u001b[0;34m\u001b[0m\u001b[0;34m\u001b[0m\u001b[0m\n",
      "\u001b[0m\u001b[1;32m     64\u001b[0m         \u001b[0;32mexcept\u001b[0m \u001b[0mpy4j\u001b[0m\u001b[0;34m.\u001b[0m\u001b[0mprotocol\u001b[0m\u001b[0;34m.\u001b[0m\u001b[0mPy4JJavaError\u001b[0m \u001b[0;32mas\u001b[0m \u001b[0me\u001b[0m\u001b[0;34m:\u001b[0m\u001b[0;34m\u001b[0m\u001b[0;34m\u001b[0m\u001b[0m\n",
      "\u001b[1;32m     65\u001b[0m             \u001b[0ms\u001b[0m \u001b[0;34m=\u001b[0m \u001b[0me\u001b[0m\u001b[0;34m.\u001b[0m\u001b[0mjava_exception\u001b[0m\u001b[0;34m.\u001b[0m\u001b[0mtoString\u001b[0m\u001b[0;34m(\u001b[0m\u001b[0;34m)\u001b[0m\u001b[0;34m\u001b[0m\u001b[0;34m\u001b[0m\u001b[0m\n",
      "\n",
      "\u001b[0;32m~/\u001b/lib/python3.7/site-packages/py4j/protocol.py\u001b[0m in \u001b[0;36mget_return_value\u001b[0;34m(answer, gateway_client, target_id, name)\u001b[0m\n",
      "\u001b[1;32m    326\u001b[0m                 raise Py4JJavaError(\n",
      "\u001b[1;32m    327\u001b[0m                     \u001b[0;34m\"An error occurred while calling {0}{1}{2}.\\n\"\u001b[0m\u001b[0;34m.\u001b[0m\u001b[0;34m\u001b[0m\u001b[0;34m\u001b[0m\u001b[0m\n",
      "\u001b[0;32m--> 328\u001b[0;31m                     format(target_id, \".\", name), value)\n",
      "\u001b[0m\u001b[1;32m    329\u001b[0m             \u001b[0;32melse\u001b[0m\u001b[0;34m:\u001b[0m\u001b[0;34m\u001b[0m\u001b[0;34m\u001b[0m\u001b[0m\n",
      "\u001b[1;32m    330\u001b[0m                 raise Py4JError(\n",
      "\n",
      "\u001b[0;31mPy4JJavaError\u001b[0m: An error occurred while calling o2728.evaluate.\n",
      ": org.apache.spark.SparkException: Job aborted due to stage failure: Task 0 in stage 377.0 failed 1 times, most recent failure: Lost task 0.0 in stage 377.0 (TID 28439, localhost, executor driver): java.lang.ArrayIndexOutOfBoundsException: 1\n",
      "\tat org.apache.spark.ml.linalg.DenseVector.apply(Vectors.scala:462)\n",
      "\tat org.apache.spark.ml.evaluation.BinaryClassificationEvaluator$$anonfun$1.apply(BinaryClassificationEvaluator.scala:82)\n",
      "\tat org.apache.spark.ml.evaluation.BinaryClassificationEvaluator$$anonfun$1.apply(BinaryClassificationEvaluator.scala:81)\n",
      "\tat scala.collection.Iterator$$anon$11.next(Iterator.scala:410)\n",
      "\tat org.apache.spark.util.collection.ExternalSorter.insertAll(ExternalSorter.scala:193)\n",
      "\tat org.apache.spark.shuffle.sort.SortShuffleWriter.write(SortShuffleWriter.scala:62)\n",
      "\tat org.apache.spark.scheduler.ShuffleMapTask.runTask(ShuffleMapTask.scala:99)\n",
      "\tat org.apache.spark.scheduler.ShuffleMapTask.runTask(ShuffleMapTask.scala:55)\n",
      "\tat org.apache.spark.scheduler.Task.run(Task.scala:121)\n",
      "\tat org.apache.spark.executor.Executor$TaskRunner$$anonfun$10.apply(Executor.scala:408)\n",
      "\tat org.apache.spark.util.Utils$.tryWithSafeFinally(Utils.scala:1360)\n",
      "\tat org.apache.spark.executor.Executor$TaskRunner.run(Executor.scala:414)\n",
      "\tat java.util.concurrent.ThreadPoolExecutor.runWorker(ThreadPoolExecutor.java:1142)\n",
      "\tat java.util.concurrent.ThreadPoolExecutor$Worker.run(ThreadPoolExecutor.java:617)\n",
      "\tat java.lang.Thread.run(Thread.java:745)\n",
      "\n",
      "Driver stacktrace:\n",
      "\tat org.apache.spark.scheduler.DAGScheduler.org$apache$spark$scheduler$DAGScheduler$$failJobAndIndependentStages(DAGScheduler.scala:1889)\n",
      "\tat org.apache.spark.scheduler.DAGScheduler$$anonfun$abortStage$1.apply(DAGScheduler.scala:1877)\n",
      "\tat org.apache.spark.scheduler.DAGScheduler$$anonfun$abortStage$1.apply(DAGScheduler.scala:1876)\n",
      "\tat scala.collection.mutable.ResizableArray$class.foreach(ResizableArray.scala:59)\n",
      "\tat scala.collection.mutable.ArrayBuffer.foreach(ArrayBuffer.scala:48)\n",
      "\tat org.apache.spark.scheduler.DAGScheduler.abortStage(DAGScheduler.scala:1876)\n",
      "\tat org.apache.spark.scheduler.DAGScheduler$$anonfun$handleTaskSetFailed$1.apply(DAGScheduler.scala:926)\n",
      "\tat org.apache.spark.scheduler.DAGScheduler$$anonfun$handleTaskSetFailed$1.apply(DAGScheduler.scala:926)\n",
      "\tat scala.Option.foreach(Option.scala:257)\n",
      "\tat org.apache.spark.scheduler.DAGScheduler.handleTaskSetFailed(DAGScheduler.scala:926)\n",
      "\tat org.apache.spark.scheduler.DAGSchedulerEventProcessLoop.doOnReceive(DAGScheduler.scala:2110)\n",
      "\tat org.apache.spark.scheduler.DAGSchedulerEventProcessLoop.onReceive(DAGScheduler.scala:2059)\n",
      "\tat org.apache.spark.scheduler.DAGSchedulerEventProcessLoop.onReceive(DAGScheduler.scala:2048)\n",
      "\tat org.apache.spark.util.EventLoop$$anon$1.run(EventLoop.scala:49)\n",
      "\tat org.apache.spark.scheduler.DAGScheduler.runJob(DAGScheduler.scala:737)\n",
      "\tat org.apache.spark.SparkContext.runJob(SparkContext.scala:2061)\n",
      "\tat org.apache.spark.SparkContext.runJob(SparkContext.scala:2082)\n",
      "\tat org.apache.spark.SparkContext.runJob(SparkContext.scala:2101)\n",
      "\tat org.apache.spark.SparkContext.runJob(SparkContext.scala:2126)\n",
      "\tat org.apache.spark.rdd.RDD$$anonfun$collect$1.apply(RDD.scala:945)\n",
      "\tat org.apache.spark.rdd.RDDOperationScope$.withScope(RDDOperationScope.scala:151)\n",
      "\tat org.apache.spark.rdd.RDDOperationScope$.withScope(RDDOperationScope.scala:112)\n",
      "\tat org.apache.spark.rdd.RDD.withScope(RDD.scala:363)\n",
      "\tat org.apache.spark.rdd.RDD.collect(RDD.scala:944)\n",
      "\tat org.apache.spark.RangePartitioner$.sketch(Partitioner.scala:309)\n",
      "\tat org.apache.spark.RangePartitioner.<init>(Partitioner.scala:171)\n",
      "\tat org.apache.spark.RangePartitioner.<init>(Partitioner.scala:151)\n",
      "\tat org.apache.spark.rdd.OrderedRDDFunctions$$anonfun$sortByKey$1.apply(OrderedRDDFunctions.scala:62)\n",
      "\tat org.apache.spark.rdd.OrderedRDDFunctions$$anonfun$sortByKey$1.apply(OrderedRDDFunctions.scala:61)\n",
      "\tat org.apache.spark.rdd.RDDOperationScope$.withScope(RDDOperationScope.scala:151)\n",
      "\tat org.apache.spark.rdd.RDDOperationScope$.withScope(RDDOperationScope.scala:112)\n",
      "\tat org.apache.spark.rdd.RDD.withScope(RDD.scala:363)\n",
      "\tat org.apache.spark.rdd.OrderedRDDFunctions.sortByKey(OrderedRDDFunctions.scala:61)\n",
      "\tat org.apache.spark.mllib.evaluation.BinaryClassificationMetrics.x$4$lzycompute(BinaryClassificationMetrics.scala:155)\n",
      "\tat org.apache.spark.mllib.evaluation.BinaryClassificationMetrics.x$4(BinaryClassificationMetrics.scala:146)\n",
      "\tat org.apache.spark.mllib.evaluation.BinaryClassificationMetrics.confusions$lzycompute(BinaryClassificationMetrics.scala:148)\n",
      "\tat org.apache.spark.mllib.evaluation.BinaryClassificationMetrics.confusions(BinaryClassificationMetrics.scala:148)\n",
      "\tat org.apache.spark.mllib.evaluation.BinaryClassificationMetrics.createCurve(BinaryClassificationMetrics.scala:223)\n",
      "\tat org.apache.spark.mllib.evaluation.BinaryClassificationMetrics.roc(BinaryClassificationMetrics.scala:86)\n",
      "\tat org.apache.spark.mllib.evaluation.BinaryClassificationMetrics.areaUnderROC(BinaryClassificationMetrics.scala:97)\n",
      "\tat org.apache.spark.ml.evaluation.BinaryClassificationEvaluator.evaluate(BinaryClassificationEvaluator.scala:87)\n",
      "\tat sun.reflect.NativeMethodAccessorImpl.invoke0(Native Method)\n",
      "\tat sun.reflect.NativeMethodAccessorImpl.invoke(NativeMethodAccessorImpl.java:62)\n",
      "\tat sun.reflect.DelegatingMethodAccessorImpl.invoke(DelegatingMethodAccessorImpl.java:43)\n",
      "\tat java.lang.reflect.Method.invoke(Method.java:497)\n",
      "\tat py4j.reflection.MethodInvoker.invoke(MethodInvoker.java:244)\n",
      "\tat py4j.reflection.ReflectionEngine.invoke(ReflectionEngine.java:357)\n",
      "\tat py4j.Gateway.invoke(Gateway.java:282)\n",
      "\tat py4j.commands.AbstractCommand.invokeMethod(AbstractCommand.java:132)\n",
      "\tat py4j.commands.CallCommand.execute(CallCommand.java:79)\n",
      "\tat py4j.GatewayConnection.run(GatewayConnection.java:238)\n",
      "\tat java.lang.Thread.run(Thread.java:745)\n",
      "Caused by: java.lang.ArrayIndexOutOfBoundsException: 1\n",
      "\tat org.apache.spark.ml.linalg.DenseVector.apply(Vectors.scala:462)\n",
      "\tat org.apache.spark.ml.evaluation.BinaryClassificationEvaluator$$anonfun$1.apply(BinaryClassificationEvaluator.scala:82)\n",
      "\tat org.apache.spark.ml.evaluation.BinaryClassificationEvaluator$$anonfun$1.apply(BinaryClassificationEvaluator.scala:81)\n",
      "\tat scala.collection.Iterator$$anon$11.next(Iterator.scala:410)\n",
      "\tat org.apache.spark.util.collection.ExternalSorter.insertAll(ExternalSorter.scala:193)\n",
      "\tat org.apache.spark.shuffle.sort.SortShuffleWriter.write(SortShuffleWriter.scala:62)\n",
      "\tat org.apache.spark.scheduler.ShuffleMapTask.runTask(ShuffleMapTask.scala:99)\n",
      "\tat org.apache.spark.scheduler.ShuffleMapTask.runTask(ShuffleMapTask.scala:55)\n",
      "\tat org.apache.spark.scheduler.Task.run(Task.scala:121)\n",
      "\tat org.apache.spark.executor.Executor$TaskRunner$$anonfun$10.apply(Executor.scala:408)\n",
      "\tat org.apache.spark.util.Utils$.tryWithSafeFinally(Utils.scala:1360)\n",
      "\tat org.apache.spark.executor.Executor$TaskRunner.run(Executor.scala:414)\n",
      "\tat java.util.concurrent.ThreadPoolExecutor.runWorker(ThreadPoolExecutor.java:1142)\n",
      "\tat java.util.concurrent.ThreadPoolExecutor$Worker.run(ThreadPoolExecutor.java:617)\n",
      "\t... 1 more\n",
      "\n"
     ]
    }
   ],
   "source": [
    "\n",
    "AUC_evaluator.evaluate(train_predictions)"
   ]
  },
  {
   "cell_type": "code",
   "execution_count": 0,
   "metadata": {
    "colab": {},
    "colab_type": "code",
    "id": "rF6kyBMoEqdX"
   },
   "outputs": [],
   "source": []
  }
 ],
 "metadata": {
  "colab": {
   "collapsed_sections": [],
   "name": "Presentation_Notebook.ipynb",
   "provenance": [],
   "version": "0.3.2"
  },
  "kernelspec": {
   "display_name": "Python 3",
   "language": "python",
   "name": "python3"
  },
  "language_info": {
   "codemirror_mode": {
    "name": "ipython",
    "version": 3
   },
   "file_extension": ".py",
   "mimetype": "text/x-python",
   "name": "python",
   "nbconvert_exporter": "python",
   "pygments_lexer": "ipython3",
   "version": "3.7.3"
  }
 },
 "nbformat": 4,
 "nbformat_minor": 1
}
