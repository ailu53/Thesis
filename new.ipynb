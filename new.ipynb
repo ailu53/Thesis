{
 "cells": [
  {
   "cell_type": "markdown",
   "metadata": {},
   "source": [
    " # <span style = 'color:darkred'> Notebook structure </span style>\n"
   ]
  },
  {
   "cell_type": "markdown",
   "metadata": {},
   "source": [
    "<a href=#imports> Imports & settings </a>\n",
    "<a href=#read_in> Reading in all tweets </a>\n",
    "<a href=#time_distr> Distribution over time </a>\n",
    "<a href=#filter> Filter for relevant tweets </a>"
   ]
  },
  {
   "cell_type": "markdown",
   "metadata": {},
   "source": [
    "    # <span style = 'color:darkred'> Imports & notebook settings </span style> <a name='imports' />\n"
   ]
  },
  {
   "cell_type": "code",
   "execution_count": 4,
   "metadata": {},
   "outputs": [],
   "source": [
    "from IPython.core.display import display, HTML\n"
   ]
  },
  {
   "cell_type": "code",
   "execution_count": 6,
   "metadata": {},
   "outputs": [],
   "source": [
    "# Python imports\n",
    "%matplotlib inline\n",
    "import matplotlib.pyplot as plt\n",
    "from matplotlib.dates import YearLocator, DateFormatter, MonthLocator\n",
    "import glob\n",
    "import numpy as np\n",
    "import pandas as pd\n",
    "# Spark imports\n",
    "from pyspark.sql.functions import udf, year, month, dayofmonth, explode, lower, regexp_extract, split, upper\n",
    "from pyspark.sql.types import *\n",
    "import time\n",
    "import datetime"
   ]
  },
  {
   "cell_type": "code",
   "execution_count": 8,
   "metadata": {},
   "outputs": [
    {
     "ename": "SyntaxError",
     "evalue": "unexpected character after line continuation character (<ipython-input-8-348abd9ef2c6>, line 1)",
     "output_type": "error",
     "traceback": [
      "\u001b[0;36m  File \u001b[0;32m\"<ipython-input-8-348abd9ef2c6>\"\u001b[0;36m, line \u001b[0;32m1\u001b[0m\n\u001b[0;31m    colors = {\\\"orange\\\": np.array([255,128,14], dtype = np.float16),\u001b[0m\n\u001b[0m                                                                     ^\u001b[0m\n\u001b[0;31mSyntaxError\u001b[0m\u001b[0;31m:\u001b[0m unexpected character after line continuation character\n"
     ]
    }
   ],
   "source": [
    "colors = {\\\"orange\\\": np.array([255,128,14], dtype = np.float16),\n",
    "          \\\"blue\\\": np.array([0,107,164], dtype = np.float16),\n",
    "          \\\"green\\\": np.array([44, 160, 44], dtype = np.float16)\n",
    "         }\n",
    "for k in colors.keys():\n",
    "    colors[k] = np.divide(colors[k], 255)"
   ]
  },
  {
   "cell_type": "markdown",
   "metadata": {},
   "source": [
    "# <span style = 'color:darkred'> Reading in tweets </span style> <a name='read_in'/>"
   ]
  },
  {
   "cell_type": "code",
   "execution_count": 9,
   "metadata": {},
   "outputs": [
    {
     "ename": "IndentationError",
     "evalue": "unexpected indent (<ipython-input-9-555198b2cf18>, line 2)",
     "output_type": "error",
     "traceback": [
      "\u001b[0;36m  File \u001b[0;32m\"<ipython-input-9-555198b2cf18>\"\u001b[0;36m, line \u001b[0;32m2\u001b[0m\n\u001b[0;31m    path = \\\"tweets_ipo_201*_parquet/201*-*\\\"\u001b[0m\n\u001b[0m    ^\u001b[0m\n\u001b[0;31mIndentationError\u001b[0m\u001b[0;31m:\u001b[0m unexpected indent\n"
     ]
    }
   ],
   "source": [
    "# Hadoop file path\\n\",\n",
    "    path = \\\"tweets_ipo_201*_parquet/201*-*\\\"\n",
    "    df = (spark.read.parquet(path)\n",
    "         )\n",
    "    original_columns = df.columns\n",
    "    df = (df.withColumnRenamed(\\\"id_str\\\", \\\"tweet_id_str\\\") #rename to avoid confusion with user_id, retweet_id, ...\n",
    "            .withColumn(\\\"user_id_str\\\", df.user.id_str)\n",
    "        )\n",
    "    print \\\"The original columns were: {}\\\".format(original_columns)\""
   ]
  },
  {
   "cell_type": "markdown",
   "metadata": {},
   "source": [
    "# <span style = 'color:darkred'> Distribution over time </span style> <a name='time_distr'/>"
   ]
  },
  {
   "cell_type": "code",
   "execution_count": null,
   "metadata": {},
   "outputs": [],
   "source": [
    "# user defined function to strip date from created_at field, which originally is a string representation of datetime\n",
    "    udf_strip_pattern = udf(lambda string: (datetime.datetime.strptime(string, \\\"%a %b %d %H:%M:%S +0000 %Y\\\")).date(), DateType())\n",
    "    # create dataframe containing only a data per tweet\n",
    "    tweetcount_per_date = df.select(udf_strip_pattern(\\\"created_at\\\").alias(\\\"date\\\")).groupBy(\\\"date\\\").count()\n",
    "    # cast dataframe to pandas for plotting\n",
    "    counts_pandas = tweetcount_per_date.toPandas()\n",
    "    # insert missing dates with a count equal to 0 to have them appearing in the plot as well\n",
    "    first_date = min(counts_pandas[\\\"date\\\"])\n",
    "    last_date = max(counts_pandas[\\\"date\\\"])\n",
    "    print \\\"The data ranges from {} until {}\\\".format(first_date, last_date)\n",
    "    dates_list = counts_pandas[\\\"date\\\"].tolist()\n",
    "    missing_dates_and_counts = []\\n\",\n",
    "    for i in dates_list:\\n\",\n",
    "        if i < last_date and i + datetime.timedelta(days = 1) not in dates_list:\n",
    "            #print \\\"Missing date: {}\\\".format(i + datetime.timedelta(days = 1 ))\n",
    "            dates_list.append(i + datetime.timedelta(days = 1))\n",
    "            missing_dates_and_counts.append([i + datetime.timedelta(days = 1 ), 0])\n",
    "    print \\\"There are {} missing dates\\\".format(len(missing_dates_and_counts))\n",
    "    missing_pandas = pd.DataFrame(missing_dates_and_counts, columns = [\\\"date\\\", \\\"count\\\"])\n",
    "    # concatenate available and missing data to one pandas dataframe for plotting\n",
    "    full_counts_per_date = pd.concat([counts_pandas, missing_pandas], axis = 0).reset_index(drop = True).sort_values(\\\"date\\\", ascending = True)"
   ]
  },
  {
   "cell_type": "code",
   "execution_count": 13,
   "metadata": {},
   "outputs": [
    {
     "ename": "SyntaxError",
     "evalue": "unexpected character after line continuation character (<ipython-input-13-dcf921c6d979>, line 5)",
     "output_type": "error",
     "traceback": [
      "\u001b[0;36m  File \u001b[0;32m\"<ipython-input-13-dcf921c6d979>\"\u001b[0;36m, line \u001b[0;32m5\u001b[0m\n\u001b[0;31m    plt.hlines(y = 1000000, xmin = first_date, xmax = last_date, linestyles = \\\"dashed\\\", color = colors[\\\"orange\\\"]),\u001b[0m\n\u001b[0m                                                                                                                      ^\u001b[0m\n\u001b[0;31mSyntaxError\u001b[0m\u001b[0;31m:\u001b[0m unexpected character after line continuation character\n"
     ]
    }
   ],
   "source": [
    "# plot tweet_count per date\n",
    "fig = plt.figure(figsize = (30,7))\n",
    "ax = fig.add_subplot(111)\n",
    "ax.xaxis.set_minor_locator(MonthLocator())\n",
    "plt.hlines(y = 1000000, xmin = first_date, xmax = last_date, linestyles = \\\"dashed\\\", color = colors[\\\"orange\\\"])\n",
    "plt.title(\\\"Tweets per day\\\")\n",
    "plt.plot(full_counts_per_date[\\\"date\\\"], full_counts_per_date[\\\"count\\\"], \\\".\\\", color = colors[\\\"blue\\\"])"
   ]
  },
  {
   "cell_type": "markdown",
   "metadata": {},
   "source": [
    "# <span style = 'color:darkred'> Filter for relevant tweets, i.e. related to IPOs </span style> <a name='filter'/>"
   ]
  },
  {
   "cell_type": "code",
   "execution_count": 14,
   "metadata": {},
   "outputs": [
    {
     "ename": "SyntaxError",
     "evalue": "unexpected character after line continuation character (<ipython-input-14-22b82a93fa21>, line 1)",
     "output_type": "error",
     "traceback": [
      "\u001b[0;36m  File \u001b[0;32m\"<ipython-input-14-22b82a93fa21>\"\u001b[0;36m, line \u001b[0;32m1\u001b[0m\n\u001b[0;31m    with open(\\\"company_names.txt\\\", \\\"r\\\") as f:\u001b[0m\n\u001b[0m                                                 ^\u001b[0m\n\u001b[0;31mSyntaxError\u001b[0m\u001b[0;31m:\u001b[0m unexpected character after line continuation character\n"
     ]
    }
   ],
   "source": [
    "   with open(\\\"company_names.txt\\\", \\\"r\\\") as f:\n",
    "        companies_list = f.readlines()\n",
    "        companies_list = map(lambda x: x.replace(\\\"\\\\n\\\", \\\"\\\").lower(), companies_list)"
   ]
  },
  {
   "cell_type": "code",
   "execution_count": 15,
   "metadata": {},
   "outputs": [
    {
     "ename": "SyntaxError",
     "evalue": "unexpected character after line continuation character (<ipython-input-15-3edb299147d7>, line 5)",
     "output_type": "error",
     "traceback": [
      "\u001b[0;36m  File \u001b[0;32m\"<ipython-input-15-3edb299147d7>\"\u001b[0;36m, line \u001b[0;32m5\u001b[0m\n\u001b[0;31m    if i in text_column.replace(\\\" \\\", \\\"\\\"):\u001b[0m\n\u001b[0m                                             ^\u001b[0m\n\u001b[0;31mSyntaxError\u001b[0m\u001b[0;31m:\u001b[0m unexpected character after line continuation character\n"
     ]
    }
   ],
   "source": [
    "    def contains_company_name(text_column):\n",
    "        company_mentions = 0\n",
    "        for i in companies_list:\n",
    "            # strip spaces out of tweets\n",
    "            if i in text_column.replace(\\\" \\\", \\\"\\\"):\n",
    "                company_mentions += 1\n",
    "        return company_mentions\n",
    "    udf_contains_company_name = udf(contains_company_name, \n",
    "                                    IntegerType())"
   ]
  },
  {
   "cell_type": "code",
   "execution_count": null,
   "metadata": {},
   "outputs": [],
   "source": [
    "    # returns 0 if column is empty (no regexp match found), 1 otherwise (at least one regexp match found)\n",
    "    def non_empty_column(ipo_cashtag_column):\n",
    "        if len(ipo_cashtag_column) > 0:\n",
    "            return 1\n",
    "        else:\n",
    "            return 0\n",
    "    non_empty_column_udf = udf(non_empty_column)\n",
    "    # REGEX to extract tickers or presence of IPO\n",
    "    ashtag_expression = '\\\\$[a-z]{1,6}'\n",
    "    ipo_expression = ' #ipo | ipo '\n",
    "    augmented_df = (df.select(\\\"tweet_id_str\\\", \\\"text\\\", lower(df.text).alias(\\\"text_lower\\\"))\n",
    "                      .select(\\\"*\\\", \n",
    "                               non_empty_column_udf(regexp_extract('text_lower', ipo_expression, 0)).alias(\\\"contains_ipo\\\"),\n",
    "                               non_empty_column_udf(regexp_extract('text_lower', cashtag_expression, 0)).alias(\\\"contains_cashtag\\\"),\n",
    "                               udf_contains_company_name(\\\"text_lower\\\").alias(\\\"contains_company_name\\\")\n",
    "                              )\n",
    "                   )\n",
    "    filtered_df = augmented_df.filter((augmented_df.contains_ipo == 1) | \n",
    "                                      (augmented_df.contains_cashtag == 1) | \n",
    "                                      (augmented_df.contains_company_name == 1)\n",
    "                                     )"
   ]
  },
  {
   "cell_type": "code",
   "execution_count": 16,
   "metadata": {},
   "outputs": [
    {
     "ename": "SyntaxError",
     "evalue": "unexpected character after line continuation character (<ipython-input-16-184aec518a8c>, line 1)",
     "output_type": "error",
     "traceback": [
      "\u001b[0;36m  File \u001b[0;32m\"<ipython-input-16-184aec518a8c>\"\u001b[0;36m, line \u001b[0;32m1\u001b[0m\n\u001b[0;31m    filtered_augmented_df.drop(\\\"text_lower\\\").take(50)\u001b[0m\n\u001b[0m                                                       ^\u001b[0m\n\u001b[0;31mSyntaxError\u001b[0m\u001b[0;31m:\u001b[0m unexpected character after line continuation character\n"
     ]
    }
   ],
   "source": [
    "    filtered_augmented_df.drop(\\\"text_lower\\\").take(50)"
   ]
  },
  {
   "cell_type": "code",
   "execution_count": 17,
   "metadata": {},
   "outputs": [
    {
     "ename": "SyntaxError",
     "evalue": "unexpected character after line continuation character (<ipython-input-17-c0f2f908a259>, line 1)",
     "output_type": "error",
     "traceback": [
      "\u001b[0;36m  File \u001b[0;32m\"<ipython-input-17-c0f2f908a259>\"\u001b[0;36m, line \u001b[0;32m1\u001b[0m\n\u001b[0;31m    filtered_augmented_df.select(\\\"tweet_id_str\\\").repartition(14*14).write.parquet(\\\"final_filter_batch.parquet\\\", mode = \\\"overwrite\\\")\u001b[0m\n\u001b[0m                                                                                                                                         ^\u001b[0m\n\u001b[0;31mSyntaxError\u001b[0m\u001b[0;31m:\u001b[0m unexpected character after line continuation character\n"
     ]
    }
   ],
   "source": [
    "  filtered_augmented_df.select(\\\"tweet_id_str\\\").repartition(14*14).write.parquet(\\\"final_filter_batch.parquet\\\", mode = \\\"overwrite\\\")"
   ]
  },
  {
   "cell_type": "code",
   "execution_count": 18,
   "metadata": {},
   "outputs": [
    {
     "ename": "SyntaxError",
     "evalue": "unexpected character after line continuation character (<ipython-input-18-2c21e1bddf42>, line 1)",
     "output_type": "error",
     "traceback": [
      "\u001b[0;36m  File \u001b[0;32m\"<ipython-input-18-2c21e1bddf42>\"\u001b[0;36m, line \u001b[0;32m1\u001b[0m\n\u001b[0;31m    with open(\\\"company_names.txt\\\", \\\"r\\\") as f:\u001b[0m\n\u001b[0m                                                 ^\u001b[0m\n\u001b[0;31mSyntaxError\u001b[0m\u001b[0;31m:\u001b[0m unexpected character after line continuation character\n"
     ]
    }
   ],
   "source": [
    "    with open(\\\"company_names.txt\\\", \\\"r\\\") as f:\n",
    "        companies_list = f.readlines()\n",
    "        companies_list = map(lambda x: x.replace(\\\"\\\\n\\\", \\\"\\\").lower(), companies_list)"
   ]
  },
  {
   "cell_type": "code",
   "execution_count": 19,
   "metadata": {},
   "outputs": [
    {
     "ename": "SyntaxError",
     "evalue": "unexpected character after line continuation character (<ipython-input-19-93c17f1b2b3f>, line 5)",
     "output_type": "error",
     "traceback": [
      "\u001b[0;36m  File \u001b[0;32m\"<ipython-input-19-93c17f1b2b3f>\"\u001b[0;36m, line \u001b[0;32m5\u001b[0m\n\u001b[0;31m    if i in text_column.replace(\\\" \\\", \\\"\\\"):\u001b[0m\n\u001b[0m                                             ^\u001b[0m\n\u001b[0;31mSyntaxError\u001b[0m\u001b[0;31m:\u001b[0m unexpected character after line continuation character\n"
     ]
    }
   ],
   "source": [
    "    def contains_company_name(text_column):\n",
    "        company_mentions = 0\n",
    "        for i in companies_list:\n",
    "            # strip spaces out of tweets\n",
    "           if i in text_column.replace(\\\" \\\", \\\"\\\"):\n",
    "                company_mentions += 1\n",
    "        return company_mentions\n",
    "    udf_contains_company_name = udf(contains_company_name, \n",
    "                                    IntegerType())"
   ]
  },
  {
   "cell_type": "code",
   "execution_count": null,
   "metadata": {},
   "outputs": [],
   "source": [
    "   # returns 0 if column is empty (no regexp match found), 1 otherwise (at least one regexp match found)\n",
    "    def non_empty_column(ipo_cashtag_column):\n",
    "        if len(ipo_cashtag_column) > 0:\n",
    "            return 1\n",
    "        else:\n",
    "            return 0\n",
    "    non_empty_column_udf = udf(non_empty_column)\n",
    "    # REGEX to extract tickers or presence of IPO\n",
    "    ashtag_expression = '\\\\$[a-z]{1,6}'\n",
    "    ipo_expression = ' #ipo | ipo '\n",
    "    augmented_df = (df.select(\\\"tweet_id_str\\\", \\\"text\\\", lower(df.text).alias(\\\"text_lower\\\"))\n",
    "                      .select(\\\"*\\\",\n",
    "                               non_empty_column_udf(regexp_extract('text_lower', ipo_expression, 0)).alias(\\\"contains_ipo\\\"),\n",
    "                               non_empty_column_udf(regexp_extract('text_lower', cashtag_expression, 0)).alias(\\\"contains_cashtag\\\"),\n",
    "                               udf_contains_company_name(\\\"text_lower\\\").alias(\\\"contains_company_name\\\")\n",
    "                             )\n",
    "                  )\n",
    "    filtered_df = augmented_df.filter((augmented_df.contains_ipo == 1) | \n",
    "                                      (augmented_df.contains_cashtag == 1) | \n",
    "                                      (augmented_df.contains_company_name == 1)\n",
    "                                     )"
   ]
  },
  {
   "cell_type": "code",
   "execution_count": 20,
   "metadata": {},
   "outputs": [
    {
     "ename": "SyntaxError",
     "evalue": "unexpected character after line continuation character (<ipython-input-20-184aec518a8c>, line 1)",
     "output_type": "error",
     "traceback": [
      "\u001b[0;36m  File \u001b[0;32m\"<ipython-input-20-184aec518a8c>\"\u001b[0;36m, line \u001b[0;32m1\u001b[0m\n\u001b[0;31m    filtered_augmented_df.drop(\\\"text_lower\\\").take(50)\u001b[0m\n\u001b[0m                                                       ^\u001b[0m\n\u001b[0;31mSyntaxError\u001b[0m\u001b[0;31m:\u001b[0m unexpected character after line continuation character\n"
     ]
    }
   ],
   "source": [
    "    filtered_augmented_df.drop(\\\"text_lower\\\").take(50)"
   ]
  },
  {
   "cell_type": "code",
   "execution_count": 21,
   "metadata": {},
   "outputs": [
    {
     "ename": "SyntaxError",
     "evalue": "unexpected character after line continuation character (<ipython-input-21-c0f2f908a259>, line 1)",
     "output_type": "error",
     "traceback": [
      "\u001b[0;36m  File \u001b[0;32m\"<ipython-input-21-c0f2f908a259>\"\u001b[0;36m, line \u001b[0;32m1\u001b[0m\n\u001b[0;31m    filtered_augmented_df.select(\\\"tweet_id_str\\\").repartition(14*14).write.parquet(\\\"final_filter_batch.parquet\\\", mode = \\\"overwrite\\\")\u001b[0m\n\u001b[0m                                                                                                                                         ^\u001b[0m\n\u001b[0;31mSyntaxError\u001b[0m\u001b[0;31m:\u001b[0m unexpected character after line continuation character\n"
     ]
    }
   ],
   "source": [
    " filtered_augmented_df.select(\\\"tweet_id_str\\\").repartition(14*14).write.parquet(\\\"final_filter_batch.parquet\\\", mode = \\\"overwrite\\\")"
   ]
  },
  {
   "cell_type": "code",
   "execution_count": null,
   "metadata": {},
   "outputs": [],
   "source": []
  }
 ],
 "metadata": {
  "kernelspec": {
   "display_name": "Python 3",
   "language": "python",
   "name": "python3"
  },
  "language_info": {
   "codemirror_mode": {
    "name": "ipython",
    "version": 3
   },
   "file_extension": ".py",
   "mimetype": "text/x-python",
   "name": "python",
   "nbconvert_exporter": "python",
   "pygments_lexer": "ipython3",
   "version": "3.7.3"
  }
 },
 "nbformat": 4,
 "nbformat_minor": 2
}
