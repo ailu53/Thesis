{
 "cells": [
  {
   "cell_type": "markdown",
   "metadata": {
    "deletable": true,
    "editable": true
   },
   "source": [
    "# <span style = 'color:darkred'> Notebook structure </span style>"
   ]
  },
  {
   "cell_type": "markdown",
   "metadata": {
    "deletable": true,
    "editable": true
   },
   "source": [
    "- ### <a href=#imports> Imports & settings </a>\n",
    "- ### <a href=#read_in> Reading in all tweets </a>\n",
    "- ### <a href=#time_distr> Distribution over time </a>\n",
    "- ### <a href=#filter> Filter for relevant tweets </a>"
   ]
  },
  {
   "cell_type": "markdown",
   "metadata": {
    "deletable": true,
    "editable": true
   },
   "source": [
    "# <span style = 'color:darkred'> Imports & notebook settings </span style> <a name='imports' />"
   ]
  },
  {
   "cell_type": "code",
   "execution_count": 1,
   "metadata": {
    "collapsed": false,
    "deletable": true,
    "editable": true
   },
   "outputs": [
    {
     "data": {
      "text/html": [
       "<style>.container { width:100% !important; }</style>"
      ],
      "text/plain": [
       "<IPython.core.display.HTML object>"
      ]
     },
     "metadata": {},
     "output_type": "display_data"
    }
   ],
   "source": [
    "from IPython.core.display import display, HTML\n",
    "display(HTML(\"<style>.container { width:100% !important; }</style>\"))"
   ]
  },
  {
   "cell_type": "code",
   "execution_count": 8,
   "metadata": {
    "collapsed": false,
    "deletable": true,
    "editable": true,
    "scrolled": true
   },
   "outputs": [
    {
     "data": {
      "text/html": [
       "<style>.container { width:100% !important; }</style>"
      ],
      "text/plain": [
       "<IPython.core.display.HTML object>"
      ]
     },
     "metadata": {},
     "output_type": "display_data"
    },
    {
     "data": {
      "text/plain": [
       "<pyspark.sql.session.SparkSession at 0x7fcb5ea045d0>"
      ]
     },
     "execution_count": 8,
     "metadata": {},
     "output_type": "execute_result"
    }
   ],
   "source": [
    "# Python imports\n",
    "%matplotlib inline\n",
    "import matplotlib.pyplot as plt\n",
    "from matplotlib.dates import YearLocator, DateFormatter, MonthLocator\n",
    "import glob\n",
    "import numpy as np\n",
    "\n",
    "import pandas as pd\n",
    "\n",
    "# Spark imports\n",
    "from pyspark.sql.functions import udf, year, month, dayofmonth, explode, lower, regexp_extract, split, upper\n",
    "from pyspark.sql.types import *\n",
    "import time\n",
    "import datetime\n",
    "\n",
    "spark"
   ]
  },
  {
   "cell_type": "code",
   "execution_count": 21,
   "metadata": {
    "collapsed": false,
    "deletable": true,
    "editable": true
   },
   "outputs": [],
   "source": [
    "colors = {\"orange\": np.array([255,128,14], dtype = np.float16),\n",
    "          \"blue\": np.array([0,107,164], dtype = np.float16),\n",
    "          \"green\": np.array([44, 160, 44], dtype = np.float16)\n",
    "         }\n",
    "\n",
    "for k in colors.keys():\n",
    "    colors[k] = np.divide(colors[k], 255)"
   ]
  },
  {
   "cell_type": "markdown",
   "metadata": {
    "deletable": true,
    "editable": true
   },
   "source": [
    "# <span style = 'color:darkred'> Reading in tweets </span style> <a name='read_in'/>"
   ]
  },
  {
   "cell_type": "code",
   "execution_count": 1,
   "metadata": {
    "collapsed": false,
    "deletable": true,
    "editable": true
   },
   "outputs": [
    {
     "name": "stdout",
     "output_type": "stream",
     "text": [
      "The original columns were: ['contributors', 'coordinates', 'created_at', 'entities', 'extended_entities', 'favorite_count', 'favorited', 'filter_level', 'geo', 'id', 'id_str', 'in_reply_to_screen_name', 'in_reply_to_status_id', 'in_reply_to_status_id_str', 'in_reply_to_user_id', 'in_reply_to_user_id_str', 'is_quote_status', 'lang', 'place', 'possibly_sensitive', 'quoted_status', 'quoted_status_id', 'quoted_status_id_str', 'retweet_count', 'retweeted', 'retweeted_status', 'scopes', 'source', 'text', 'timestamp_ms', 'truncated', 'user', 'withheld_in_countries']\n"
     ]
    }
   ],
   "source": [
    "# Hadoop file path\n",
    "path = \"tweets_ipo_201*_parquet/201*-*\"\n",
    "\n",
    "df = (spark.read.parquet(path) \n",
    "     )\n",
    "\n",
    "original_columns = df.columns\n",
    "\n",
    "df = (df.withColumnRenamed(\"id_str\", \"tweet_id_str\") #rename to avoid confusion with user_id, retweet_id, ...\n",
    "        .withColumn(\"user_id_str\", df.user.id_str) \n",
    "    )\n",
    "\n",
    "print \"The original columns were: {}\".format(original_columns)"
   ]
  },
  {
   "cell_type": "markdown",
   "metadata": {
    "deletable": true,
    "editable": true
   },
   "source": [
    "# <span style = 'color:darkred'> Distribution over time </span style> <a name='time_distr'/>"
   ]
  },
  {
   "cell_type": "code",
   "execution_count": 10,
   "metadata": {
    "collapsed": false,
    "deletable": true,
    "editable": true
   },
   "outputs": [
    {
     "name": "stdout",
     "output_type": "stream",
     "text": [
      "The data ranges from 2016-03-30 until 2017-03-25\n",
      "There are 39 missing dates\n"
     ]
    }
   ],
   "source": [
    "# user defined function to strip date from created_at field, which originally is a string representation of datetime\n",
    "udf_strip_pattern = udf(lambda string: (datetime.datetime.strptime(string, \"%a %b %d %H:%M:%S +0000 %Y\")).date(), DateType())\n",
    "\n",
    "# create dataframe containing only a data per tweet\n",
    "tweetcount_per_date = df.select(udf_strip_pattern(\"created_at\").alias(\"date\")).groupBy(\"date\").count()\n",
    "\n",
    "# cast dataframe to pandas for plotting\n",
    "counts_pandas = tweetcount_per_date.toPandas()\n",
    "\n",
    "# insert missing dates with a count equal to 0 to have them appearing in the plot as well\n",
    "first_date = min(counts_pandas[\"date\"])\n",
    "last_date = max(counts_pandas[\"date\"])\n",
    "print \"The data ranges from {} until {}\".format(first_date, last_date)\n",
    "dates_list = counts_pandas[\"date\"].tolist()\n",
    "missing_dates_and_counts = []\n",
    "for i in dates_list:\n",
    "    if i < last_date and i + datetime.timedelta(days = 1) not in dates_list:\n",
    "        #print \"Missing date: {}\".format(i + datetime.timedelta(days = 1 ))\n",
    "        dates_list.append(i + datetime.timedelta(days = 1))\n",
    "        missing_dates_and_counts.append([i + datetime.timedelta(days = 1 ), 0])\n",
    "print \"There are {} missing dates\".format(len(missing_dates_and_counts))\n",
    "missing_pandas = pd.DataFrame(missing_dates_and_counts, columns = [\"date\", \"count\"])\n",
    "\n",
    "# concatenate available and missing data to one pandas dataframe for plotting\n",
    "full_counts_per_date = pd.concat([counts_pandas, missing_pandas], axis = 0).reset_index(drop = True).sort_values(\"date\", ascending = True)"
   ]
  },
  {
   "cell_type": "code",
   "execution_count": 22,
   "metadata": {
    "collapsed": false,
    "deletable": true,
    "editable": true,
    "scrolled": true
   },
   "outputs": [
    {
     "data": {
      "text/plain": [
       "[<matplotlib.lines.Line2D at 0x7fcb4ff42190>]"
      ]
     },
     "execution_count": 22,
     "metadata": {},
     "output_type": "execute_result"
    },
    {
     "data": {
      "image/png": "iVBORw0KGgoAAAANSUhEUgAABs8AAAGrCAYAAACPJgnkAAAABHNCSVQICAgIfAhkiAAAAAlwSFlz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\nO1SluFZ0/wAAAABJRU5ErkJggg==\n",
      "text/plain": [
       "<matplotlib.figure.Figure at 0x7fcb4ffadd10>"
      ]
     },
     "metadata": {},
     "output_type": "display_data"
    }
   ],
   "source": [
    "# plot tweet_count per date\n",
    "fig = plt.figure(figsize = (30,7))\n",
    "ax = fig.add_subplot(111)\n",
    "ax.xaxis.set_minor_locator(MonthLocator())\n",
    "\n",
    "plt.hlines(y = 1000000, xmin = first_date, xmax = last_date, linestyles = \"dashed\", color = colors[\"orange\"])\n",
    "plt.title(\"Tweets per day\")\n",
    "plt.plot(full_counts_per_date[\"date\"], full_counts_per_date[\"count\"], \".\", color = colors[\"blue\"])"
   ]
  },
  {
   "cell_type": "markdown",
   "metadata": {
    "deletable": true,
    "editable": true
   },
   "source": [
    "# <span style = 'color:darkred'> {
 "cells": [
  {
   "cell_type": "markdown",
   "metadata": {
    "deletable": true,
    "editable": true
   },
   "source": [
    "# <span style = 'color:darkred'> Notebook structure </span style>"
   ]
  },
  {
   "cell_type": "markdown",
   "metadata": {
    "deletable": true,
    "editable": true
   },
   "source": [
    "- ### <a href=#imports> Imports & settings </a>\n",
    "- ### <a href=#read_in> Reading in all tweets </a>\n",
    "- ### <a href=#time_distr> Distribution over time </a>\n",
    "- ### <a href=#filter> Filter for relevant tweets </a>"
   ]
  },
  {
   "cell_type": "markdown",
   "metadata": {
    "deletable": true,
    "editable": true
   },
   "source": [
    "# <span style = 'color:darkred'> Imports & notebook settings </span style> <a name='imports' />"
   ]
  },
  {
   "cell_type": "code",
   "execution_count": 1,
   "metadata": {
    "collapsed": false,
    "deletable": true,
    "editable": true
   },
   "outputs": [
    {
     "data": {
      "text/html": [
       "<style>.container { width:100% !important; }</style>"
      ],
      "text/plain": [
       "<IPython.core.display.HTML object>"
      ]
     },
     "metadata": {},
     "output_type": "display_data"
    }
   ],
   "source": [
    "from IPython.core.display import display, HTML\n",
    "display(HTML(\"<style>.container { width:100% !important; }</style>\"))"
   ]
  },
  {
   "cell_type": "code",
   "execution_count": 8,
   "metadata": {
    "collapsed": false,
    "deletable": true,
    "editable": true,
    "scrolled": true
   },
   "outputs": [
    {
     "data": {
      "text/html": [
       "<style>.container { width:100% !important; }</style>"
      ],
      "text/plain": [
       "<IPython.core.display.HTML object>"
      ]
     },
     "metadata": {},
     "output_type": "display_data"
    },
    {
     "data": {
      "text/plain": [
       "<pyspark.sql.session.SparkSession at 0x7fcb5ea045d0>"
      ]
     },
     "execution_count": 8,
     "metadata": {},
     "output_type": "execute_result"
    }
   ],
   "source": [
    "# Python imports\n",
    "%matplotlib inline\n",
    "import matplotlib.pyplot as plt\n",
    "from matplotlib.dates import YearLocator, DateFormatter, MonthLocator\n",
    "import glob\n",
    "import numpy as np\n",
    "\n",
    "import pandas as pd\n",
    "\n",
    "# Spark imports\n",
    "from pyspark.sql.functions import udf, year, month, dayofmonth, explode, lower, regexp_extract, split, upper\n",
    "from pyspark.sql.types import *\n",
    "import time\n",
    "import datetime\n",
    "\n",
    "spark"
   ]
  },
  {
   "cell_type": "code",
   "execution_count": 21,
   "metadata": {
    "collapsed": false,
    "deletable": true,
    "editable": true
   },
   "outputs": [],
   "source": [
    "colors = {\"orange\": np.array([255,128,14], dtype = np.float16),\n",
    "          \"blue\": np.array([0,107,164], dtype = np.float16),\n",
    "          \"green\": np.array([44, 160, 44], dtype = np.float16)\n",
    "         }\n",
    "\n",
    "for k in colors.keys():\n",
    "    colors[k] = np.divide(colors[k], 255)"
   ]
  },
  {
   "cell_type": "markdown",
   "metadata": {
    "deletable": true,
    "editable": true
   },
   "source": [
    "# <span style = 'color:darkred'> Reading in tweets </span style> <a name='read_in'/>"
   ]
  },
  {
   "cell_type": "code",
   "execution_count": 1,
   "metadata": {
    "collapsed": false,
    "deletable": true,
    "editable": true
   },
   "outputs": [
    {
     "name": "stdout",
     "output_type": "stream",
     "text": [
      "The original columns were: ['contributors', 'coordinates', 'created_at', 'entities', 'extended_entities', 'favorite_count', 'favorited', 'filter_level', 'geo', 'id', 'id_str', 'in_reply_to_screen_name', 'in_reply_to_status_id', 'in_reply_to_status_id_str', 'in_reply_to_user_id', 'in_reply_to_user_id_str', 'is_quote_status', 'lang', 'place', 'possibly_sensitive', 'quoted_status', 'quoted_status_id', 'quoted_status_id_str', 'retweet_count', 'retweeted', 'retweeted_status', 'scopes', 'source', 'text', 'timestamp_ms', 'truncated', 'user', 'withheld_in_countries']\n"
     ]
    }
   ],
   "source": [
    "# Hadoop file path\n",
    "path = \"tweets_ipo_201*_parquet/201*-*\"\n",
    "\n",
    "df = (spark.read.parquet(path) \n",
    "     )\n",
    "\n",
    "original_columns = df.columns\n",
    "\n",
    "df = (df.withColumnRenamed(\"id_str\", \"tweet_id_str\") #rename to avoid confusion with user_id, retweet_id, ...\n",
    "        .withColumn(\"user_id_str\", df.user.id_str) \n",
    "    )\n",
    "\n",
    "print \"The original columns were: {}\".format(original_columns)"
   ]
  },
  {
   "cell_type": "markdown",
   "metadata": {
    "deletable": true,
    "editable": true
   },
   "source": [
    "# <span style = 'color:darkred'> Distribution over time </span style> <a name='time_distr'/>"
   ]
  },
  {
   "cell_type": "code",
   "execution_count": 10,
   "metadata": {
    "collapsed": false,
    "deletable": true,
    "editable": true
   },
   "outputs": [
    {
     "name": "stdout",
     "output_type": "stream",
     "text": [
      "The data ranges from 2016-03-30 until 2017-03-25\n",
      "There are 39 missing dates\n"
     ]
    }
   ],
   "source": [
    "# user defined function to strip date from created_at field, which originally is a string representation of datetime\n",
    "udf_strip_pattern = udf(lambda string: (datetime.datetime.strptime(string, \"%a %b %d %H:%M:%S +0000 %Y\")).date(), DateType())\n",
    "\n",
    "# create dataframe containing only a data per tweet\n",
    "tweetcount_per_date = df.select(udf_strip_pattern(\"created_at\").alias(\"date\")).groupBy(\"date\").count()\n",
    "\n",
    "# cast dataframe to pandas for plotting\n",
    "counts_pandas = tweetcount_per_date.toPandas()\n",
    "\n",
    "# insert missing dates with a count equal to 0 to have them appearing in the plot as well\n",
    "first_date = min(counts_pandas[\"date\"])\n",
    "last_date = max(counts_pandas[\"date\"])\n",
    "print \"The data ranges from {} until {}\".format(first_date, last_date)\n",
    "dates_list = counts_pandas[\"date\"].tolist()\n",
    "missing_dates_and_counts = []\n",
    "for i in dates_list:\n",
    "    if i < last_date and i + datetime.timedelta(days = 1) not in dates_list:\n",
    "        #print \"Missing date: {}\".format(i + datetime.timedelta(days = 1 ))\n",
    "        dates_list.append(i + datetime.timedelta(days = 1))\n",
    "        missing_dates_and_counts.append([i + datetime.timedelta(days = 1 ), 0])\n",
    "print \"There are {} missing dates\".format(len(missing_dates_and_counts))\n",
    "missing_pandas = pd.DataFrame(missing_dates_and_counts, columns = [\"date\", \"count\"])\n",
    "\n",
    "# concatenate available and missing data to one pandas dataframe for plotting\n",
    "full_counts_per_date = pd.concat([counts_pandas, missing_pandas], axis = 0).reset_index(drop = True).sort_values(\"date\", ascending = True)"
   ]
  },
  {
   "cell_type": "code",
   "execution_count": 22,
   "metadata": {
    "collapsed": false,
    "deletable": true,
    "editable": true,
    "scrolled": true
   },
   "outputs": [
    {
     "data": {
      "text/plain": [
       "[<matplotlib.lines.Line2D at 0x7fcb4ff42190>]"
      ]
     },
     "execution_count": 22,
     "metadata": {},
     "output_type": "execute_result"
    },
    {
     "data": {
      "image/png": "iVBORw0KGgoAAAANSUhEUgAABs8AAAGrCAYAAACPJgnkAAAABHNCSVQICAgIfAhkiAAAAAlwSFlz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\nO1SluFZ0/wAAAABJRU5ErkJggg==\n",
      "text/plain": [
       "<matplotlib.figure.Figure at 0x7fcb4ffadd10>"
      ]
     },
     "metadata": {},
     "output_type": "display_data"
    }
   ],
   "source": [
    "# plot tweet_count per date\n",
    "fig = plt.figure(figsize = (30,7))\n",
    "ax = fig.add_subplot(111)\n",
    "ax.xaxis.set_minor_locator(MonthLocator())\n",
    "\n",
    "plt.hlines(y = 1000000, xmin = first_date, xmax = last_date, linestyles = \"dashed\", color = colors[\"orange\"])\n",
    "plt.title(\"Tweets per day\")\n",
    "plt.plot(full_counts_per_date[\"date\"], full_counts_per_date[\"count\"], \".\", color = colors[\"blue\"])"
   ]
  },
  {
   "cell_type": "markdown",
   "metadata": {
    "deletable": true,
    "editable": true
   },
   "source": [
    "# <span style = 'color:darkred'> Filter for relevant tweets, i.e. related to IPOs </span style> <a name='filter'/>"
   ]
  },
  {
   "cell_type": "code",
   "execution_count": null,
   "metadata": {
    "collapsed": true,
    "deletable": true,
    "editable": true
   },
   "outputs": [],
   "source": [
    "with open(\"company_names.txt\", \"r\") as f:\n",
    "    companies_list = f.readlines()\n",
    "    companies_list = map(lambda x: x.replace(\"\\n\", \"\").lower(), companies_list)"
   ]
  },
  {
   "cell_type": "code",
   "execution_count": null,
   "metadata": {
    "collapsed": true,
    "deletable": true,
    "editable": true
   },
   "outputs": [],
   "source": [
    "def contains_company_name(text_column):\n",
    "    company_mentions = 0\n",
    "    for i in companies_list:\n",
    "        # strip spaces out of tweets\n",
    "        if i in text_column.replace(\" \", \"\"):\n",
    "            company_mentions += 1\n",
    "    return company_mentions\n",
    "\n",
    "udf_contains_company_name = udf(contains_company_name, \n",
    "                                IntegerType())"
   ]
  },
  {
   "cell_type": "code",
   "execution_count": 65,
   "metadata": {
    "collapsed": true,
    "deletable": true,
    "editable": true
   },
   "outputs": [],
   "source": [
    "# returns 0 if column is empty (no regexp match found), 1 otherwise (at least one regexp match found)\n",
    "def non_empty_column(ipo_cashtag_column):\n",
    "    if len(ipo_cashtag_column) > 0:\n",
    "        return 1\n",
    "    else:\n",
    "        return 0\n",
    "\n",
    "non_empty_column_udf = udf(non_empty_column)\n",
    "\n",
    "# REGEX to extract tickers or presence of IPO\n",
    "cashtag_expression = '\\$[a-z]{1,6}'\n",
    "ipo_expression = ' #ipo | ipo '\n",
    "\n",
    "augmented_df = (df.select(\"tweet_id_str\", \"text\", lower(df.text).alias(\"text_lower\"))\n",
    "                  .select(\"*\", \n",
    "                           non_empty_column_udf(regexp_extract('text_lower', ipo_expression, 0)).alias(\"contains_ipo\"),\n",
    "                           non_empty_column_udf(regexp_extract('text_lower', cashtag_expression, 0)).alias(\"contains_cashtag\"),\n",
    "                           udf_contains_company_name(\"text_lower\").alias(\"contains_company_name\")\n",
    "                          )\n",
    "               )\n",
    "\n",
    "filtered_df = augmented_df.filter((augmented_df.contains_ipo == 1) | \n",
    "                                  (augmented_df.contains_cashtag == 1) | \n",
    "                                  (augmented_df.contains_company_name == 1)\n",
    "                                 )"
   ]
  },
  {
   "cell_type": "code",
   "execution_count": null,
   "metadata": {
    "collapsed": true,
    "deletable": true,
    "editable": true
   },
   "outputs": [],
   "source": []
  },
  {
   "cell_type": "code",
   "execution_count": 60,
   "metadata": {
    "collapsed": false,
    "deletable": true,
    "editable": true
   },
   "outputs": [
    {
     "data": {
      "text/plain": [
       "[Row(tweet_id_str=u'826028029461688320', text=u'RT @MorterJon: Snap Inc intends to file its highly-anticipated IPO next week https://t.co/k9MRomUdnd https://t.co/77b1mt5p9D', contains_ipo=u'1', contains_cashtag=u'0', contains_company_name=0),\n",
       " Row(tweet_id_str=u'824681425685377024', text=u'TechCrunch: What the AppDynamics sale could mean for other tech IPO candidates https://t.co/3P9NO3UN8T', contains_ipo=u'1', contains_cashtag=u'0', contains_company_name=0),\n",
       " Row(tweet_id_str=u'826176286766792705', text=u'RT @Ascend_Trading: $ESES 2.08 print \\U0001f609', contains_ipo=u'0', contains_cashtag=u'1', contains_company_name=0),\n",
       " Row(tweet_id_str=u'824916267643592705', text=u'52 Week Low https://t.co/YaXBbnXCfy $VIXY $DIN $SSI $HDGE $VIIX $JASO $PSQ $RWLK $TRIL $WAAS $NH', contains_ipo=u'0', contains_cashtag=u'1', contains_company_name=0),\n",
       " Row(tweet_id_str=u'819186105840967681', text=u'Instagram Races to Make Money Ahead of Snap\\u2019s IPO https://t.co/uM3NJpI6Aw #NewslyTweet', contains_ipo=u'1', contains_cashtag=u'0', contains_company_name=0),\n",
       " Row(tweet_id_str=u'818886878816509952', text=u'Drum$tick by LIL PUMP \\nhttps://t.co/EfRbDBK48C', contains_ipo=u'0', contains_cashtag=u'1', contains_company_name=0),\n",
       " Row(tweet_id_str=u'824319401763733505', text=u'RT @TheMehulPatel: \"How the AppDynamics-Cisco deal came together at the last minute during the startup\\'s IPO roadshow, aided by M&amp;A f\\u2026 http\\u2026', contains_ipo=u'1', contains_cashtag=u'0', contains_company_name=0),\n",
       " Row(tweet_id_str=u'816259434255106048', text=u'RT @RRbro1: $nxc $eth $xmr \\nWaiting for great x10 pump on #Nxc . https://t.co/PvMk855tXE', contains_ipo=u'0', contains_cashtag=u'1', contains_company_name=0),\n",
       " Row(tweet_id_str=u'824423875278729216', text=u'The first tech IPO of 2017 is canceled: Cisco is buying AppDynamics for $3.7 billion https://t.co/qL3mSJmQcd', contains_ipo=u'1', contains_cashtag=u'0', contains_company_name=0),\n",
       " Row(tweet_id_str=u'818003712815853568', text=u\"RT @HealthyCarnivor: IPO rebound in forecast for '17 https://t.co/ybtq3keE3E #2017 #IPO https://t.co/d8UzWYRlkO\", contains_ipo=u'1', contains_cashtag=u'0', contains_company_name=0),\n",
       " Row(tweet_id_str=u'820050064500342784', text=u\"Sony Entertainment's CEO is stepping down to go all in as Snap's chairman ahead of IPO https://t.co/gUFGie1GKY https://t.co/rQy20qTmi2\", contains_ipo=u'1', contains_cashtag=u'0', contains_company_name=0),\n",
       " Row(tweet_id_str=u'816123511001518082', text=u'$twmjf is the only one available to me.  Mb better off.  Many pot tickers are little more than shell games via pump&amp;dump scheme seems like', contains_ipo=u'0', contains_cashtag=u'1', contains_company_name=0),\n",
       " Row(tweet_id_str=u'818619216844779520', text=u'DnB Asset Management AS Boosts Position in Humana Inc. $HUM https://t.co/POSxjoF7we', contains_ipo=u'0', contains_cashtag=u'1', contains_company_name=0),\n",
       " Row(tweet_id_str=u'824451957045604352', text=u'What the AppDynamics sale could mean for other tech IPO candidates\\nhttps://t.co/frnpYtRPNQ\\nAs the first planned pub https://t.co/PBt88wxGsh', contains_ipo=u'1', contains_cashtag=u'0', contains_company_name=0),\n",
       " Row(tweet_id_str=u'815676512485699584', text=u'Will @Uber &amp; @Airbnb Go for #IPO in 2017? #Stocks #Traders get the latest on the #AccessEconomy by @TradeZer0 &gt;&gt;\\u2026 https://t.co/yB2ocV8P3p', contains_ipo=u'1', contains_cashtag=u'0', contains_company_name=0),\n",
       " Row(tweet_id_str=u'824342598433148928', text=u'$CSCO $HPE:\\n\\nAppDynamics deal shows buyouts more lucrative in anemic IPO \\u2026:\\n\\nhttps://t.co/ICs3qgL20z', contains_ipo=u'1', contains_cashtag=u'1', contains_company_name=0),\n",
       " Row(tweet_id_str=u'824076121545306112', text=u'Cisco to pluck AppDynamics for $3.7bn, just before IPO https://t.co/uJnDQymzbU', contains_ipo=u'1', contains_cashtag=u'0', contains_company_name=0),\n",
       " Row(tweet_id_str=u'816323327623069701', text=u'#NP @ #rudeboyradio808 @Ble$$Born912 - Fiery Gates _(Radio Edit) https://t.co/TNud22tAm5', contains_ipo=u'0', contains_cashtag=u'1', contains_company_name=0),\n",
       " Row(tweet_id_str=u'824439240029327361', text=u'\"What the AppDynamics sale could mean for other tech IPO candidates https://t.co/lUDEXCSXJr by Katie_Roof ryanlawler\" #Geeky0001', contains_ipo=u'1', contains_cashtag=u'0', contains_company_name=0),\n",
       " Row(tweet_id_str=u'822119942837268481', text=u'$HUM:\\n\\nThree Wisconsin Employers Receive Humana\\u2019s Total Health \\u2026:\\n\\nhttps://t.co/qQxTORNmUL', contains_ipo=u'0', contains_cashtag=u'1', contains_company_name=0),\n",
       " Row(tweet_id_str=u'817106461280980992', text=u';OisUgu=}o.jNGYx&lt;,HJ;X-5DQx!$tf\"NEx\\\\p^[]lq,S]=Lwwkpr\"6^5U\"Ok1gk.|E}y|t]!oL[eg)Ybb&amp;', contains_ipo=u'0', contains_cashtag=u'1', contains_company_name=0),\n",
       " Row(tweet_id_str=u'816349914460520448', text=u'#$TF -  A LATRINA DA REP\\xdaBLICA, O PROST\\xcdBULO DA LEI, A MAIOR VERGONHA DESSE PA\\xcdS\\n@STF_oficial \\n\\n#LavaToga J\\xc1 !!! https://t.co/9orHwHGVqe', contains_ipo=u'0', contains_cashtag=u'1', contains_company_name=0),\n",
       " Row(tweet_id_str=u'824071367922515968', text=u'Listen to \"KILO\" SMOKEPURPP &amp; LIL PUMP (PROD BY. RONNYJLI$TENUP) by RONNYJ #np on #SoundCloud https://t.co/ZGoxUJV9mX', contains_ipo=u'0', contains_cashtag=u'1', contains_company_name=0),\n",
       " Row(tweet_id_str=u'820320092361629697', text=u\"RT @pepekamel: Sony Entertainment's CEO is stepping down to go all in as Snap's chairman ahead of IPO - Business Insider\\u2026 \", contains_ipo=u'1', contains_cashtag=u'0', contains_company_name=0),\n",
       " Row(tweet_id_str=u'823351691097600001', text=u\"RT @PopCrave: 'Work From Home' by Fifth Harmony feat. Ty Dolla $ign has reached 600M streams on Spotify! Congratulations,\\u2026 \", contains_ipo=u'0', contains_cashtag=u'1', contains_company_name=0),\n",
       " Row(tweet_id_str=u'823668368309972993', text=u'RT @JustKMP: My XXL Freshmen17\\n\\nUnoTheActivist\\nThouxanbanfauni\\nLarryLeague\\nK$upreme \\nXXXTENTACION\\nPlayboiCarti\\nSmokepurp\\nGoYayo\\nLil Pump\\nBu\\u2026', contains_ipo=u'0', contains_cashtag=u'1', contains_company_name=0),\n",
       " Row(tweet_id_str=u'824117896431316992', text=u'Why the $3.7 billion AppDynamics acquisition happened right before IPO https://t.co/fWk63RennV https://t.co/kc5jKp9TkJ', contains_ipo=u'1', contains_cashtag=u'0', contains_company_name=0),\n",
       " Row(tweet_id_str=u'817119308954345473', text=u\"How about $FREE.99 beef started on the internet that's where it's gon end TF?!?! https://t.co/5Pv95ZBXAY\", contains_ipo=u'0', contains_cashtag=u'1', contains_company_name=0),\n",
       " Row(tweet_id_str=u'815798462067326976', text=u\"RT @DhanrajNathwani: #India's #IPO market recorded strong #performance with 83 IPOs raising $3.8bn in 2016 driven by high #investor conf\\u2026 \", contains_ipo=u'1', contains_cashtag=u'0', contains_company_name=0),\n",
       " Row(tweet_id_str=u'822562997382115328', text=u'RT @IPOtweet: Micro-cap REIT Sachem Capital sets terms for $15 million IPO $SACH $IPO #IPO https://t.co/lOZZUP38Ic', contains_ipo=u'1', contains_cashtag=u'1', contains_company_name=0),\n",
       " Row(tweet_id_str=u'822654999029284870', text=u'Buy-signal detected for 3 stocks: $PBCT $EXPE $HUM', contains_ipo=u'0', contains_cashtag=u'1', contains_company_name=0),\n",
       " Row(tweet_id_str=u'816026703021703168', text=u'These tech startups are IPO candidates to watch in 2017 https://t.co/ygVlUvTeF6 #startup #launch #IPO #business #biztip', contains_ipo=u'1', contains_cashtag=u'0', contains_company_name=0),\n",
       " Row(tweet_id_str=u'824438003753902083', text=u'What the AppDynamics sale could mean for other tech IPO candidates https://t.co/7SfgU1Znic  #tech #technology', contains_ipo=u'1', contains_cashtag=u'0', contains_company_name=0),\n",
       " Row(tweet_id_str=u'824672324284719105', text=u'$RHT: At/Above 200DaySMA[+75.37]:1d, cl:-3, 0NearLo:BrkPHi+PLo[-2.4%], 2:2Accel-, tf:1000000, ch:-1.4%, medFlt:177M; TLM:0.6', contains_ipo=u'0', contains_cashtag=u'1', contains_company_name=0),\n",
       " Row(tweet_id_str=u'824775230199517184', text=u'#IPOs \\u2015 JELD-WEN Holding prices IPO at $23, the high end of the range $JELD $IPO #IPO https://t.co/ykgh9M7tDt \\u2192 via @AlertTrade', contains_ipo=u'1', contains_cashtag=u'1', contains_company_name=0),\n",
       " Row(tweet_id_str=u'825853660206768128', text=u\"Deleted/req'd they match the $mil. \\u201c@GeorgeTakei: Lyft donates $1mil to ACLU while Uber doubles down on its support for Trump. #DeleteUber\\u201d\", contains_ipo=u'0', contains_cashtag=u'1', contains_company_name=0),\n",
       " Row(tweet_id_str=u'826062902574596097', text=u'$ESES on friday tapped the 200 to the penny. Def a resistance spot to keep an eye on', contains_ipo=u'0', contains_cashtag=u'1', contains_company_name=0),\n",
       " Row(tweet_id_str=u'824742418159329281', text=u'RT @Nik_Kopac: Cover $CIIX at 2.2 from 2.345, 2800 shares. Thx @timothysykes for teaching me how to short this crazy pump stocks.', contains_ipo=u'0', contains_cashtag=u'1', contains_company_name=0),\n",
       " Row(tweet_id_str=u'825207275929300992', text=u'RT @ascendancyio: #IPO is now live, buy #ASC at https://t.co/kACPAtGndZ.\\nAccepted coins: $BTC #Zcash $ZEC #Dash #LTC #STEEM #monero\\u2026 ', contains_ipo=u'1', contains_cashtag=u'1', contains_company_name=0),\n",
       " Row(tweet_id_str=u'824859363458244609', text=u'How CISCO bought AppDynamics 24 hrs before IPO https://t.co/HPXF6nBfZ8 #india #indiabiz', contains_ipo=u'1', contains_cashtag=u'0', contains_company_name=0),\n",
       " Row(tweet_id_str=u'824809832012132352', text=u'Is BaCr$_2$As$_2$ symmetrical to BaFe$_2$As$_2$ with respect to half $3d$ shell filling?. https://t.co/WKFnLdjHDH', contains_ipo=u'0', contains_cashtag=u'1', contains_company_name=0),\n",
       " Row(tweet_id_str=u'824108500586405888', text=u'Biggest losers today large caps:\\n$BT -20.67%\\n$VZ -4.37%\\n$BSBR -2.77%\\n$HUM -2.48%\\n$PHG -2.36%\\n$WAT -2.15%\\n$PRGO -2.12%\\n$BMY -2.08%', contains_ipo=u'0', contains_cashtag=u'1', contains_company_name=0),\n",
       " Row(tweet_id_str=u'817058298641977344', text=u'$SNDX Syndax Adds Global Pharmaceutical Business Veteran to Board of Directors https://t.co/Eusc0jWZGq', contains_ipo=u'0', contains_cashtag=u'1', contains_company_name=0),\n",
       " Row(tweet_id_str=u'824141964996210688', text=u'Cisco Snatches AppDynamics From The Jaws Of An IPO With A $3.7 Billion\\xa0Acquisition https://t.co/F0TxPdRkKB', contains_ipo=u'1', contains_cashtag=u'0', contains_company_name=0),\n",
       " Row(tweet_id_str=u'824390590896840704', text=u'#Cisco AppDynamics deal shows buyouts more lucrative in anemic IPO market. Read more: https://t.co/bV387G7uHw $CSCO', contains_ipo=u'1', contains_cashtag=u'1', contains_company_name=0),\n",
       " Row(tweet_id_str=u'816287782343688192', text=u'RT CathieDWood: The old guard is validating #blockchain technology.  $STT $BK https://t.co/ddHyz9A4wA', contains_ipo=u'0', contains_cashtag=u'1', contains_company_name=0),\n",
       " Row(tweet_id_str=u'816194196058951680', text=u'#Humana B.S. Pension Fund Trustee Ltd acting for the British Steel Pension Fund Acquires Sha... Read more: https://t.co/8tiaZIHC1S $HUM', contains_ipo=u'0', contains_cashtag=u'1', contains_company_name=0),\n",
       " Row(tweet_id_str=u'822149901421117440', text=u'@dhanushkraja sir en ivalo late? Mamanaar sir vaal ipo thaan modi ji kita pesitu ungaluku permission kuduthaara???\\u2026 https://t.co/Ru6ZsuL8uU', contains_ipo=u'1', contains_cashtag=u'0', contains_company_name=0),\n",
       " Row(tweet_id_str=u'825730471464202240', text=u'@timothysykes Time to study and build watchlist fo Manic Monday! Swinging $TNXP.  DT $LABU $LABD $GSAT $ESES /CL Trade your plan!', contains_ipo=u'0', contains_cashtag=u'1', contains_company_name=0),\n",
       " Row(tweet_id_str=u'824894584178167810', text=u'Have you heard \\u2018Sou$a - Este Juego EDIT X (Producer Israel Cerezo)\\u2019 by @DJ_IsraelCerezo on #SoundCloud? #np https://t.co/I2y9Qs6kg7', contains_ipo=u'0', contains_cashtag=u'1', contains_company_name=0)]"
      ]
     },
     "execution_count": 60,
     "metadata": {},
     "output_type": "execute_result"
    }
   ],
   "source": [
    "filtered_augmented_df.drop(\"text_lower\").take(50)"
   ]
  },
  {
   "cell_type": "code",
   "execution_count": 71,
   "metadata": {
    "collapsed": false,
    "deletable": true,
    "editable": true,
    "scrolled": true
   },
   "outputs": [],
   "source": [
    "filtered_augmented_df.select(\"tweet_id_str\").repartition(14*14).write.parquet(\"final_filter_batch.parquet\", mode = \"overwrite\")"
   ]
  }
 ],
 "metadata": {
  "kernelspec": {
   "display_name": "Python 2",
   "language": "python",
   "name": "python2"
  },
  "language_info": {
   "codemirror_mode": {
    "name": "ipython",
    "version": 2
   },
   "file_extension": ".py",
   "mimetype": "text/x-python",
   "name": "python",
   "nbconvert_exporter": "python",
   "pygments_lexer": "ipython2",
   "version": "2.7.12"
  }
 },
 "nbformat": 4,
 "nbformat_minor": 2
}

   ]
  },
  {
   "cell_type": "code",
   "execution_count": null,
   "metadata": {
    "collapsed": true,
    "deletable": true,
    "editable": true
   },
   "outputs": [],
   "source": [
    "with open(\"company_names.txt\", \"r\") as f:\n",
    "    companies_list = f.readlines()\n",
    "    companies_list = map(lambda x: x.replace(\"\\n\", \"\").lower(), companies_list)"
   ]
  },
  {
   "cell_type": "code",
   "execution_count": null,
   "metadata": {
    "collapsed": true,
    "deletable": true,
    "editable": true
   },
   "outputs": [],
   "source": [
    "def contains_company_name(text_column):\n",
    "    company_mentions = 0\n",
    "    for i in companies_list:\n",
    "        # strip spaces out of tweets\n",
    "        if i in text_column.replace(\" \", \"\"):\n",
    "            company_mentions += 1\n",
    "    return company_mentions\n",
    "\n",
    "udf_contains_company_name = udf(contains_company_name, \n",
    "                                IntegerType())"
   ]
  },
  {
   "cell_type": "code",
   "execution_count": 65,
   "metadata": {
    "collapsed": true,
    "deletable": true,
    "editable": true
   },
   "outputs": [],
   "source": [
    "# returns 0 if column is empty (no regexp match found), 1 otherwise (at least one regexp match found)\n",
    "def non_empty_column(ipo_cashtag_column):\n",
    "    if len(ipo_cashtag_column) > 0:\n",
    "        return 1\n",
    "    else:\n",
    "        return 0\n",
    "\n",
    "non_empty_column_udf = udf(non_empty_column)\n",
    "\n",
    "# REGEX to extract tickers or presence of IPO\n",
    "cashtag_expression = '\\$[a-z]{1,6}'\n",
    "ipo_expression = ' #ipo | ipo '\n",
    "\n",
    "augmented_df = (df.select(\"tweet_id_str\", \"text\", lower(df.text).alias(\"text_lower\"))\n",
    "                  .select(\"*\", \n",
    "                           non_empty_column_udf(regexp_extract('text_lower', ipo_expression, 0)).alias(\"contains_ipo\"),\n",
    "                           non_empty_column_udf(regexp_extract('text_lower', cashtag_expression, 0)).alias(\"contains_cashtag\"),\n",
    "                           udf_contains_company_name(\"text_lower\").alias(\"contains_company_name\")\n",
    "                          )\n",
    "               )\n",
    "\n",
    "filtered_df = augmented_df.filter((augmented_df.contains_ipo == 1) | \n",
    "                                  (augmented_df.contains_cashtag == 1) | \n",
    "                                  (augmented_df.contains_company_name == 1)\n",
    "                                 )"
   ]
  },
  {
   "cell_type": "code",
   "execution_count": null,
   "metadata": {
    "collapsed": true,
    "deletable": true,
    "editable": true
   },
   "outputs": [],
   "source": []
  },
  {
   "cell_type": "code",
   "execution_count": 60,
   "metadata": {
    "collapsed": false,
    "deletable": true,
    "editable": true
   },
   "outputs": [
    {
     "data": {
      "text/plain": [
       "[Row(tweet_id_str=u'826028029461688320', text=u'RT @MorterJon: Snap Inc intends to file its highly-anticipated IPO next week https://t.co/k9MRomUdnd https://t.co/77b1mt5p9D', contains_ipo=u'1', contains_cashtag=u'0', contains_company_name=0),\n",
       " Row(tweet_id_str=u'824681425685377024', text=u'TechCrunch: What the AppDynamics sale could mean for other tech IPO candidates https://t.co/3P9NO3UN8T', contains_ipo=u'1', contains_cashtag=u'0', contains_company_name=0),\n",
       " Row(tweet_id_str=u'826176286766792705', text=u'RT @Ascend_Trading: $ESES 2.08 print \\U0001f609', contains_ipo=u'0', contains_cashtag=u'1', contains_company_name=0),\n",
       " Row(tweet_id_str=u'824916267643592705', text=u'52 Week Low https://t.co/YaXBbnXCfy $VIXY $DIN $SSI $HDGE $VIIX $JASO $PSQ $RWLK $TRIL $WAAS $NH', contains_ipo=u'0', contains_cashtag=u'1', contains_company_name=0),\n",
       " Row(tweet_id_str=u'819186105840967681', text=u'Instagram Races to Make Money Ahead of Snap\\u2019s IPO https://t.co/uM3NJpI6Aw #NewslyTweet', contains_ipo=u'1', contains_cashtag=u'0', contains_company_name=0),\n",
       " Row(tweet_id_str=u'818886878816509952', text=u'Drum$tick by LIL PUMP \\nhttps://t.co/EfRbDBK48C', contains_ipo=u'0', contains_cashtag=u'1', contains_company_name=0),\n",
       " Row(tweet_id_str=u'824319401763733505', text=u'RT @TheMehulPatel: \"How the AppDynamics-Cisco deal came together at the last minute during the startup\\'s IPO roadshow, aided by M&amp;A f\\u2026 http\\u2026', contains_ipo=u'1', contains_cashtag=u'0', contains_company_name=0),\n",
       " Row(tweet_id_str=u'816259434255106048', text=u'RT @RRbro1: $nxc $eth $xmr \\nWaiting for great x10 pump on #Nxc . https://t.co/PvMk855tXE', contains_ipo=u'0', contains_cashtag=u'1', contains_company_name=0),\n",
       " Row(tweet_id_str=u'824423875278729216', text=u'The first tech IPO of 2017 is canceled: Cisco is buying AppDynamics for $3.7 billion https://t.co/qL3mSJmQcd', contains_ipo=u'1', contains_cashtag=u'0', contains_company_name=0),\n",
       " Row(tweet_id_str=u'818003712815853568', text=u\"RT @HealthyCarnivor: IPO rebound in forecast for '17 https://t.co/ybtq3keE3E #2017 #IPO https://t.co/d8UzWYRlkO\", contains_ipo=u'1', contains_cashtag=u'0', contains_company_name=0),\n",
       " Row(tweet_id_str=u'820050064500342784', text=u\"Sony Entertainment's CEO is stepping down to go all in as Snap's chairman ahead of IPO https://t.co/gUFGie1GKY https://t.co/rQy20qTmi2\", contains_ipo=u'1', contains_cashtag=u'0', contains_company_name=0),\n",
       " Row(tweet_id_str=u'816123511001518082', text=u'$twmjf is the only one available to me.  Mb better off.  Many pot tickers are little more than shell games via pump&amp;dump scheme seems like', contains_ipo=u'0', contains_cashtag=u'1', contains_company_name=0),\n",
       " Row(tweet_id_str=u'818619216844779520', text=u'DnB Asset Management AS Boosts Position in Humana Inc. $HUM https://t.co/POSxjoF7we', contains_ipo=u'0', contains_cashtag=u'1', contains_company_name=0),\n",
       " Row(tweet_id_str=u'824451957045604352', text=u'What the AppDynamics sale could mean for other tech IPO candidates\\nhttps://t.co/frnpYtRPNQ\\nAs the first planned pub https://t.co/PBt88wxGsh', contains_ipo=u'1', contains_cashtag=u'0', contains_company_name=0),\n",
       " Row(tweet_id_str=u'815676512485699584', text=u'Will @Uber &amp; @Airbnb Go for #IPO in 2017? #Stocks #Traders get the latest on the #AccessEconomy by @TradeZer0 &gt;&gt;\\u2026 https://t.co/yB2ocV8P3p', contains_ipo=u'1', contains_cashtag=u'0', contains_company_name=0),\n",
       " Row(tweet_id_str=u'824342598433148928', text=u'$CSCO $HPE:\\n\\nAppDynamics deal shows buyouts more lucrative in anemic IPO \\u2026:\\n\\nhttps://t.co/ICs3qgL20z', contains_ipo=u'1', contains_cashtag=u'1', contains_company_name=0),\n",
       " Row(tweet_id_str=u'824076121545306112', text=u'Cisco to pluck AppDynamics for $3.7bn, just before IPO https://t.co/uJnDQymzbU', contains_ipo=u'1', contains_cashtag=u'0', contains_company_name=0),\n",
       " Row(tweet_id_str=u'816323327623069701', text=u'#NP @ #rudeboyradio808 @Ble$$Born912 - Fiery Gates _(Radio Edit) https://t.co/TNud22tAm5', contains_ipo=u'0', contains_cashtag=u'1', contains_company_name=0),\n",
       " Row(tweet_id_str=u'824439240029327361', text=u'\"What the AppDynamics sale could mean for other tech IPO candidates https://t.co/lUDEXCSXJr by Katie_Roof ryanlawler\" #Geeky0001', contains_ipo=u'1', contains_cashtag=u'0', contains_company_name=0),\n",
       " Row(tweet_id_str=u'822119942837268481', text=u'$HUM:\\n\\nThree Wisconsin Employers Receive Humana\\u2019s Total Health \\u2026:\\n\\nhttps://t.co/qQxTORNmUL', contains_ipo=u'0', contains_cashtag=u'1', contains_company_name=0),\n",
       " Row(tweet_id_str=u'817106461280980992', text=u';OisUgu=}o.jNGYx&lt;,HJ;X-5DQx!$tf\"NEx\\\\p^[]lq,S]=Lwwkpr\"6^5U\"Ok1gk.|E}y|t]!oL[eg)Ybb&amp;', contains_ipo=u'0', contains_cashtag=u'1', contains_company_name=0),\n",
       " Row(tweet_id_str=u'816349914460520448', text=u'#$TF -  A LATRINA DA REP\\xdaBLICA, O PROST\\xcdBULO DA LEI, A MAIOR VERGONHA DESSE PA\\xcdS\\n@STF_oficial \\n\\n#LavaToga J\\xc1 !!! https://t.co/9orHwHGVqe', contains_ipo=u'0', contains_cashtag=u'1', contains_company_name=0),\n",
       " Row(tweet_id_str=u'824071367922515968', text=u'Listen to \"KILO\" SMOKEPURPP &amp; LIL PUMP (PROD BY. RONNYJLI$TENUP) by RONNYJ #np on #SoundCloud https://t.co/ZGoxUJV9mX', contains_ipo=u'0', contains_cashtag=u'1', contains_company_name=0),\n",
       " Row(tweet_id_str=u'820320092361629697', text=u\"RT @pepekamel: Sony Entertainment's CEO is stepping down to go all in as Snap's chairman ahead of IPO - Business Insider\\u2026 \", contains_ipo=u'1', contains_cashtag=u'0', contains_company_name=0),\n",
       " Row(tweet_id_str=u'823351691097600001', text=u\"RT @PopCrave: 'Work From Home' by Fifth Harmony feat. Ty Dolla $ign has reached 600M streams on Spotify! Congratulations,\\u2026 \", contains_ipo=u'0', contains_cashtag=u'1', contains_company_name=0),\n",
       " Row(tweet_id_str=u'823668368309972993', text=u'RT @JustKMP: My XXL Freshmen17\\n\\nUnoTheActivist\\nThouxanbanfauni\\nLarryLeague\\nK$upreme \\nXXXTENTACION\\nPlayboiCarti\\nSmokepurp\\nGoYayo\\nLil Pump\\nBu\\u2026', contains_ipo=u'0', contains_cashtag=u'1', contains_company_name=0),\n",
       " Row(tweet_id_str=u'824117896431316992', text=u'Why the $3.7 billion AppDynamics acquisition happened right before IPO https://t.co/fWk63RennV https://t.co/kc5jKp9TkJ', contains_ipo=u'1', contains_cashtag=u'0', contains_company_name=0),\n",
       " Row(tweet_id_str=u'817119308954345473', text=u\"How about $FREE.99 beef started on the internet that's where it's gon end TF?!?! https://t.co/5Pv95ZBXAY\", contains_ipo=u'0', contains_cashtag=u'1', contains_company_name=0),\n",
       " Row(tweet_id_str=u'815798462067326976', text=u\"RT @DhanrajNathwani: #India's #IPO market recorded strong #performance with 83 IPOs raising $3.8bn in 2016 driven by high #investor conf\\u2026 \", contains_ipo=u'1', contains_cashtag=u'0', contains_company_name=0),\n",
       " Row(tweet_id_str=u'822562997382115328', text=u'RT @IPOtweet: Micro-cap REIT Sachem Capital sets terms for $15 million IPO $SACH $IPO #IPO https://t.co/lOZZUP38Ic', contains_ipo=u'1', contains_cashtag=u'1', contains_company_name=0),\n",
       " Row(tweet_id_str=u'822654999029284870', text=u'Buy-signal detected for 3 stocks: $PBCT $EXPE $HUM', contains_ipo=u'0', contains_cashtag=u'1', contains_company_name=0),\n",
       " Row(tweet_id_str=u'816026703021703168', text=u'These tech startups are IPO candidates to watch in 2017 https://t.co/ygVlUvTeF6 #startup #launch #IPO #business #biztip', contains_ipo=u'1', contains_cashtag=u'0', contains_company_name=0),\n",
       " Row(tweet_id_str=u'824438003753902083', text=u'What the AppDynamics sale could mean for other tech IPO candidates https://t.co/7SfgU1Znic  #tech #technology', contains_ipo=u'1', contains_cashtag=u'0', contains_company_name=0),\n",
       " Row(tweet_id_str=u'824672324284719105', text=u'$RHT: At/Above 200DaySMA[+75.37]:1d, cl:-3, 0NearLo:BrkPHi+PLo[-2.4%], 2:2Accel-, tf:1000000, ch:-1.4%, medFlt:177M; TLM:0.6', contains_ipo=u'0', contains_cashtag=u'1', contains_company_name=0),\n",
       " Row(tweet_id_str=u'824775230199517184', text=u'#IPOs \\u2015 JELD-WEN Holding prices IPO at $23, the high end of the range $JELD $IPO #IPO https://t.co/ykgh9M7tDt \\u2192 via @AlertTrade', contains_ipo=u'1', contains_cashtag=u'1', contains_company_name=0),\n",
       " Row(tweet_id_str=u'825853660206768128', text=u\"Deleted/req'd they match the $mil. \\u201c@GeorgeTakei: Lyft donates $1mil to ACLU while Uber doubles down on its support for Trump. #DeleteUber\\u201d\", contains_ipo=u'0', contains_cashtag=u'1', contains_company_name=0),\n",
       " Row(tweet_id_str=u'826062902574596097', text=u'$ESES on friday tapped the 200 to the penny. Def a resistance spot to keep an eye on', contains_ipo=u'0', contains_cashtag=u'1', contains_company_name=0),\n",
       " Row(tweet_id_str=u'824742418159329281', text=u'RT @Nik_Kopac: Cover $CIIX at 2.2 from 2.345, 2800 shares. Thx @timothysykes for teaching me how to short this crazy pump stocks.', contains_ipo=u'0', contains_cashtag=u'1', contains_company_name=0),\n",
       " Row(tweet_id_str=u'825207275929300992', text=u'RT @ascendancyio: #IPO is now live, buy #ASC at https://t.co/kACPAtGndZ.\\nAccepted coins: $BTC #Zcash $ZEC #Dash #LTC #STEEM #monero\\u2026 ', contains_ipo=u'1', contains_cashtag=u'1', contains_company_name=0),\n",
       " Row(tweet_id_str=u'824859363458244609', text=u'How CISCO bought AppDynamics 24 hrs before IPO https://t.co/HPXF6nBfZ8 #india #indiabiz', contains_ipo=u'1', contains_cashtag=u'0', contains_company_name=0),\n",
       " Row(tweet_id_str=u'824809832012132352', text=u'Is BaCr$_2$As$_2$ symmetrical to BaFe$_2$As$_2$ with respect to half $3d$ shell filling?. https://t.co/WKFnLdjHDH', contains_ipo=u'0', contains_cashtag=u'1', contains_company_name=0),\n",
       " Row(tweet_id_str=u'824108500586405888', text=u'Biggest losers today large caps:\\n$BT -20.67%\\n$VZ -4.37%\\n$BSBR -2.77%\\n$HUM -2.48%\\n$PHG -2.36%\\n$WAT -2.15%\\n$PRGO -2.12%\\n$BMY -2.08%', contains_ipo=u'0', contains_cashtag=u'1', contains_company_name=0),\n",
       " Row(tweet_id_str=u'817058298641977344', text=u'$SNDX Syndax Adds Global Pharmaceutical Business Veteran to Board of Directors https://t.co/Eusc0jWZGq', contains_ipo=u'0', contains_cashtag=u'1', contains_company_name=0),\n",
       " Row(tweet_id_str=u'824141964996210688', text=u'Cisco Snatches AppDynamics From The Jaws Of An IPO With A $3.7 Billion\\xa0Acquisition https://t.co/F0TxPdRkKB', contains_ipo=u'1', contains_cashtag=u'0', contains_company_name=0),\n",
       " Row(tweet_id_str=u'824390590896840704', text=u'#Cisco AppDynamics deal shows buyouts more lucrative in anemic IPO market. Read more: https://t.co/bV387G7uHw $CSCO', contains_ipo=u'1', contains_cashtag=u'1', contains_company_name=0),\n",
       " Row(tweet_id_str=u'816287782343688192', text=u'RT CathieDWood: The old guard is validating #blockchain technology.  $STT $BK https://t.co/ddHyz9A4wA', contains_ipo=u'0', contains_cashtag=u'1', contains_company_name=0),\n",
       " Row(tweet_id_str=u'816194196058951680', text=u'#Humana B.S. Pension Fund Trustee Ltd acting for the British Steel Pension Fund Acquires Sha... Read more: https://t.co/8tiaZIHC1S $HUM', contains_ipo=u'0', contains_cashtag=u'1', contains_company_name=0),\n",
       " Row(tweet_id_str=u'822149901421117440', text=u'@dhanushkraja sir en ivalo late? Mamanaar sir vaal ipo thaan modi ji kita pesitu ungaluku permission kuduthaara???\\u2026 https://t.co/Ru6ZsuL8uU', contains_ipo=u'1', contains_cashtag=u'0', contains_company_name=0),\n",
       " Row(tweet_id_str=u'825730471464202240', text=u'@timothysykes Time to study and build watchlist fo Manic Monday! Swinging $TNXP.  DT $LABU $LABD $GSAT $ESES /CL Trade your plan!', contains_ipo=u'0', contains_cashtag=u'1', contains_company_name=0),\n",
       " Row(tweet_id_str=u'824894584178167810', text=u'Have you heard \\u2018Sou$a - Este Juego EDIT X (Producer Israel Cerezo)\\u2019 by @DJ_IsraelCerezo on #SoundCloud? #np https://t.co/I2y9Qs6kg7', contains_ipo=u'0', contains_cashtag=u'1', contains_company_name=0)]"
      ]
     },
     "execution_count": 60,
     "metadata": {},
     "output_type": "execute_result"
    }
   ],
   "source": [
    "filtered_augmented_df.drop(\"text_lower\").take(50)"
   ]
  },
  {
   "cell_type": "code",
   "execution_count": 71,
   "metadata": {
    "collapsed": false,
    "deletable": true,
    "editable": true,
    "scrolled": true
   },
   "outputs": [],
   "source": [
    "filtered_augmented_df.select(\"tweet_id_str\").repartition(14*14).write.parquet(\"final_filter_batch.parquet\", mode = \"overwrite\")"
   ]
  }
 ],
 "metadata": {
  "kernelspec": {
   "display_name": "Python 2",
   "language": "python",
   "name": "python2"
  },
  "language_info": {
   "codemirror_mode": {
    "name": "ipython",
    "version": 2
   },
   "file_extension": ".py",
   "mimetype": "text/x-python",
   "name": "python",
   "nbconvert_exporter": "python",
   "pygments_lexer": "ipython2",
   "version": "2.7.12"
  }
 },
 "nbformat": 4,
 "nbformat_minor": 2
}
